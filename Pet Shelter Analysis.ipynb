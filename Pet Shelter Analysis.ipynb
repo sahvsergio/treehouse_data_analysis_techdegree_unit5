{
 "cells": [
  {
   "cell_type": "markdown",
   "id": "c00611c2-f515-4961-9614-ee6130453119",
   "metadata": {
    "editable": true,
    "slideshow": {
     "slide_type": ""
    },
    "tags": []
   },
   "source": [
    "# Data Analysis Tech Degree Unit 5: Pet Shelter Analysis\n",
    "\n",
    "  ___\n",
    "\n",
    ">Use Python’s Pandas library  to analyze pet shelter data\n",
    ">\n",
    ">to answer important questions for stakeholders. "
   ]
  },
  {
   "cell_type": "code",
   "execution_count": null,
   "id": "a7489786-502c-454d-bf31-11cf52868ac4",
   "metadata": {},
   "outputs": [],
   "source": []
  },
  {
   "cell_type": "markdown",
   "id": "bcb86534-a921-4a92-80f8-f78b7573da9f",
   "metadata": {},
   "source": [
    "## Setting everyything up\n",
    "---\n",
    "\n",
    "In order to start working with the files, we need to import pandas as pd and reading the files\n",
    "\n",
    "``` python\n",
    "#import libraries\n",
    "import pandas as pd \n",
    "#reading the files \n",
    "intakes=pd.read_csv('aac_intakes.csv')\n",
    "intakes_outcomes=pd.read_csv('aac_intakes_outcomes.csv')\n",
    "outcomes=pd.read_csv('aac_outcomes.csv')\n",
    "```\n",
    "so let's do that next \n"
   ]
  },
  {
   "cell_type": "code",
   "execution_count": 270,
   "id": "6630def6-190d-4715-8796-2291b5d433db",
   "metadata": {},
   "outputs": [],
   "source": [
    "#import libraries\n",
    "import pandas as pd \n",
    "import matplotlib.pyplot as plt"
   ]
  },
  {
   "cell_type": "code",
   "execution_count": 271,
   "id": "80e3399e-6bf4-42b4-91d7-9869b00540fd",
   "metadata": {},
   "outputs": [],
   "source": [
    "#import data\n",
    "intakes=pd.read_csv('aac_intakes.csv')\n",
    "intakes_outcomes=pd.read_csv('aac_intakes_outcomes.csv')\n",
    "outcomes=pd.read_csv('aac_outcomes.csv')"
   ]
  },
  {
   "cell_type": "markdown",
   "id": "ba6fdbbc-b0fd-4570-8837-a0cf6c84d51c",
   "metadata": {},
   "source": [
    "## taking an initial look at the data from the csvs\n",
    "\n",
    "Let's apply the following methods to look at each dataframe for info\n",
    "* `head()`\n",
    "* `tail()`\n",
    "* `len()`\n",
    "* `shape`\n",
    "* `dtypes`"
   ]
  },
  {
   "cell_type": "markdown",
   "id": "40eaccf2-9843-4dc7-ace7-93163ce47fcf",
   "metadata": {},
   "source": [
    "### Taking a look at the intakes dataframe"
   ]
  },
  {
   "cell_type": "code",
   "execution_count": 272,
   "id": "85a04ada-4d76-4b00-a35c-b405a698800e",
   "metadata": {},
   "outputs": [
    {
     "data": {
      "text/html": [
       "<div>\n",
       "<style scoped>\n",
       "    .dataframe tbody tr th:only-of-type {\n",
       "        vertical-align: middle;\n",
       "    }\n",
       "\n",
       "    .dataframe tbody tr th {\n",
       "        vertical-align: top;\n",
       "    }\n",
       "\n",
       "    .dataframe thead th {\n",
       "        text-align: right;\n",
       "    }\n",
       "</style>\n",
       "<table border=\"1\" class=\"dataframe\">\n",
       "  <thead>\n",
       "    <tr style=\"text-align: right;\">\n",
       "      <th></th>\n",
       "      <th>age_upon_intake</th>\n",
       "      <th>animal_id</th>\n",
       "      <th>animal_type</th>\n",
       "      <th>breed</th>\n",
       "      <th>color</th>\n",
       "      <th>datetime</th>\n",
       "      <th>datetime2</th>\n",
       "      <th>found_location</th>\n",
       "      <th>intake_condition</th>\n",
       "      <th>intake_type</th>\n",
       "      <th>name</th>\n",
       "      <th>sex_upon_intake</th>\n",
       "    </tr>\n",
       "  </thead>\n",
       "  <tbody>\n",
       "    <tr>\n",
       "      <th>0</th>\n",
       "      <td>8 years</td>\n",
       "      <td>A706918</td>\n",
       "      <td>Dog</td>\n",
       "      <td>English Springer Spaniel</td>\n",
       "      <td>White/Liver</td>\n",
       "      <td>2015-07-05T12:59:00.000</td>\n",
       "      <td>2015-07-05T12:59:00.000</td>\n",
       "      <td>9409 Bluegrass Dr in Austin (TX)</td>\n",
       "      <td>Normal</td>\n",
       "      <td>Stray</td>\n",
       "      <td>Belle</td>\n",
       "      <td>Spayed Female</td>\n",
       "    </tr>\n",
       "    <tr>\n",
       "      <th>1</th>\n",
       "      <td>11 months</td>\n",
       "      <td>A724273</td>\n",
       "      <td>Dog</td>\n",
       "      <td>Basenji Mix</td>\n",
       "      <td>Sable/White</td>\n",
       "      <td>2016-04-14T18:43:00.000</td>\n",
       "      <td>2016-04-14T18:43:00.000</td>\n",
       "      <td>2818 Palomino Trail in Austin (TX)</td>\n",
       "      <td>Normal</td>\n",
       "      <td>Stray</td>\n",
       "      <td>Runster</td>\n",
       "      <td>Intact Male</td>\n",
       "    </tr>\n",
       "    <tr>\n",
       "      <th>2</th>\n",
       "      <td>4 weeks</td>\n",
       "      <td>A665644</td>\n",
       "      <td>Cat</td>\n",
       "      <td>Domestic Shorthair Mix</td>\n",
       "      <td>Calico</td>\n",
       "      <td>2013-10-21T07:59:00.000</td>\n",
       "      <td>2013-10-21T07:59:00.000</td>\n",
       "      <td>Austin (TX)</td>\n",
       "      <td>Sick</td>\n",
       "      <td>Stray</td>\n",
       "      <td>NaN</td>\n",
       "      <td>Intact Female</td>\n",
       "    </tr>\n",
       "    <tr>\n",
       "      <th>3</th>\n",
       "      <td>4 years</td>\n",
       "      <td>A682524</td>\n",
       "      <td>Dog</td>\n",
       "      <td>Doberman Pinsch/Australian Cattle Dog</td>\n",
       "      <td>Tan/Gray</td>\n",
       "      <td>2014-06-29T10:38:00.000</td>\n",
       "      <td>2014-06-29T10:38:00.000</td>\n",
       "      <td>800 Grove Blvd in Austin (TX)</td>\n",
       "      <td>Normal</td>\n",
       "      <td>Stray</td>\n",
       "      <td>Rio</td>\n",
       "      <td>Neutered Male</td>\n",
       "    </tr>\n",
       "    <tr>\n",
       "      <th>4</th>\n",
       "      <td>2 years</td>\n",
       "      <td>A743852</td>\n",
       "      <td>Dog</td>\n",
       "      <td>Labrador Retriever Mix</td>\n",
       "      <td>Chocolate</td>\n",
       "      <td>2017-02-18T12:46:00.000</td>\n",
       "      <td>2017-02-18T12:46:00.000</td>\n",
       "      <td>Austin (TX)</td>\n",
       "      <td>Normal</td>\n",
       "      <td>Owner Surrender</td>\n",
       "      <td>Odin</td>\n",
       "      <td>Neutered Male</td>\n",
       "    </tr>\n",
       "    <tr>\n",
       "      <th>...</th>\n",
       "      <td>...</td>\n",
       "      <td>...</td>\n",
       "      <td>...</td>\n",
       "      <td>...</td>\n",
       "      <td>...</td>\n",
       "      <td>...</td>\n",
       "      <td>...</td>\n",
       "      <td>...</td>\n",
       "      <td>...</td>\n",
       "      <td>...</td>\n",
       "      <td>...</td>\n",
       "      <td>...</td>\n",
       "    </tr>\n",
       "    <tr>\n",
       "      <th>80182</th>\n",
       "      <td>10 years</td>\n",
       "      <td>A769067</td>\n",
       "      <td>Dog</td>\n",
       "      <td>Boxer Mix</td>\n",
       "      <td>Brown Brindle</td>\n",
       "      <td>2018-03-29T18:20:00.000</td>\n",
       "      <td>2018-03-29T18:20:00.000</td>\n",
       "      <td>11216 Jollyville Rd 216 in Austin (TX)</td>\n",
       "      <td>Aged</td>\n",
       "      <td>Stray</td>\n",
       "      <td>NaN</td>\n",
       "      <td>Spayed Female</td>\n",
       "    </tr>\n",
       "    <tr>\n",
       "      <th>80183</th>\n",
       "      <td>5 years</td>\n",
       "      <td>A768934</td>\n",
       "      <td>Dog</td>\n",
       "      <td>Dachshund Wirehair/Chihuahua Shorthair</td>\n",
       "      <td>Chocolate/White</td>\n",
       "      <td>2018-03-27T14:27:00.000</td>\n",
       "      <td>2018-03-27T14:27:00.000</td>\n",
       "      <td>603 West Johanna Street in Austin (TX)</td>\n",
       "      <td>Normal</td>\n",
       "      <td>Stray</td>\n",
       "      <td>NaN</td>\n",
       "      <td>Intact Male</td>\n",
       "    </tr>\n",
       "    <tr>\n",
       "      <th>80184</th>\n",
       "      <td>2 years</td>\n",
       "      <td>A769064</td>\n",
       "      <td>Other</td>\n",
       "      <td>Bat Mix</td>\n",
       "      <td>Brown</td>\n",
       "      <td>2018-03-29T17:13:00.000</td>\n",
       "      <td>2018-03-29T17:13:00.000</td>\n",
       "      <td>2519 Scarbrough Dr in Travis (TX)</td>\n",
       "      <td>Normal</td>\n",
       "      <td>Wildlife</td>\n",
       "      <td>NaN</td>\n",
       "      <td>Unknown</td>\n",
       "    </tr>\n",
       "    <tr>\n",
       "      <th>80185</th>\n",
       "      <td>3 years</td>\n",
       "      <td>A675680</td>\n",
       "      <td>Dog</td>\n",
       "      <td>German Shepherd/Black/Tan Hound</td>\n",
       "      <td>Black/Brown</td>\n",
       "      <td>2014-03-31T18:10:00.000</td>\n",
       "      <td>2014-03-31T18:10:00.000</td>\n",
       "      <td>Austin (TX)</td>\n",
       "      <td>Normal</td>\n",
       "      <td>Public Assist</td>\n",
       "      <td>Draco</td>\n",
       "      <td>Neutered Male</td>\n",
       "    </tr>\n",
       "    <tr>\n",
       "      <th>80186</th>\n",
       "      <td>1 year</td>\n",
       "      <td>A680949</td>\n",
       "      <td>Dog</td>\n",
       "      <td>Chihuahua Shorthair/Beagle</td>\n",
       "      <td>Tan</td>\n",
       "      <td>2014-06-10T11:53:00.000</td>\n",
       "      <td>2014-06-10T11:53:00.000</td>\n",
       "      <td>4605 Lyra Cir in Austin (TX)</td>\n",
       "      <td>Normal</td>\n",
       "      <td>Stray</td>\n",
       "      <td>Lolo</td>\n",
       "      <td>Intact Male</td>\n",
       "    </tr>\n",
       "  </tbody>\n",
       "</table>\n",
       "<p>80187 rows × 12 columns</p>\n",
       "</div>"
      ],
      "text/plain": [
       "      age_upon_intake animal_id animal_type  \\\n",
       "0             8 years   A706918         Dog   \n",
       "1           11 months   A724273         Dog   \n",
       "2             4 weeks   A665644         Cat   \n",
       "3             4 years   A682524         Dog   \n",
       "4             2 years   A743852         Dog   \n",
       "...               ...       ...         ...   \n",
       "80182        10 years   A769067         Dog   \n",
       "80183         5 years   A768934         Dog   \n",
       "80184         2 years   A769064       Other   \n",
       "80185         3 years   A675680         Dog   \n",
       "80186          1 year   A680949         Dog   \n",
       "\n",
       "                                        breed            color  \\\n",
       "0                    English Springer Spaniel      White/Liver   \n",
       "1                                 Basenji Mix      Sable/White   \n",
       "2                      Domestic Shorthair Mix           Calico   \n",
       "3       Doberman Pinsch/Australian Cattle Dog         Tan/Gray   \n",
       "4                      Labrador Retriever Mix        Chocolate   \n",
       "...                                       ...              ...   \n",
       "80182                               Boxer Mix    Brown Brindle   \n",
       "80183  Dachshund Wirehair/Chihuahua Shorthair  Chocolate/White   \n",
       "80184                                 Bat Mix            Brown   \n",
       "80185         German Shepherd/Black/Tan Hound      Black/Brown   \n",
       "80186              Chihuahua Shorthair/Beagle              Tan   \n",
       "\n",
       "                      datetime                datetime2  \\\n",
       "0      2015-07-05T12:59:00.000  2015-07-05T12:59:00.000   \n",
       "1      2016-04-14T18:43:00.000  2016-04-14T18:43:00.000   \n",
       "2      2013-10-21T07:59:00.000  2013-10-21T07:59:00.000   \n",
       "3      2014-06-29T10:38:00.000  2014-06-29T10:38:00.000   \n",
       "4      2017-02-18T12:46:00.000  2017-02-18T12:46:00.000   \n",
       "...                        ...                      ...   \n",
       "80182  2018-03-29T18:20:00.000  2018-03-29T18:20:00.000   \n",
       "80183  2018-03-27T14:27:00.000  2018-03-27T14:27:00.000   \n",
       "80184  2018-03-29T17:13:00.000  2018-03-29T17:13:00.000   \n",
       "80185  2014-03-31T18:10:00.000  2014-03-31T18:10:00.000   \n",
       "80186  2014-06-10T11:53:00.000  2014-06-10T11:53:00.000   \n",
       "\n",
       "                               found_location intake_condition  \\\n",
       "0            9409 Bluegrass Dr in Austin (TX)           Normal   \n",
       "1          2818 Palomino Trail in Austin (TX)           Normal   \n",
       "2                                 Austin (TX)             Sick   \n",
       "3               800 Grove Blvd in Austin (TX)           Normal   \n",
       "4                                 Austin (TX)           Normal   \n",
       "...                                       ...              ...   \n",
       "80182  11216 Jollyville Rd 216 in Austin (TX)             Aged   \n",
       "80183  603 West Johanna Street in Austin (TX)           Normal   \n",
       "80184       2519 Scarbrough Dr in Travis (TX)           Normal   \n",
       "80185                             Austin (TX)           Normal   \n",
       "80186            4605 Lyra Cir in Austin (TX)           Normal   \n",
       "\n",
       "           intake_type     name sex_upon_intake  \n",
       "0                Stray    Belle   Spayed Female  \n",
       "1                Stray  Runster     Intact Male  \n",
       "2                Stray      NaN   Intact Female  \n",
       "3                Stray      Rio   Neutered Male  \n",
       "4      Owner Surrender     Odin   Neutered Male  \n",
       "...                ...      ...             ...  \n",
       "80182            Stray      NaN   Spayed Female  \n",
       "80183            Stray      NaN     Intact Male  \n",
       "80184         Wildlife      NaN         Unknown  \n",
       "80185    Public Assist    Draco   Neutered Male  \n",
       "80186            Stray     Lolo     Intact Male  \n",
       "\n",
       "[80187 rows x 12 columns]"
      ]
     },
     "execution_count": 272,
     "metadata": {},
     "output_type": "execute_result"
    }
   ],
   "source": [
    "intakes"
   ]
  },
  {
   "cell_type": "code",
   "execution_count": 273,
   "id": "562f6243-1b1e-42d1-b1f7-f4b9f371cfcd",
   "metadata": {},
   "outputs": [
    {
     "data": {
      "text/plain": [
       "age_upon_intake     80187\n",
       "animal_id           80187\n",
       "animal_type         80187\n",
       "breed               80187\n",
       "color               80187\n",
       "datetime            80187\n",
       "datetime2           80187\n",
       "found_location      80187\n",
       "intake_condition    80187\n",
       "intake_type         80187\n",
       "name                55603\n",
       "sex_upon_intake     80186\n",
       "dtype: int64"
      ]
     },
     "execution_count": 273,
     "metadata": {},
     "output_type": "execute_result"
    }
   ],
   "source": [
    "intakes.count()"
   ]
  },
  {
   "cell_type": "code",
   "execution_count": 274,
   "id": "b3ce871e-d8cd-460a-b0f9-4c5ee2289f58",
   "metadata": {},
   "outputs": [
    {
     "data": {
      "text/html": [
       "<div>\n",
       "<style scoped>\n",
       "    .dataframe tbody tr th:only-of-type {\n",
       "        vertical-align: middle;\n",
       "    }\n",
       "\n",
       "    .dataframe tbody tr th {\n",
       "        vertical-align: top;\n",
       "    }\n",
       "\n",
       "    .dataframe thead th {\n",
       "        text-align: right;\n",
       "    }\n",
       "</style>\n",
       "<table border=\"1\" class=\"dataframe\">\n",
       "  <thead>\n",
       "    <tr style=\"text-align: right;\">\n",
       "      <th></th>\n",
       "      <th>age_upon_intake</th>\n",
       "      <th>animal_id</th>\n",
       "      <th>animal_type</th>\n",
       "      <th>breed</th>\n",
       "      <th>color</th>\n",
       "      <th>datetime</th>\n",
       "      <th>datetime2</th>\n",
       "      <th>found_location</th>\n",
       "      <th>intake_condition</th>\n",
       "      <th>intake_type</th>\n",
       "      <th>name</th>\n",
       "      <th>sex_upon_intake</th>\n",
       "    </tr>\n",
       "  </thead>\n",
       "  <tbody>\n",
       "    <tr>\n",
       "      <th>0</th>\n",
       "      <td>8 years</td>\n",
       "      <td>A706918</td>\n",
       "      <td>Dog</td>\n",
       "      <td>English Springer Spaniel</td>\n",
       "      <td>White/Liver</td>\n",
       "      <td>2015-07-05T12:59:00.000</td>\n",
       "      <td>2015-07-05T12:59:00.000</td>\n",
       "      <td>9409 Bluegrass Dr in Austin (TX)</td>\n",
       "      <td>Normal</td>\n",
       "      <td>Stray</td>\n",
       "      <td>Belle</td>\n",
       "      <td>Spayed Female</td>\n",
       "    </tr>\n",
       "    <tr>\n",
       "      <th>1</th>\n",
       "      <td>11 months</td>\n",
       "      <td>A724273</td>\n",
       "      <td>Dog</td>\n",
       "      <td>Basenji Mix</td>\n",
       "      <td>Sable/White</td>\n",
       "      <td>2016-04-14T18:43:00.000</td>\n",
       "      <td>2016-04-14T18:43:00.000</td>\n",
       "      <td>2818 Palomino Trail in Austin (TX)</td>\n",
       "      <td>Normal</td>\n",
       "      <td>Stray</td>\n",
       "      <td>Runster</td>\n",
       "      <td>Intact Male</td>\n",
       "    </tr>\n",
       "    <tr>\n",
       "      <th>2</th>\n",
       "      <td>4 weeks</td>\n",
       "      <td>A665644</td>\n",
       "      <td>Cat</td>\n",
       "      <td>Domestic Shorthair Mix</td>\n",
       "      <td>Calico</td>\n",
       "      <td>2013-10-21T07:59:00.000</td>\n",
       "      <td>2013-10-21T07:59:00.000</td>\n",
       "      <td>Austin (TX)</td>\n",
       "      <td>Sick</td>\n",
       "      <td>Stray</td>\n",
       "      <td>NaN</td>\n",
       "      <td>Intact Female</td>\n",
       "    </tr>\n",
       "    <tr>\n",
       "      <th>3</th>\n",
       "      <td>4 years</td>\n",
       "      <td>A682524</td>\n",
       "      <td>Dog</td>\n",
       "      <td>Doberman Pinsch/Australian Cattle Dog</td>\n",
       "      <td>Tan/Gray</td>\n",
       "      <td>2014-06-29T10:38:00.000</td>\n",
       "      <td>2014-06-29T10:38:00.000</td>\n",
       "      <td>800 Grove Blvd in Austin (TX)</td>\n",
       "      <td>Normal</td>\n",
       "      <td>Stray</td>\n",
       "      <td>Rio</td>\n",
       "      <td>Neutered Male</td>\n",
       "    </tr>\n",
       "    <tr>\n",
       "      <th>4</th>\n",
       "      <td>2 years</td>\n",
       "      <td>A743852</td>\n",
       "      <td>Dog</td>\n",
       "      <td>Labrador Retriever Mix</td>\n",
       "      <td>Chocolate</td>\n",
       "      <td>2017-02-18T12:46:00.000</td>\n",
       "      <td>2017-02-18T12:46:00.000</td>\n",
       "      <td>Austin (TX)</td>\n",
       "      <td>Normal</td>\n",
       "      <td>Owner Surrender</td>\n",
       "      <td>Odin</td>\n",
       "      <td>Neutered Male</td>\n",
       "    </tr>\n",
       "  </tbody>\n",
       "</table>\n",
       "</div>"
      ],
      "text/plain": [
       "  age_upon_intake animal_id animal_type  \\\n",
       "0         8 years   A706918         Dog   \n",
       "1       11 months   A724273         Dog   \n",
       "2         4 weeks   A665644         Cat   \n",
       "3         4 years   A682524         Dog   \n",
       "4         2 years   A743852         Dog   \n",
       "\n",
       "                                   breed        color  \\\n",
       "0               English Springer Spaniel  White/Liver   \n",
       "1                            Basenji Mix  Sable/White   \n",
       "2                 Domestic Shorthair Mix       Calico   \n",
       "3  Doberman Pinsch/Australian Cattle Dog     Tan/Gray   \n",
       "4                 Labrador Retriever Mix    Chocolate   \n",
       "\n",
       "                  datetime                datetime2  \\\n",
       "0  2015-07-05T12:59:00.000  2015-07-05T12:59:00.000   \n",
       "1  2016-04-14T18:43:00.000  2016-04-14T18:43:00.000   \n",
       "2  2013-10-21T07:59:00.000  2013-10-21T07:59:00.000   \n",
       "3  2014-06-29T10:38:00.000  2014-06-29T10:38:00.000   \n",
       "4  2017-02-18T12:46:00.000  2017-02-18T12:46:00.000   \n",
       "\n",
       "                       found_location intake_condition      intake_type  \\\n",
       "0    9409 Bluegrass Dr in Austin (TX)           Normal            Stray   \n",
       "1  2818 Palomino Trail in Austin (TX)           Normal            Stray   \n",
       "2                         Austin (TX)             Sick            Stray   \n",
       "3       800 Grove Blvd in Austin (TX)           Normal            Stray   \n",
       "4                         Austin (TX)           Normal  Owner Surrender   \n",
       "\n",
       "      name sex_upon_intake  \n",
       "0    Belle   Spayed Female  \n",
       "1  Runster     Intact Male  \n",
       "2      NaN   Intact Female  \n",
       "3      Rio   Neutered Male  \n",
       "4     Odin   Neutered Male  "
      ]
     },
     "execution_count": 274,
     "metadata": {},
     "output_type": "execute_result"
    }
   ],
   "source": [
    "intakes.head()"
   ]
  },
  {
   "cell_type": "code",
   "execution_count": 275,
   "id": "28bf4ef7-7f86-4f04-afdf-c75917fb89fe",
   "metadata": {},
   "outputs": [
    {
     "data": {
      "text/html": [
       "<div>\n",
       "<style scoped>\n",
       "    .dataframe tbody tr th:only-of-type {\n",
       "        vertical-align: middle;\n",
       "    }\n",
       "\n",
       "    .dataframe tbody tr th {\n",
       "        vertical-align: top;\n",
       "    }\n",
       "\n",
       "    .dataframe thead th {\n",
       "        text-align: right;\n",
       "    }\n",
       "</style>\n",
       "<table border=\"1\" class=\"dataframe\">\n",
       "  <thead>\n",
       "    <tr style=\"text-align: right;\">\n",
       "      <th></th>\n",
       "      <th>age_upon_intake</th>\n",
       "      <th>animal_id</th>\n",
       "      <th>animal_type</th>\n",
       "      <th>breed</th>\n",
       "      <th>color</th>\n",
       "      <th>datetime</th>\n",
       "      <th>datetime2</th>\n",
       "      <th>found_location</th>\n",
       "      <th>intake_condition</th>\n",
       "      <th>intake_type</th>\n",
       "      <th>name</th>\n",
       "      <th>sex_upon_intake</th>\n",
       "    </tr>\n",
       "  </thead>\n",
       "  <tbody>\n",
       "    <tr>\n",
       "      <th>80186</th>\n",
       "      <td>1 year</td>\n",
       "      <td>A680949</td>\n",
       "      <td>Dog</td>\n",
       "      <td>Chihuahua Shorthair/Beagle</td>\n",
       "      <td>Tan</td>\n",
       "      <td>2014-06-10T11:53:00.000</td>\n",
       "      <td>2014-06-10T11:53:00.000</td>\n",
       "      <td>4605 Lyra Cir in Austin (TX)</td>\n",
       "      <td>Normal</td>\n",
       "      <td>Stray</td>\n",
       "      <td>Lolo</td>\n",
       "      <td>Intact Male</td>\n",
       "    </tr>\n",
       "  </tbody>\n",
       "</table>\n",
       "</div>"
      ],
      "text/plain": [
       "      age_upon_intake animal_id animal_type                       breed color  \\\n",
       "80186          1 year   A680949         Dog  Chihuahua Shorthair/Beagle   Tan   \n",
       "\n",
       "                      datetime                datetime2  \\\n",
       "80186  2014-06-10T11:53:00.000  2014-06-10T11:53:00.000   \n",
       "\n",
       "                     found_location intake_condition intake_type  name  \\\n",
       "80186  4605 Lyra Cir in Austin (TX)           Normal       Stray  Lolo   \n",
       "\n",
       "      sex_upon_intake  \n",
       "80186     Intact Male  "
      ]
     },
     "execution_count": 275,
     "metadata": {},
     "output_type": "execute_result"
    }
   ],
   "source": [
    "intakes.tail(1)"
   ]
  },
  {
   "cell_type": "code",
   "execution_count": 276,
   "id": "9566c6c1-5897-4c81-83bf-4e1e3ff532ba",
   "metadata": {},
   "outputs": [
    {
     "data": {
      "text/plain": [
       "80187"
      ]
     },
     "execution_count": 276,
     "metadata": {},
     "output_type": "execute_result"
    }
   ],
   "source": [
    "len(intakes)"
   ]
  },
  {
   "cell_type": "code",
   "execution_count": 277,
   "id": "31d9c99f-7ce1-4130-949a-0d8f05116234",
   "metadata": {},
   "outputs": [
    {
     "data": {
      "text/plain": [
       "'intakes has 80187 rows and 12 columns'"
      ]
     },
     "execution_count": 277,
     "metadata": {},
     "output_type": "execute_result"
    }
   ],
   "source": [
    "rows, columns=intakes.shape\n",
    "f'intakes has {rows} rows and {columns} columns'\n"
   ]
  },
  {
   "cell_type": "code",
   "execution_count": 278,
   "id": "1d299319-66e8-42c2-9c11-f2420a0673d6",
   "metadata": {},
   "outputs": [
    {
     "data": {
      "text/plain": [
       "'intakeshasage_upon_intake         0\\nanimal_id               0\\nanimal_type             0\\nbreed                   0\\ncolor                   0\\ndatetime                0\\ndatetime2               0\\nfound_location          0\\nintake_condition        0\\nintake_type             0\\nname                24584\\nsex_upon_intake         1\\ndtype: int64'"
      ]
     },
     "execution_count": 278,
     "metadata": {},
     "output_type": "execute_result"
    }
   ],
   "source": [
    "f'intakeshas{intakes.isna().sum()  }'"
   ]
  },
  {
   "cell_type": "code",
   "execution_count": 279,
   "id": "18e4e361-988f-4ddb-a23c-defeb8281fb2",
   "metadata": {},
   "outputs": [
    {
     "data": {
      "text/plain": [
       "age_upon_intake     object\n",
       "animal_id           object\n",
       "animal_type         object\n",
       "breed               object\n",
       "color               object\n",
       "datetime            object\n",
       "datetime2           object\n",
       "found_location      object\n",
       "intake_condition    object\n",
       "intake_type         object\n",
       "name                object\n",
       "sex_upon_intake     object\n",
       "dtype: object"
      ]
     },
     "execution_count": 279,
     "metadata": {},
     "output_type": "execute_result"
    }
   ],
   "source": [
    "intakes.dtypes"
   ]
  },
  {
   "cell_type": "markdown",
   "id": "da712aed-8498-431c-8ba5-f8f72787154f",
   "metadata": {},
   "source": [
    "### Taking a look at the intakes_outcomes dataframe"
   ]
  },
  {
   "cell_type": "code",
   "execution_count": 280,
   "id": "1633fe65-6d19-4993-bedc-2b22065a0803",
   "metadata": {},
   "outputs": [
    {
     "data": {
      "text/html": [
       "<div>\n",
       "<style scoped>\n",
       "    .dataframe tbody tr th:only-of-type {\n",
       "        vertical-align: middle;\n",
       "    }\n",
       "\n",
       "    .dataframe tbody tr th {\n",
       "        vertical-align: top;\n",
       "    }\n",
       "\n",
       "    .dataframe thead th {\n",
       "        text-align: right;\n",
       "    }\n",
       "</style>\n",
       "<table border=\"1\" class=\"dataframe\">\n",
       "  <thead>\n",
       "    <tr style=\"text-align: right;\">\n",
       "      <th></th>\n",
       "      <th>age_upon_outcome</th>\n",
       "      <th>animal_id_outcome</th>\n",
       "      <th>date_of_birth</th>\n",
       "      <th>outcome_subtype</th>\n",
       "      <th>outcome_type</th>\n",
       "      <th>sex_upon_outcome</th>\n",
       "      <th>age_upon_outcome_(days)</th>\n",
       "      <th>age_upon_outcome_(years)</th>\n",
       "      <th>age_upon_outcome_age_group</th>\n",
       "      <th>outcome_datetime</th>\n",
       "      <th>...</th>\n",
       "      <th>age_upon_intake_age_group</th>\n",
       "      <th>intake_datetime</th>\n",
       "      <th>intake_month</th>\n",
       "      <th>intake_year</th>\n",
       "      <th>intake_monthyear</th>\n",
       "      <th>intake_weekday</th>\n",
       "      <th>intake_hour</th>\n",
       "      <th>intake_number</th>\n",
       "      <th>time_in_shelter</th>\n",
       "      <th>time_in_shelter_days</th>\n",
       "    </tr>\n",
       "  </thead>\n",
       "  <tbody>\n",
       "    <tr>\n",
       "      <th>0</th>\n",
       "      <td>10 years</td>\n",
       "      <td>A006100</td>\n",
       "      <td>2007-07-09 00:00:00</td>\n",
       "      <td>NaN</td>\n",
       "      <td>Return to Owner</td>\n",
       "      <td>Neutered Male</td>\n",
       "      <td>3650</td>\n",
       "      <td>10.0</td>\n",
       "      <td>(7.5, 10.0]</td>\n",
       "      <td>2017-12-07 14:07:00</td>\n",
       "      <td>...</td>\n",
       "      <td>(7.5, 10.0]</td>\n",
       "      <td>2017-12-07 00:00:00</td>\n",
       "      <td>12</td>\n",
       "      <td>2017</td>\n",
       "      <td>2017-12</td>\n",
       "      <td>Thursday</td>\n",
       "      <td>14</td>\n",
       "      <td>1.0</td>\n",
       "      <td>0 days 14:07:00.000000000</td>\n",
       "      <td>0.588194</td>\n",
       "    </tr>\n",
       "  </tbody>\n",
       "</table>\n",
       "<p>1 rows × 41 columns</p>\n",
       "</div>"
      ],
      "text/plain": [
       "  age_upon_outcome animal_id_outcome        date_of_birth outcome_subtype  \\\n",
       "0         10 years           A006100  2007-07-09 00:00:00             NaN   \n",
       "\n",
       "      outcome_type sex_upon_outcome  age_upon_outcome_(days)  \\\n",
       "0  Return to Owner    Neutered Male                     3650   \n",
       "\n",
       "   age_upon_outcome_(years) age_upon_outcome_age_group     outcome_datetime  \\\n",
       "0                      10.0                (7.5, 10.0]  2017-12-07 14:07:00   \n",
       "\n",
       "   ...  age_upon_intake_age_group      intake_datetime intake_month  \\\n",
       "0  ...                (7.5, 10.0]  2017-12-07 00:00:00           12   \n",
       "\n",
       "  intake_year  intake_monthyear  intake_weekday  intake_hour  intake_number  \\\n",
       "0        2017           2017-12        Thursday           14            1.0   \n",
       "\n",
       "             time_in_shelter time_in_shelter_days  \n",
       "0  0 days 14:07:00.000000000             0.588194  \n",
       "\n",
       "[1 rows x 41 columns]"
      ]
     },
     "execution_count": 280,
     "metadata": {},
     "output_type": "execute_result"
    }
   ],
   "source": [
    "intakes_outcomes.head(1)"
   ]
  },
  {
   "cell_type": "code",
   "execution_count": 281,
   "id": "fe4bc919-657e-4d7b-ad37-85ad0b106f0e",
   "metadata": {},
   "outputs": [
    {
     "data": {
      "text/plain": [
       "age_upon_outcome              79672\n",
       "animal_id_outcome             79672\n",
       "date_of_birth                 79672\n",
       "outcome_subtype               36348\n",
       "outcome_type                  79662\n",
       "sex_upon_outcome              79671\n",
       "age_upon_outcome_(days)       79672\n",
       "age_upon_outcome_(years)      79672\n",
       "age_upon_outcome_age_group    79672\n",
       "outcome_datetime              79672\n",
       "outcome_month                 79672\n",
       "outcome_year                  79672\n",
       "outcome_monthyear             79672\n",
       "outcome_weekday               79672\n",
       "outcome_hour                  79672\n",
       "outcome_number                79672\n",
       "dob_year                      79672\n",
       "dob_month                     79672\n",
       "dob_monthyear                 79672\n",
       "age_upon_intake               79672\n",
       "animal_id_intake              79672\n",
       "animal_type                   79672\n",
       "breed                         79672\n",
       "color                         79672\n",
       "found_location                79672\n",
       "intake_condition              79672\n",
       "intake_type                   79672\n",
       "sex_upon_intake               79671\n",
       "count                         79672\n",
       "age_upon_intake_(days)        79672\n",
       "age_upon_intake_(years)       79672\n",
       "age_upon_intake_age_group     79672\n",
       "intake_datetime               79672\n",
       "intake_month                  79672\n",
       "intake_year                   79672\n",
       "intake_monthyear              79672\n",
       "intake_weekday                79672\n",
       "intake_hour                   79672\n",
       "intake_number                 79672\n",
       "time_in_shelter               79672\n",
       "time_in_shelter_days          79672\n",
       "dtype: int64"
      ]
     },
     "execution_count": 281,
     "metadata": {},
     "output_type": "execute_result"
    }
   ],
   "source": [
    "intakes_outcomes.count()"
   ]
  },
  {
   "cell_type": "code",
   "execution_count": 282,
   "id": "5a7ab8ef-8e67-4e39-a049-9fb63dbb45d3",
   "metadata": {},
   "outputs": [
    {
     "data": {
      "text/html": [
       "<div>\n",
       "<style scoped>\n",
       "    .dataframe tbody tr th:only-of-type {\n",
       "        vertical-align: middle;\n",
       "    }\n",
       "\n",
       "    .dataframe tbody tr th {\n",
       "        vertical-align: top;\n",
       "    }\n",
       "\n",
       "    .dataframe thead th {\n",
       "        text-align: right;\n",
       "    }\n",
       "</style>\n",
       "<table border=\"1\" class=\"dataframe\">\n",
       "  <thead>\n",
       "    <tr style=\"text-align: right;\">\n",
       "      <th></th>\n",
       "      <th>age_upon_outcome</th>\n",
       "      <th>animal_id_outcome</th>\n",
       "      <th>date_of_birth</th>\n",
       "      <th>outcome_subtype</th>\n",
       "      <th>outcome_type</th>\n",
       "      <th>sex_upon_outcome</th>\n",
       "      <th>age_upon_outcome_(days)</th>\n",
       "      <th>age_upon_outcome_(years)</th>\n",
       "      <th>age_upon_outcome_age_group</th>\n",
       "      <th>outcome_datetime</th>\n",
       "      <th>...</th>\n",
       "      <th>age_upon_intake_age_group</th>\n",
       "      <th>intake_datetime</th>\n",
       "      <th>intake_month</th>\n",
       "      <th>intake_year</th>\n",
       "      <th>intake_monthyear</th>\n",
       "      <th>intake_weekday</th>\n",
       "      <th>intake_hour</th>\n",
       "      <th>intake_number</th>\n",
       "      <th>time_in_shelter</th>\n",
       "      <th>time_in_shelter_days</th>\n",
       "    </tr>\n",
       "  </thead>\n",
       "  <tbody>\n",
       "    <tr>\n",
       "      <th>79671</th>\n",
       "      <td>10 years</td>\n",
       "      <td>A769067</td>\n",
       "      <td>2008-03-29 00:00:00</td>\n",
       "      <td>Suffering</td>\n",
       "      <td>Euthanasia</td>\n",
       "      <td>Spayed Female</td>\n",
       "      <td>3650</td>\n",
       "      <td>10.0</td>\n",
       "      <td>(7.5, 10.0]</td>\n",
       "      <td>2018-03-30 13:52:00</td>\n",
       "      <td>...</td>\n",
       "      <td>(7.5, 10.0]</td>\n",
       "      <td>2018-03-29 18:20:00</td>\n",
       "      <td>3</td>\n",
       "      <td>2018</td>\n",
       "      <td>2018-03</td>\n",
       "      <td>Thursday</td>\n",
       "      <td>18</td>\n",
       "      <td>1.0</td>\n",
       "      <td>0 days 19:32:00.000000000</td>\n",
       "      <td>0.813889</td>\n",
       "    </tr>\n",
       "  </tbody>\n",
       "</table>\n",
       "<p>1 rows × 41 columns</p>\n",
       "</div>"
      ],
      "text/plain": [
       "      age_upon_outcome animal_id_outcome        date_of_birth outcome_subtype  \\\n",
       "79671         10 years           A769067  2008-03-29 00:00:00       Suffering   \n",
       "\n",
       "      outcome_type sex_upon_outcome  age_upon_outcome_(days)  \\\n",
       "79671   Euthanasia    Spayed Female                     3650   \n",
       "\n",
       "       age_upon_outcome_(years) age_upon_outcome_age_group  \\\n",
       "79671                      10.0                (7.5, 10.0]   \n",
       "\n",
       "          outcome_datetime  ...  age_upon_intake_age_group  \\\n",
       "79671  2018-03-30 13:52:00  ...                (7.5, 10.0]   \n",
       "\n",
       "           intake_datetime intake_month intake_year  intake_monthyear  \\\n",
       "79671  2018-03-29 18:20:00            3        2018           2018-03   \n",
       "\n",
       "       intake_weekday  intake_hour  intake_number            time_in_shelter  \\\n",
       "79671        Thursday           18            1.0  0 days 19:32:00.000000000   \n",
       "\n",
       "      time_in_shelter_days  \n",
       "79671             0.813889  \n",
       "\n",
       "[1 rows x 41 columns]"
      ]
     },
     "execution_count": 282,
     "metadata": {},
     "output_type": "execute_result"
    }
   ],
   "source": [
    "intakes_outcomes.tail(1)"
   ]
  },
  {
   "cell_type": "code",
   "execution_count": 283,
   "id": "0ac94d99-9e99-42bb-8cc6-d3a7f0aabbe0",
   "metadata": {},
   "outputs": [
    {
     "data": {
      "text/plain": [
       "79672"
      ]
     },
     "execution_count": 283,
     "metadata": {},
     "output_type": "execute_result"
    }
   ],
   "source": [
    "len(intakes_outcomes)"
   ]
  },
  {
   "cell_type": "code",
   "execution_count": 284,
   "id": "b73e36b4-09f7-4ae3-8ccf-e8de0e6968db",
   "metadata": {},
   "outputs": [
    {
     "data": {
      "text/plain": [
       "'intakes_outcomes dataframe has 79672 rows and  41 columns'"
      ]
     },
     "execution_count": 284,
     "metadata": {},
     "output_type": "execute_result"
    }
   ],
   "source": [
    "rows, columns=intakes_outcomes.shape\n",
    "f'intakes_outcomes dataframe has {rows } rows and  {columns} columns'\n"
   ]
  },
  {
   "cell_type": "code",
   "execution_count": 285,
   "id": "8c0bd96d-d2cc-4476-ae12-323e9b3c8982",
   "metadata": {},
   "outputs": [
    {
     "data": {
      "text/plain": [
       "age_upon_outcome               object\n",
       "animal_id_outcome              object\n",
       "date_of_birth                  object\n",
       "outcome_subtype                object\n",
       "outcome_type                   object\n",
       "sex_upon_outcome               object\n",
       "age_upon_outcome_(days)         int64\n",
       "age_upon_outcome_(years)      float64\n",
       "age_upon_outcome_age_group     object\n",
       "outcome_datetime               object\n",
       "outcome_month                   int64\n",
       "outcome_year                    int64\n",
       "outcome_monthyear              object\n",
       "outcome_weekday                object\n",
       "outcome_hour                    int64\n",
       "outcome_number                float64\n",
       "dob_year                        int64\n",
       "dob_month                       int64\n",
       "dob_monthyear                  object\n",
       "age_upon_intake                object\n",
       "animal_id_intake               object\n",
       "animal_type                    object\n",
       "breed                          object\n",
       "color                          object\n",
       "found_location                 object\n",
       "intake_condition               object\n",
       "intake_type                    object\n",
       "sex_upon_intake                object\n",
       "count                           int64\n",
       "age_upon_intake_(days)          int64\n",
       "age_upon_intake_(years)       float64\n",
       "age_upon_intake_age_group      object\n",
       "intake_datetime                object\n",
       "intake_month                    int64\n",
       "intake_year                     int64\n",
       "intake_monthyear               object\n",
       "intake_weekday                 object\n",
       "intake_hour                     int64\n",
       "intake_number                 float64\n",
       "time_in_shelter                object\n",
       "time_in_shelter_days          float64\n",
       "dtype: object"
      ]
     },
     "execution_count": 285,
     "metadata": {},
     "output_type": "execute_result"
    }
   ],
   "source": [
    "intakes_outcomes.dtypes"
   ]
  },
  {
   "cell_type": "markdown",
   "id": "273f7d91-b28f-43aa-abe1-48134d4ebab9",
   "metadata": {},
   "source": [
    "### Taking a look at the outcomes dataframe"
   ]
  },
  {
   "cell_type": "code",
   "execution_count": 286,
   "id": "ee647ab1-d26d-4aa8-97c4-e5d728b77dbd",
   "metadata": {},
   "outputs": [
    {
     "data": {
      "text/html": [
       "<div>\n",
       "<style scoped>\n",
       "    .dataframe tbody tr th:only-of-type {\n",
       "        vertical-align: middle;\n",
       "    }\n",
       "\n",
       "    .dataframe tbody tr th {\n",
       "        vertical-align: top;\n",
       "    }\n",
       "\n",
       "    .dataframe thead th {\n",
       "        text-align: right;\n",
       "    }\n",
       "</style>\n",
       "<table border=\"1\" class=\"dataframe\">\n",
       "  <thead>\n",
       "    <tr style=\"text-align: right;\">\n",
       "      <th></th>\n",
       "      <th>age_upon_outcome</th>\n",
       "      <th>animal_id</th>\n",
       "      <th>animal_type</th>\n",
       "      <th>breed</th>\n",
       "      <th>color</th>\n",
       "      <th>date_of_birth</th>\n",
       "      <th>datetime</th>\n",
       "      <th>monthyear</th>\n",
       "      <th>name</th>\n",
       "      <th>outcome_subtype</th>\n",
       "      <th>outcome_type</th>\n",
       "      <th>sex_upon_outcome</th>\n",
       "    </tr>\n",
       "  </thead>\n",
       "  <tbody>\n",
       "    <tr>\n",
       "      <th>0</th>\n",
       "      <td>2 weeks</td>\n",
       "      <td>A684346</td>\n",
       "      <td>Cat</td>\n",
       "      <td>Domestic Shorthair Mix</td>\n",
       "      <td>Orange Tabby</td>\n",
       "      <td>2014-07-07T00:00:00</td>\n",
       "      <td>2014-07-22T16:04:00</td>\n",
       "      <td>2014-07-22T16:04:00</td>\n",
       "      <td>NaN</td>\n",
       "      <td>Partner</td>\n",
       "      <td>Transfer</td>\n",
       "      <td>Intact Male</td>\n",
       "    </tr>\n",
       "  </tbody>\n",
       "</table>\n",
       "</div>"
      ],
      "text/plain": [
       "  age_upon_outcome animal_id animal_type                   breed  \\\n",
       "0          2 weeks   A684346         Cat  Domestic Shorthair Mix   \n",
       "\n",
       "          color        date_of_birth             datetime  \\\n",
       "0  Orange Tabby  2014-07-07T00:00:00  2014-07-22T16:04:00   \n",
       "\n",
       "             monthyear name outcome_subtype outcome_type sex_upon_outcome  \n",
       "0  2014-07-22T16:04:00  NaN         Partner     Transfer      Intact Male  "
      ]
     },
     "execution_count": 286,
     "metadata": {},
     "output_type": "execute_result"
    }
   ],
   "source": [
    "outcomes.head(1) "
   ]
  },
  {
   "cell_type": "code",
   "execution_count": 287,
   "id": "4e4af79b-8ba2-4ec4-ab45-6e7709e558e9",
   "metadata": {},
   "outputs": [
    {
     "data": {
      "text/html": [
       "<div>\n",
       "<style scoped>\n",
       "    .dataframe tbody tr th:only-of-type {\n",
       "        vertical-align: middle;\n",
       "    }\n",
       "\n",
       "    .dataframe tbody tr th {\n",
       "        vertical-align: top;\n",
       "    }\n",
       "\n",
       "    .dataframe thead th {\n",
       "        text-align: right;\n",
       "    }\n",
       "</style>\n",
       "<table border=\"1\" class=\"dataframe\">\n",
       "  <thead>\n",
       "    <tr style=\"text-align: right;\">\n",
       "      <th></th>\n",
       "      <th>age_upon_outcome</th>\n",
       "      <th>animal_id</th>\n",
       "      <th>animal_type</th>\n",
       "      <th>breed</th>\n",
       "      <th>color</th>\n",
       "      <th>date_of_birth</th>\n",
       "      <th>datetime</th>\n",
       "      <th>monthyear</th>\n",
       "      <th>name</th>\n",
       "      <th>outcome_subtype</th>\n",
       "      <th>outcome_type</th>\n",
       "      <th>sex_upon_outcome</th>\n",
       "    </tr>\n",
       "  </thead>\n",
       "  <tbody>\n",
       "    <tr>\n",
       "      <th>80680</th>\n",
       "      <td>1 year</td>\n",
       "      <td>A768726</td>\n",
       "      <td>Dog</td>\n",
       "      <td>Siberian Husky Mix</td>\n",
       "      <td>Brown/White</td>\n",
       "      <td>2017-03-24T00:00:00</td>\n",
       "      <td>2018-04-03T18:36:00</td>\n",
       "      <td>2018-04-03T18:36:00</td>\n",
       "      <td>Sky</td>\n",
       "      <td>NaN</td>\n",
       "      <td>Return to Owner</td>\n",
       "      <td>Intact Female</td>\n",
       "    </tr>\n",
       "  </tbody>\n",
       "</table>\n",
       "</div>"
      ],
      "text/plain": [
       "      age_upon_outcome animal_id animal_type               breed        color  \\\n",
       "80680           1 year   A768726         Dog  Siberian Husky Mix  Brown/White   \n",
       "\n",
       "             date_of_birth             datetime            monthyear name  \\\n",
       "80680  2017-03-24T00:00:00  2018-04-03T18:36:00  2018-04-03T18:36:00  Sky   \n",
       "\n",
       "      outcome_subtype     outcome_type sex_upon_outcome  \n",
       "80680             NaN  Return to Owner    Intact Female  "
      ]
     },
     "execution_count": 287,
     "metadata": {},
     "output_type": "execute_result"
    }
   ],
   "source": [
    "outcomes.tail(1)\n"
   ]
  },
  {
   "cell_type": "code",
   "execution_count": 288,
   "id": "7aa80bdd-3c01-4645-b3d9-06ea6d70b41e",
   "metadata": {},
   "outputs": [
    {
     "data": {
      "text/plain": [
       "(age_upon_outcome    80673\n",
       " animal_id           80681\n",
       " animal_type         80681\n",
       " breed               80681\n",
       " color               80681\n",
       " date_of_birth       80681\n",
       " datetime            80681\n",
       " monthyear           80681\n",
       " name                56116\n",
       " outcome_subtype     36893\n",
       " outcome_type        80667\n",
       " sex_upon_outcome    80679\n",
       " dtype: int64,\n",
       " age_upon_intake     80187\n",
       " animal_id           80187\n",
       " animal_type         80187\n",
       " breed               80187\n",
       " color               80187\n",
       " datetime            80187\n",
       " datetime2           80187\n",
       " found_location      80187\n",
       " intake_condition    80187\n",
       " intake_type         80187\n",
       " name                55603\n",
       " sex_upon_intake     80186\n",
       " dtype: int64)"
      ]
     },
     "execution_count": 288,
     "metadata": {},
     "output_type": "execute_result"
    }
   ],
   "source": [
    "outcomes.count(),intakes.count()"
   ]
  },
  {
   "cell_type": "code",
   "execution_count": 289,
   "id": "d5c2968c-1e54-4fc1-a0d9-12077f243947",
   "metadata": {},
   "outputs": [
    {
     "data": {
      "text/plain": [
       "80681"
      ]
     },
     "execution_count": 289,
     "metadata": {},
     "output_type": "execute_result"
    }
   ],
   "source": [
    "len(outcomes)"
   ]
  },
  {
   "cell_type": "code",
   "execution_count": 290,
   "id": "7a74ea4c-1ecc-4b54-a0b3-44655de8afe7",
   "metadata": {},
   "outputs": [
    {
     "data": {
      "text/plain": [
       "(80681, 12)"
      ]
     },
     "execution_count": 290,
     "metadata": {},
     "output_type": "execute_result"
    }
   ],
   "source": [
    "outcomes.shape"
   ]
  },
  {
   "cell_type": "code",
   "execution_count": null,
   "id": "b55ef506-709e-4ed2-823e-0f0ae196edcd",
   "metadata": {},
   "outputs": [],
   "source": []
  },
  {
   "cell_type": "code",
   "execution_count": 291,
   "id": "1cf39f3e-0260-459a-8f2d-b4f87e12061c",
   "metadata": {},
   "outputs": [
    {
     "data": {
      "text/plain": [
       "(age_upon_outcome    object\n",
       " animal_id           object\n",
       " animal_type         object\n",
       " breed               object\n",
       " color               object\n",
       " date_of_birth       object\n",
       " datetime            object\n",
       " monthyear           object\n",
       " name                object\n",
       " outcome_subtype     object\n",
       " outcome_type        object\n",
       " sex_upon_outcome    object\n",
       " dtype: object,\n",
       " age_upon_intake     object\n",
       " animal_id           object\n",
       " animal_type         object\n",
       " breed               object\n",
       " color               object\n",
       " datetime            object\n",
       " datetime2           object\n",
       " found_location      object\n",
       " intake_condition    object\n",
       " intake_type         object\n",
       " name                object\n",
       " sex_upon_intake     object\n",
       " dtype: object)"
      ]
     },
     "execution_count": 291,
     "metadata": {},
     "output_type": "execute_result"
    }
   ],
   "source": [
    "outcomes.dtypes, intakes.dtypes"
   ]
  },
  {
   "cell_type": "code",
   "execution_count": 292,
   "id": "58da7869-91d2-40d5-a733-ef9dfe83cca3",
   "metadata": {},
   "outputs": [],
   "source": [
    "merge1=intakes.merge(\n",
    "    outcomes,\n",
    "    left_on=['animal_id',\n",
    "             'animal_type',\n",
    "             'breed',\n",
    "             'color'],\n",
    "    right_on=['animal_id',\n",
    "             'animal_type',\n",
    "             'breed',\n",
    "             'color']\n",
    "  \n",
    ")               \n",
    "\n",
    "\n"
   ]
  },
  {
   "cell_type": "code",
   "execution_count": 293,
   "id": "1ed96a88-dcfc-40d9-bdf1-c1d936280c7d",
   "metadata": {},
   "outputs": [
    {
     "data": {
      "text/html": [
       "<div>\n",
       "<style scoped>\n",
       "    .dataframe tbody tr th:only-of-type {\n",
       "        vertical-align: middle;\n",
       "    }\n",
       "\n",
       "    .dataframe tbody tr th {\n",
       "        vertical-align: top;\n",
       "    }\n",
       "\n",
       "    .dataframe thead th {\n",
       "        text-align: right;\n",
       "    }\n",
       "</style>\n",
       "<table border=\"1\" class=\"dataframe\">\n",
       "  <thead>\n",
       "    <tr style=\"text-align: right;\">\n",
       "      <th></th>\n",
       "      <th>age_upon_intake</th>\n",
       "      <th>animal_id</th>\n",
       "      <th>animal_type</th>\n",
       "      <th>breed</th>\n",
       "      <th>color</th>\n",
       "      <th>datetime_x</th>\n",
       "      <th>datetime2</th>\n",
       "      <th>found_location</th>\n",
       "      <th>intake_condition</th>\n",
       "      <th>intake_type</th>\n",
       "      <th>name_x</th>\n",
       "      <th>sex_upon_intake</th>\n",
       "      <th>age_upon_outcome</th>\n",
       "      <th>date_of_birth</th>\n",
       "      <th>datetime_y</th>\n",
       "      <th>monthyear</th>\n",
       "      <th>name_y</th>\n",
       "      <th>outcome_subtype</th>\n",
       "      <th>outcome_type</th>\n",
       "      <th>sex_upon_outcome</th>\n",
       "    </tr>\n",
       "  </thead>\n",
       "  <tbody>\n",
       "    <tr>\n",
       "      <th>0</th>\n",
       "      <td>8 years</td>\n",
       "      <td>A706918</td>\n",
       "      <td>Dog</td>\n",
       "      <td>English Springer Spaniel</td>\n",
       "      <td>White/Liver</td>\n",
       "      <td>2015-07-05T12:59:00.000</td>\n",
       "      <td>2015-07-05T12:59:00.000</td>\n",
       "      <td>9409 Bluegrass Dr in Austin (TX)</td>\n",
       "      <td>Normal</td>\n",
       "      <td>Stray</td>\n",
       "      <td>Belle</td>\n",
       "      <td>Spayed Female</td>\n",
       "      <td>8 years</td>\n",
       "      <td>2007-07-05T00:00:00</td>\n",
       "      <td>2015-07-05T15:13:00</td>\n",
       "      <td>2015-07-05T15:13:00</td>\n",
       "      <td>Belle</td>\n",
       "      <td>NaN</td>\n",
       "      <td>Return to Owner</td>\n",
       "      <td>Spayed Female</td>\n",
       "    </tr>\n",
       "  </tbody>\n",
       "</table>\n",
       "</div>"
      ],
      "text/plain": [
       "  age_upon_intake animal_id animal_type                     breed  \\\n",
       "0         8 years   A706918         Dog  English Springer Spaniel   \n",
       "\n",
       "         color               datetime_x                datetime2  \\\n",
       "0  White/Liver  2015-07-05T12:59:00.000  2015-07-05T12:59:00.000   \n",
       "\n",
       "                     found_location intake_condition intake_type name_x  \\\n",
       "0  9409 Bluegrass Dr in Austin (TX)           Normal       Stray  Belle   \n",
       "\n",
       "  sex_upon_intake age_upon_outcome        date_of_birth           datetime_y  \\\n",
       "0   Spayed Female          8 years  2007-07-05T00:00:00  2015-07-05T15:13:00   \n",
       "\n",
       "             monthyear name_y outcome_subtype     outcome_type  \\\n",
       "0  2015-07-05T15:13:00  Belle             NaN  Return to Owner   \n",
       "\n",
       "  sex_upon_outcome  \n",
       "0    Spayed Female  "
      ]
     },
     "execution_count": 293,
     "metadata": {},
     "output_type": "execute_result"
    }
   ],
   "source": [
    "merge1.head(1)\n"
   ]
  },
  {
   "cell_type": "code",
   "execution_count": 294,
   "id": "c577fda5-ba46-4e84-bf36-1554d1c4e760",
   "metadata": {},
   "outputs": [
    {
     "data": {
      "text/plain": [
       "(100220, 20)"
      ]
     },
     "execution_count": 294,
     "metadata": {},
     "output_type": "execute_result"
    }
   ],
   "source": [
    "merge1.shape"
   ]
  },
  {
   "cell_type": "code",
   "execution_count": 295,
   "id": "c3a0ca4e-3aed-4e09-946e-57b63e18da0f",
   "metadata": {},
   "outputs": [
    {
     "data": {
      "text/html": [
       "<div>\n",
       "<style scoped>\n",
       "    .dataframe tbody tr th:only-of-type {\n",
       "        vertical-align: middle;\n",
       "    }\n",
       "\n",
       "    .dataframe tbody tr th {\n",
       "        vertical-align: top;\n",
       "    }\n",
       "\n",
       "    .dataframe thead th {\n",
       "        text-align: right;\n",
       "    }\n",
       "</style>\n",
       "<table border=\"1\" class=\"dataframe\">\n",
       "  <thead>\n",
       "    <tr style=\"text-align: right;\">\n",
       "      <th></th>\n",
       "      <th>age_upon_intake_x</th>\n",
       "      <th>animal_id</th>\n",
       "      <th>animal_type</th>\n",
       "      <th>breed</th>\n",
       "      <th>color</th>\n",
       "      <th>datetime_x</th>\n",
       "      <th>datetime2</th>\n",
       "      <th>found_location_x</th>\n",
       "      <th>intake_condition_x</th>\n",
       "      <th>intake_type_x</th>\n",
       "      <th>...</th>\n",
       "      <th>age_upon_intake_age_group</th>\n",
       "      <th>intake_datetime</th>\n",
       "      <th>intake_month</th>\n",
       "      <th>intake_year</th>\n",
       "      <th>intake_monthyear</th>\n",
       "      <th>intake_weekday</th>\n",
       "      <th>intake_hour</th>\n",
       "      <th>intake_number</th>\n",
       "      <th>time_in_shelter</th>\n",
       "      <th>time_in_shelter_days</th>\n",
       "    </tr>\n",
       "  </thead>\n",
       "  <tbody>\n",
       "    <tr>\n",
       "      <th>0</th>\n",
       "      <td>8 years</td>\n",
       "      <td>A706918</td>\n",
       "      <td>Dog</td>\n",
       "      <td>English Springer Spaniel</td>\n",
       "      <td>White/Liver</td>\n",
       "      <td>2015-07-05T12:59:00.000</td>\n",
       "      <td>2015-07-05T12:59:00.000</td>\n",
       "      <td>9409 Bluegrass Dr in Austin (TX)</td>\n",
       "      <td>Normal</td>\n",
       "      <td>Stray</td>\n",
       "      <td>...</td>\n",
       "      <td>(7.5, 10.0]</td>\n",
       "      <td>2015-07-05 12:59:00</td>\n",
       "      <td>7</td>\n",
       "      <td>2015</td>\n",
       "      <td>2015-07</td>\n",
       "      <td>Sunday</td>\n",
       "      <td>12</td>\n",
       "      <td>1.0</td>\n",
       "      <td>0 days 02:14:00.000000000</td>\n",
       "      <td>0.093056</td>\n",
       "    </tr>\n",
       "    <tr>\n",
       "      <th>1</th>\n",
       "      <td>11 months</td>\n",
       "      <td>A724273</td>\n",
       "      <td>Dog</td>\n",
       "      <td>Basenji Mix</td>\n",
       "      <td>Sable/White</td>\n",
       "      <td>2016-04-14T18:43:00.000</td>\n",
       "      <td>2016-04-14T18:43:00.000</td>\n",
       "      <td>2818 Palomino Trail in Austin (TX)</td>\n",
       "      <td>Normal</td>\n",
       "      <td>Stray</td>\n",
       "      <td>...</td>\n",
       "      <td>(-0.025, 2.5]</td>\n",
       "      <td>2016-04-14 18:43:00</td>\n",
       "      <td>4</td>\n",
       "      <td>2016</td>\n",
       "      <td>2016-04</td>\n",
       "      <td>Thursday</td>\n",
       "      <td>18</td>\n",
       "      <td>1.0</td>\n",
       "      <td>6 days 22:34:00.000000000</td>\n",
       "      <td>6.940278</td>\n",
       "    </tr>\n",
       "    <tr>\n",
       "      <th>2</th>\n",
       "      <td>4 weeks</td>\n",
       "      <td>A665644</td>\n",
       "      <td>Cat</td>\n",
       "      <td>Domestic Shorthair Mix</td>\n",
       "      <td>Calico</td>\n",
       "      <td>2013-10-21T07:59:00.000</td>\n",
       "      <td>2013-10-21T07:59:00.000</td>\n",
       "      <td>Austin (TX)</td>\n",
       "      <td>Sick</td>\n",
       "      <td>Stray</td>\n",
       "      <td>...</td>\n",
       "      <td>(-0.025, 2.5]</td>\n",
       "      <td>2013-10-21 07:59:00</td>\n",
       "      <td>10</td>\n",
       "      <td>2013</td>\n",
       "      <td>2013-10</td>\n",
       "      <td>Monday</td>\n",
       "      <td>7</td>\n",
       "      <td>1.0</td>\n",
       "      <td>0 days 03:40:00.000000000</td>\n",
       "      <td>0.152778</td>\n",
       "    </tr>\n",
       "    <tr>\n",
       "      <th>3</th>\n",
       "      <td>4 years</td>\n",
       "      <td>A682524</td>\n",
       "      <td>Dog</td>\n",
       "      <td>Doberman Pinsch/Australian Cattle Dog</td>\n",
       "      <td>Tan/Gray</td>\n",
       "      <td>2014-06-29T10:38:00.000</td>\n",
       "      <td>2014-06-29T10:38:00.000</td>\n",
       "      <td>800 Grove Blvd in Austin (TX)</td>\n",
       "      <td>Normal</td>\n",
       "      <td>Stray</td>\n",
       "      <td>...</td>\n",
       "      <td>(2.5, 5.0]</td>\n",
       "      <td>2014-06-29 10:38:00</td>\n",
       "      <td>6</td>\n",
       "      <td>2014</td>\n",
       "      <td>2014-06</td>\n",
       "      <td>Sunday</td>\n",
       "      <td>10</td>\n",
       "      <td>1.0</td>\n",
       "      <td>3 days 03:38:00.000000000</td>\n",
       "      <td>3.151389</td>\n",
       "    </tr>\n",
       "    <tr>\n",
       "      <th>4</th>\n",
       "      <td>2 years</td>\n",
       "      <td>A743852</td>\n",
       "      <td>Dog</td>\n",
       "      <td>Labrador Retriever Mix</td>\n",
       "      <td>Chocolate</td>\n",
       "      <td>2017-02-18T12:46:00.000</td>\n",
       "      <td>2017-02-18T12:46:00.000</td>\n",
       "      <td>Austin (TX)</td>\n",
       "      <td>Normal</td>\n",
       "      <td>Owner Surrender</td>\n",
       "      <td>...</td>\n",
       "      <td>(-0.025, 2.5]</td>\n",
       "      <td>2017-02-18 12:46:00</td>\n",
       "      <td>2</td>\n",
       "      <td>2017</td>\n",
       "      <td>2017-02</td>\n",
       "      <td>Saturday</td>\n",
       "      <td>12</td>\n",
       "      <td>1.0</td>\n",
       "      <td>3 days 04:58:00.000000000</td>\n",
       "      <td>3.206944</td>\n",
       "    </tr>\n",
       "  </tbody>\n",
       "</table>\n",
       "<p>5 rows × 58 columns</p>\n",
       "</div>"
      ],
      "text/plain": [
       "  age_upon_intake_x animal_id animal_type  \\\n",
       "0           8 years   A706918         Dog   \n",
       "1         11 months   A724273         Dog   \n",
       "2           4 weeks   A665644         Cat   \n",
       "3           4 years   A682524         Dog   \n",
       "4           2 years   A743852         Dog   \n",
       "\n",
       "                                   breed        color  \\\n",
       "0               English Springer Spaniel  White/Liver   \n",
       "1                            Basenji Mix  Sable/White   \n",
       "2                 Domestic Shorthair Mix       Calico   \n",
       "3  Doberman Pinsch/Australian Cattle Dog     Tan/Gray   \n",
       "4                 Labrador Retriever Mix    Chocolate   \n",
       "\n",
       "                datetime_x                datetime2  \\\n",
       "0  2015-07-05T12:59:00.000  2015-07-05T12:59:00.000   \n",
       "1  2016-04-14T18:43:00.000  2016-04-14T18:43:00.000   \n",
       "2  2013-10-21T07:59:00.000  2013-10-21T07:59:00.000   \n",
       "3  2014-06-29T10:38:00.000  2014-06-29T10:38:00.000   \n",
       "4  2017-02-18T12:46:00.000  2017-02-18T12:46:00.000   \n",
       "\n",
       "                     found_location_x intake_condition_x    intake_type_x  \\\n",
       "0    9409 Bluegrass Dr in Austin (TX)             Normal            Stray   \n",
       "1  2818 Palomino Trail in Austin (TX)             Normal            Stray   \n",
       "2                         Austin (TX)               Sick            Stray   \n",
       "3       800 Grove Blvd in Austin (TX)             Normal            Stray   \n",
       "4                         Austin (TX)             Normal  Owner Surrender   \n",
       "\n",
       "   ... age_upon_intake_age_group      intake_datetime intake_month  \\\n",
       "0  ...               (7.5, 10.0]  2015-07-05 12:59:00            7   \n",
       "1  ...             (-0.025, 2.5]  2016-04-14 18:43:00            4   \n",
       "2  ...             (-0.025, 2.5]  2013-10-21 07:59:00           10   \n",
       "3  ...                (2.5, 5.0]  2014-06-29 10:38:00            6   \n",
       "4  ...             (-0.025, 2.5]  2017-02-18 12:46:00            2   \n",
       "\n",
       "  intake_year intake_monthyear intake_weekday intake_hour intake_number  \\\n",
       "0        2015          2015-07         Sunday          12           1.0   \n",
       "1        2016          2016-04       Thursday          18           1.0   \n",
       "2        2013          2013-10         Monday           7           1.0   \n",
       "3        2014          2014-06         Sunday          10           1.0   \n",
       "4        2017          2017-02       Saturday          12           1.0   \n",
       "\n",
       "             time_in_shelter time_in_shelter_days  \n",
       "0  0 days 02:14:00.000000000             0.093056  \n",
       "1  6 days 22:34:00.000000000             6.940278  \n",
       "2  0 days 03:40:00.000000000             0.152778  \n",
       "3  3 days 03:38:00.000000000             3.151389  \n",
       "4  3 days 04:58:00.000000000             3.206944  \n",
       "\n",
       "[5 rows x 58 columns]"
      ]
     },
     "execution_count": 295,
     "metadata": {},
     "output_type": "execute_result"
    }
   ],
   "source": [
    "complete_merge=merge1.merge(\n",
    "    intakes_outcomes,\n",
    "    left_on=['animal_id',\n",
    "             'animal_type',\n",
    "             'breed',\n",
    "             'color'],\n",
    "    right_on=['animal_id_outcome',\n",
    "             'animal_type',\n",
    "             'breed',\n",
    "             'color']\n",
    "    )\n",
    "\n",
    "complete_merge.head()\n",
    "\n",
    "\n",
    "\n",
    "    \n",
    "\n",
    "#age_upon_outcome_(days) int64\n",
    "#age_upon_outcome_(years)      float64\n",
    "\n",
    "#outcome_month                   int64\n",
    "#outcome_year                    int64\n",
    "#outcome_hour                    int64\n",
    "#outcome_number                float64\n",
    "#dob_year                        int64\n",
    "#dob_month                       int64\n",
    "\n",
    "#count                           int64\n",
    "#age_upon_intake_(days)          int64\n",
    "#age_upon_intake_(years)       float64\n",
    "\n",
    "#intake_month                    int64\n",
    "#intake_year                     int64\n",
    "#intake_monthyear               object\n",
    "#intake_weekday                 object\n",
    "#intake_hour                     int64\n",
    "#intake_number                 float64\n",
    "#time_in_shelter                object\n",
    "#time_in_shelter_days          float64\n",
    "#dtype: object"
   ]
  },
  {
   "cell_type": "code",
   "execution_count": 296,
   "id": "82c6b2b1-ec7e-4f0f-ab57-96ee891ee660",
   "metadata": {},
   "outputs": [
    {
     "data": {
      "text/plain": [
       "(164351, 58)"
      ]
     },
     "execution_count": 296,
     "metadata": {},
     "output_type": "execute_result"
    }
   ],
   "source": [
    "complete_merge.shape\n",
    "\n"
   ]
  },
  {
   "cell_type": "markdown",
   "id": "c116e9c8-36bd-42eb-840d-dbae86e3e1cc",
   "metadata": {},
   "source": [
    "## Meets Expections"
   ]
  },
  {
   "cell_type": "markdown",
   "id": "ddfa37ce-48d8-4c1b-8f89-27d3f723a3d4",
   "metadata": {},
   "source": [
    "## Question 1:Is there an area where more pets are found?\n",
    "\n",
    "\n",
    "Find the *top 5 places* _where animals are found_  \n",
    "so the shelter can coordinate with local volunteers and animal control \n",
    "to monitor these areas.\n",
    "\n",
    "**Hint**: Try to __group__ the found locations together.\n"
   ]
  },
  {
   "cell_type": "code",
   "execution_count": 297,
   "id": "310e976c-adb6-4f7d-8bf6-e89097621527",
   "metadata": {},
   "outputs": [
    {
     "name": "stdout",
     "output_type": "stream",
     "text": [
      "These is the five top places 7201 Levander Loop in Austin (TX)whewre more pets are found873\n",
      "\n",
      "Austin (TX) 36352\n",
      "\n",
      "\n",
      "Outside Jurisdiction 3497\n",
      "\n",
      "\n",
      "Travis (TX) 1894\n",
      "\n",
      "\n",
      "Pflugerville (TX) 873\n",
      "\n",
      "\n",
      "7201 Levander Loop in Austin (TX) 873\n",
      "\n",
      "\n"
     ]
    }
   ],
   "source": [
    "more_pets_found=complete_merge.groupby('found_location_x').size().sort_values(ascending=False)\n",
    "five_more_found=more_pets_found.head(5)\n",
    "print(f'These is the five top places {label}whewre more pets are found{value}\\n')\n",
    "for label,value in five_more_found.items():\n",
    "    print(label, value)\n",
    "    print()\n",
    "    print()\n",
    "    \n",
    "   \n"
   ]
  },
  {
   "cell_type": "markdown",
   "id": "f700f7cf-ba9d-49d1-9fa0-617aa939df62",
   "metadata": {},
   "source": [
    "##  Question 2: What is the average number of pets found in a month in the year 2015? Are there months where there is a higher number of animals found?\n",
    "\n",
    "Knowing the number of pets the shelter might see in a month can help them gather enough resources and donations to care for the animals they receive."
   ]
  },
  {
   "cell_type": "code",
   "execution_count": 298,
   "id": "d9f963ce-e7e5-4d19-8ba6-9a49c8216859",
   "metadata": {},
   "outputs": [
    {
     "data": {
      "text/plain": [
       "<pandas.core.groupby.generic.DataFrameGroupBy object at 0x73a1410bd4c0>"
      ]
     },
     "execution_count": 298,
     "metadata": {},
     "output_type": "execute_result"
    }
   ],
   "source": [
    "pets_in_2015=complete_merge[(complete_merge.intake_year==2015)]\n",
    "pet_by_month=pets_in_2015.groupby('intake_month')\n",
    "\n",
    "pet_by_month\n",
    "\n",
    "\n"
   ]
  },
  {
   "cell_type": "markdown",
   "id": "82f4017c-b7f2-467d-b515-ea91b1dcc3e2",
   "metadata": {},
   "source": [
    "\n",
    "## Question 3: What is the ratio of incoming pets vs. adopted pets?\n",
    "\n",
    "This key metric helps the shelter know how they are doing.\n"
   ]
  },
  {
   "cell_type": "markdown",
   "id": "bc9acbdc-87f2-49dc-98d4-865902ebc283",
   "metadata": {},
   "source": [
    "##  Question 4: What is the distribution of the types of animals in the shelter?\n",
    "\n",
    "Find the count of each type of animal in the shelter.\n"
   ]
  },
  {
   "cell_type": "markdown",
   "id": "520b9034-6b3b-4eee-a177-8a5efb3ea1d2",
   "metadata": {},
   "source": [
    "\n",
    "## Question 5: What are the adoption rates for specific breeds?\n",
    "\n",
    "Find the top 5 dog breeds in the shelter (based on count) and then find the adoption percentage of each breed.\n"
   ]
  },
  {
   "cell_type": "markdown",
   "id": "a01e41e4-dd73-47f1-b2b8-a17bd1170b8f",
   "metadata": {},
   "source": [
    "\n",
    "## Question 6: What are the adoption rates for different colorings?\n",
    "\n",
    "Find the top 5 colorings in the shelter (based on count) and then find the adoption percentage of each color.\n"
   ]
  },
  {
   "cell_type": "markdown",
   "id": "b119f975-bc3f-4169-867a-ab263b8f4806",
   "metadata": {},
   "source": [
    "\n",
    "## Questions 7: About how many animals are spayed/neutered each month?\n",
    "\n",
    "This will help the shelter allocate resources and staff. Assume that all intact males and females will be spayed/neutered.\n"
   ]
  },
  {
   "cell_type": "markdown",
   "id": "f6e0cd98-dfb0-4495-ae0c-70fe4c90f7dd",
   "metadata": {},
   "source": [
    "## Questions 8: Describe your findings and methods for each of the above questions. Use markdown cells in JupyterLab to detail.\n",
    "### Findings\n",
    "1.Intakes and outcomes dataframes have the same number of columns and rows\n",
    "2. \n",
    "### Methods \n",
    "\n",
    "```python\n",
    "def hello()\n",
    "```"
   ]
  },
  {
   "cell_type": "markdown",
   "id": "24be81ee-992c-40be-9f2a-1ab8038d08e7",
   "metadata": {},
   "source": [
    "# Extra Credit"
   ]
  },
  {
   "cell_type": "code",
   "execution_count": null,
   "id": "f294d773-51b1-470a-b9e7-9385626fa2af",
   "metadata": {},
   "outputs": [],
   "source": []
  },
  {
   "cell_type": "markdown",
   "id": "8f22dece-624a-4ace-ab76-b71fe9457bf2",
   "metadata": {},
   "source": [
    "\n",
    "##  Question 9 How many animals in the shelter are repeats? Which animal was returned to the shelter the most?\n",
    "\n",
    "This means the animal has been brought in more than once.\n"
   ]
  },
  {
   "cell_type": "markdown",
   "id": "957a8935-109b-427b-a0f2-02a97e41e6be",
   "metadata": {},
   "source": [
    "\n",
    "## Question 10: What are the adoption rates for the following age groups?\n",
    "\n",
    "    baby: 4 months and less\n",
    "    young: 5 months - 2 years\n",
    "    adult: 3 years - 10 years\n",
    "    senior: 11+\n",
    "\n"
   ]
  },
  {
   "cell_type": "markdown",
   "id": "e46c7c6c-8c07-42ea-9c86-6c3ff2425dab",
   "metadata": {},
   "source": [
    "## Question 11.If spay/neuter for a dog costs $100 and a spay/neuter for a cat costs $50, how much did the shelter spend in 2015 on these procedures?"
   ]
  },
  {
   "cell_type": "markdown",
   "id": "9b1f06a2-9c64-4940-87b1-942778079881",
   "metadata": {},
   "source": [
    "\n",
    "## Questions 12.Describe your findings and methods for each of the above questions. Use markdown cells in JupyterLab to detail.\n",
    "\n",
    "    How did you get your answer?\n",
    "    What was your final answer?\n",
    "\n"
   ]
  },
  {
   "cell_type": "code",
   "execution_count": null,
   "id": "05de5bdb-fa76-4e70-92fa-52765ebc73bf",
   "metadata": {},
   "outputs": [],
   "source": []
  },
  {
   "cell_type": "markdown",
   "id": "4a8ef993-5dd1-4298-b0b6-353cf6950ff1",
   "metadata": {},
   "source": [
    "# Bibliograpy\n",
    "![images]\n",
    "\n",
    "[Analyzing Books with Pandas](https://teamtreehouse.com/library/analyzing-books-with-pandas \"link to the course\")"
   ]
  },
  {
   "cell_type": "code",
   "execution_count": null,
   "id": "1525b96c-aa6e-4b88-90c8-7751d81b025c",
   "metadata": {},
   "outputs": [],
   "source": []
  },
  {
   "cell_type": "code",
   "execution_count": null,
   "id": "f54c40fb-1acb-47d3-914e-363f73e2690c",
   "metadata": {},
   "outputs": [],
   "source": []
  }
 ],
 "metadata": {
  "kernelspec": {
   "display_name": "Python 3 (ipykernel)",
   "language": "python",
   "name": "python3"
  },
  "language_info": {
   "codemirror_mode": {
    "name": "ipython",
    "version": 3
   },
   "file_extension": ".py",
   "mimetype": "text/x-python",
   "name": "python",
   "nbconvert_exporter": "python",
   "pygments_lexer": "ipython3",
   "version": "3.12.7"
  }
 },
 "nbformat": 4,
 "nbformat_minor": 5
}
