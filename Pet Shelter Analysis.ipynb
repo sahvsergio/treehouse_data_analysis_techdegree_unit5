{
 "cells": [
  {
   "cell_type": "markdown",
   "id": "c00611c2-f515-4961-9614-ee6130453119",
   "metadata": {
    "editable": true,
    "slideshow": {
     "slide_type": ""
    },
    "tags": []
   },
   "source": [
    "# Data Analysis Tech Degree Unit 5: Pet Shelter Analysis\n",
    "\n",
    "  ___\n",
    "\n",
    ">Use Python’s Pandas library  to analyze pet shelter data\n",
    ">\n",
    ">to answer important questions for stakeholders. "
   ]
  },
  {
   "cell_type": "code",
   "execution_count": null,
   "id": "a7489786-502c-454d-bf31-11cf52868ac4",
   "metadata": {
    "collapsed": true,
    "jupyter": {
     "outputs_hidden": true,
     "source_hidden": true
    }
   },
   "outputs": [],
   "source": []
  },
  {
   "cell_type": "markdown",
   "id": "bcb86534-a921-4a92-80f8-f78b7573da9f",
   "metadata": {},
   "source": [
    "## Setting everything up\n",
    "---\n",
    "\n",
    "In order to start working with the files, we need to import pandas as pd and reading the files\n",
    "\n",
    "``` python\n",
    "# import libraries\n",
    "import pandas as pd \n",
    "# reading the files \n",
    "intakes=pd.read_csv('aac_intakes.csv')\n",
    "intakes_outcomes=pd.read_csv('aac_intakes_outcomes.csv')\n",
    "outcomes=pd.read_csv('aac_outcomes.csv')\n",
    "```\n",
    "so let's do that next \n"
   ]
  },
  {
   "cell_type": "code",
   "execution_count": 1,
   "id": "6630def6-190d-4715-8796-2291b5d433db",
   "metadata": {},
   "outputs": [
    {
     "name": "stdout",
     "output_type": "stream",
     "text": [
      "Requirement already satisfied: pip in /home/developer/anaconda3/envs/pet_shelter_analysis/lib/python3.12/site-packages (24.3.1)\n",
      "Requirement already satisfied: msgpack in /home/developer/anaconda3/envs/pet_shelter_analysis/lib/python3.12/site-packages (1.1.0)\n",
      "Requirement already satisfied: matplotlib in /home/developer/anaconda3/envs/pet_shelter_analysis/lib/python3.12/site-packages (3.9.2)\n",
      "Requirement already satisfied: contourpy>=1.0.1 in /home/developer/anaconda3/envs/pet_shelter_analysis/lib/python3.12/site-packages (from matplotlib) (1.2.0)\n",
      "Requirement already satisfied: cycler>=0.10 in /home/developer/anaconda3/envs/pet_shelter_analysis/lib/python3.12/site-packages (from matplotlib) (0.11.0)\n",
      "Requirement already satisfied: fonttools>=4.22.0 in /home/developer/anaconda3/envs/pet_shelter_analysis/lib/python3.12/site-packages (from matplotlib) (4.51.0)\n",
      "Requirement already satisfied: kiwisolver>=1.3.1 in /home/developer/anaconda3/envs/pet_shelter_analysis/lib/python3.12/site-packages (from matplotlib) (1.4.4)\n",
      "Requirement already satisfied: numpy>=1.23 in /home/developer/anaconda3/envs/pet_shelter_analysis/lib/python3.12/site-packages (from matplotlib) (1.26.4)\n",
      "Requirement already satisfied: packaging>=20.0 in /home/developer/anaconda3/envs/pet_shelter_analysis/lib/python3.12/site-packages (from matplotlib) (24.1)\n",
      "Requirement already satisfied: pillow>=8 in /home/developer/anaconda3/envs/pet_shelter_analysis/lib/python3.12/site-packages (from matplotlib) (10.4.0)\n",
      "Requirement already satisfied: pyparsing>=2.3.1 in /home/developer/anaconda3/envs/pet_shelter_analysis/lib/python3.12/site-packages (from matplotlib) (3.1.2)\n",
      "Requirement already satisfied: python-dateutil>=2.7 in /home/developer/anaconda3/envs/pet_shelter_analysis/lib/python3.12/site-packages (from matplotlib) (2.9.0.post0)\n",
      "Requirement already satisfied: six>=1.5 in /home/developer/anaconda3/envs/pet_shelter_analysis/lib/python3.12/site-packages (from python-dateutil>=2.7->matplotlib) (1.16.0)\n"
     ]
    }
   ],
   "source": [
    "#import libraries\n",
    "import pandas as pd \n",
    "\n",
    "import sys\n",
    "!{sys.executable} -m pip install --upgrade pip\n",
    "!{sys.executable} -m pip install msgpack\n",
    "!{sys.executable} -m pip install matplotlib\n",
    "%matplotlib inline\n",
    "import matplotlib.pyplot as plt\n",
    "\n"
   ]
  },
  {
   "cell_type": "code",
   "execution_count": 2,
   "id": "80e3399e-6bf4-42b4-91d7-9869b00540fd",
   "metadata": {
    "jupyter": {
     "source_hidden": true
    }
   },
   "outputs": [],
   "source": [
    "#import data\n",
    "intakes=pd.read_csv('aac_intakes.csv')\n",
    "intakes_outcomes=pd.read_csv('aac_intakes_outcomes.csv')\n",
    "outcomes=pd.read_csv('aac_outcomes.csv')"
   ]
  },
  {
   "cell_type": "markdown",
   "id": "ba6fdbbc-b0fd-4570-8837-a0cf6c84d51c",
   "metadata": {},
   "source": [
    "## taking an initial look at the data from the csvs\n",
    "\n",
    "Let's apply the following methods to look at each dataframe for info\n",
    "* `head()`\n",
    "* `tail()`\n",
    "* `len()`\n",
    "* `shape`\n",
    "* `dtypes`"
   ]
  },
  {
   "cell_type": "markdown",
   "id": "40eaccf2-9843-4dc7-ace7-93163ce47fcf",
   "metadata": {},
   "source": [
    "### Taking a look at the intakes dataframe"
   ]
  },
  {
   "cell_type": "code",
   "execution_count": 3,
   "id": "85a04ada-4d76-4b00-a35c-b405a698800e",
   "metadata": {},
   "outputs": [
    {
     "data": {
      "text/html": [
       "<div>\n",
       "<style scoped>\n",
       "    .dataframe tbody tr th:only-of-type {\n",
       "        vertical-align: middle;\n",
       "    }\n",
       "\n",
       "    .dataframe tbody tr th {\n",
       "        vertical-align: top;\n",
       "    }\n",
       "\n",
       "    .dataframe thead th {\n",
       "        text-align: right;\n",
       "    }\n",
       "</style>\n",
       "<table border=\"1\" class=\"dataframe\">\n",
       "  <thead>\n",
       "    <tr style=\"text-align: right;\">\n",
       "      <th></th>\n",
       "      <th>age_upon_intake</th>\n",
       "      <th>animal_id</th>\n",
       "      <th>animal_type</th>\n",
       "      <th>breed</th>\n",
       "      <th>color</th>\n",
       "      <th>datetime</th>\n",
       "      <th>datetime2</th>\n",
       "      <th>found_location</th>\n",
       "      <th>intake_condition</th>\n",
       "      <th>intake_type</th>\n",
       "      <th>name</th>\n",
       "      <th>sex_upon_intake</th>\n",
       "    </tr>\n",
       "  </thead>\n",
       "  <tbody>\n",
       "    <tr>\n",
       "      <th>9900</th>\n",
       "      <td>2 weeks</td>\n",
       "      <td>A674214</td>\n",
       "      <td>Livestock</td>\n",
       "      <td>Pig Mix</td>\n",
       "      <td>Black</td>\n",
       "      <td>2014-03-09T16:45:00.000</td>\n",
       "      <td>2014-03-09T16:45:00.000</td>\n",
       "      <td>Davis Ln  &amp; Brodie Ln in Austin (TX)</td>\n",
       "      <td>Normal</td>\n",
       "      <td>Stray</td>\n",
       "      <td>NaN</td>\n",
       "      <td>Unknown</td>\n",
       "    </tr>\n",
       "    <tr>\n",
       "      <th>9914</th>\n",
       "      <td>2 years</td>\n",
       "      <td>A701250</td>\n",
       "      <td>Livestock</td>\n",
       "      <td>Pig Mix</td>\n",
       "      <td>Pink</td>\n",
       "      <td>2015-04-26T12:37:00.000</td>\n",
       "      <td>2015-04-26T12:37:00.000</td>\n",
       "      <td>12Th St And Airport Blvd in Austin (TX)</td>\n",
       "      <td>Normal</td>\n",
       "      <td>Stray</td>\n",
       "      <td>NaN</td>\n",
       "      <td>Intact Female</td>\n",
       "    </tr>\n",
       "    <tr>\n",
       "      <th>20700</th>\n",
       "      <td>1 year</td>\n",
       "      <td>A718910</td>\n",
       "      <td>Livestock</td>\n",
       "      <td>Pig Mix</td>\n",
       "      <td>White</td>\n",
       "      <td>2016-01-09T12:14:00.000</td>\n",
       "      <td>2016-01-09T12:14:00.000</td>\n",
       "      <td>12707 N Mopac Expy in Austin (TX)</td>\n",
       "      <td>Normal</td>\n",
       "      <td>Stray</td>\n",
       "      <td>NaN</td>\n",
       "      <td>Intact Male</td>\n",
       "    </tr>\n",
       "    <tr>\n",
       "      <th>50240</th>\n",
       "      <td>6 months</td>\n",
       "      <td>A742204</td>\n",
       "      <td>Livestock</td>\n",
       "      <td>Potbelly Pig Mix</td>\n",
       "      <td>Black/White</td>\n",
       "      <td>2017-01-17T12:22:00.000</td>\n",
       "      <td>2017-01-17T12:22:00.000</td>\n",
       "      <td>Austin (TX)</td>\n",
       "      <td>Normal</td>\n",
       "      <td>Owner Surrender</td>\n",
       "      <td>NaN</td>\n",
       "      <td>Intact Female</td>\n",
       "    </tr>\n",
       "    <tr>\n",
       "      <th>55334</th>\n",
       "      <td>6 months</td>\n",
       "      <td>A668167</td>\n",
       "      <td>Livestock</td>\n",
       "      <td>Pig Mix</td>\n",
       "      <td>Black/White</td>\n",
       "      <td>2013-11-28T19:39:00.000</td>\n",
       "      <td>2013-11-28T19:39:00.000</td>\n",
       "      <td>1603 Astro Pl in Austin (TX)</td>\n",
       "      <td>Normal</td>\n",
       "      <td>Stray</td>\n",
       "      <td>NaN</td>\n",
       "      <td>Intact Female</td>\n",
       "    </tr>\n",
       "    <tr>\n",
       "      <th>61040</th>\n",
       "      <td>1 year</td>\n",
       "      <td>A673651</td>\n",
       "      <td>Livestock</td>\n",
       "      <td>Pig Mix</td>\n",
       "      <td>Black/White</td>\n",
       "      <td>2014-02-28T11:06:00.000</td>\n",
       "      <td>2014-02-28T11:06:00.000</td>\n",
       "      <td>6507 Eudora Cove in Austin (TX)</td>\n",
       "      <td>Normal</td>\n",
       "      <td>Stray</td>\n",
       "      <td>NaN</td>\n",
       "      <td>Neutered Male</td>\n",
       "    </tr>\n",
       "    <tr>\n",
       "      <th>62719</th>\n",
       "      <td>1 year</td>\n",
       "      <td>A715047</td>\n",
       "      <td>Livestock</td>\n",
       "      <td>Goat Mix</td>\n",
       "      <td>Brown</td>\n",
       "      <td>2015-10-30T21:02:00.000</td>\n",
       "      <td>2015-10-30T21:02:00.000</td>\n",
       "      <td>Quicksilver &amp; S Pleasant Valley in Austin (TX)</td>\n",
       "      <td>Normal</td>\n",
       "      <td>Public Assist</td>\n",
       "      <td>NaN</td>\n",
       "      <td>Unknown</td>\n",
       "    </tr>\n",
       "    <tr>\n",
       "      <th>63766</th>\n",
       "      <td>2 years</td>\n",
       "      <td>A764822</td>\n",
       "      <td>Livestock</td>\n",
       "      <td>Potbelly Pig Mix</td>\n",
       "      <td>White</td>\n",
       "      <td>2018-01-06T17:34:00.000</td>\n",
       "      <td>2018-01-06T17:34:00.000</td>\n",
       "      <td>Pearce Lane And Ross Road in Del Valle (TX)</td>\n",
       "      <td>Normal</td>\n",
       "      <td>Stray</td>\n",
       "      <td>NaN</td>\n",
       "      <td>Intact Female</td>\n",
       "    </tr>\n",
       "    <tr>\n",
       "      <th>65013</th>\n",
       "      <td>5 months</td>\n",
       "      <td>A679540</td>\n",
       "      <td>Livestock</td>\n",
       "      <td>Goat Mix</td>\n",
       "      <td>Black</td>\n",
       "      <td>2014-05-22T14:22:00.000</td>\n",
       "      <td>2014-05-22T14:22:00.000</td>\n",
       "      <td>Rundberg in Austin (TX)</td>\n",
       "      <td>Normal</td>\n",
       "      <td>Stray</td>\n",
       "      <td>NaN</td>\n",
       "      <td>Intact Male</td>\n",
       "    </tr>\n",
       "  </tbody>\n",
       "</table>\n",
       "</div>"
      ],
      "text/plain": [
       "      age_upon_intake animal_id animal_type             breed        color  \\\n",
       "9900          2 weeks   A674214   Livestock           Pig Mix        Black   \n",
       "9914          2 years   A701250   Livestock           Pig Mix         Pink   \n",
       "20700          1 year   A718910   Livestock           Pig Mix        White   \n",
       "50240        6 months   A742204   Livestock  Potbelly Pig Mix  Black/White   \n",
       "55334        6 months   A668167   Livestock           Pig Mix  Black/White   \n",
       "61040          1 year   A673651   Livestock           Pig Mix  Black/White   \n",
       "62719          1 year   A715047   Livestock          Goat Mix        Brown   \n",
       "63766         2 years   A764822   Livestock  Potbelly Pig Mix        White   \n",
       "65013        5 months   A679540   Livestock          Goat Mix        Black   \n",
       "\n",
       "                      datetime                datetime2  \\\n",
       "9900   2014-03-09T16:45:00.000  2014-03-09T16:45:00.000   \n",
       "9914   2015-04-26T12:37:00.000  2015-04-26T12:37:00.000   \n",
       "20700  2016-01-09T12:14:00.000  2016-01-09T12:14:00.000   \n",
       "50240  2017-01-17T12:22:00.000  2017-01-17T12:22:00.000   \n",
       "55334  2013-11-28T19:39:00.000  2013-11-28T19:39:00.000   \n",
       "61040  2014-02-28T11:06:00.000  2014-02-28T11:06:00.000   \n",
       "62719  2015-10-30T21:02:00.000  2015-10-30T21:02:00.000   \n",
       "63766  2018-01-06T17:34:00.000  2018-01-06T17:34:00.000   \n",
       "65013  2014-05-22T14:22:00.000  2014-05-22T14:22:00.000   \n",
       "\n",
       "                                       found_location intake_condition  \\\n",
       "9900             Davis Ln  & Brodie Ln in Austin (TX)           Normal   \n",
       "9914          12Th St And Airport Blvd in Austin (TX)           Normal   \n",
       "20700               12707 N Mopac Expy in Austin (TX)           Normal   \n",
       "50240                                     Austin (TX)           Normal   \n",
       "55334                    1603 Astro Pl in Austin (TX)           Normal   \n",
       "61040                 6507 Eudora Cove in Austin (TX)           Normal   \n",
       "62719  Quicksilver & S Pleasant Valley in Austin (TX)           Normal   \n",
       "63766     Pearce Lane And Ross Road in Del Valle (TX)           Normal   \n",
       "65013                         Rundberg in Austin (TX)           Normal   \n",
       "\n",
       "           intake_type name sex_upon_intake  \n",
       "9900             Stray  NaN         Unknown  \n",
       "9914             Stray  NaN   Intact Female  \n",
       "20700            Stray  NaN     Intact Male  \n",
       "50240  Owner Surrender  NaN   Intact Female  \n",
       "55334            Stray  NaN   Intact Female  \n",
       "61040            Stray  NaN   Neutered Male  \n",
       "62719    Public Assist  NaN         Unknown  \n",
       "63766            Stray  NaN   Intact Female  \n",
       "65013            Stray  NaN     Intact Male  "
      ]
     },
     "execution_count": 3,
     "metadata": {},
     "output_type": "execute_result"
    }
   ],
   "source": [
    "intakes\n",
    "intakes.loc[(intakes.animal_type=='Livestock')]"
   ]
  },
  {
   "cell_type": "code",
   "execution_count": 4,
   "id": "562f6243-1b1e-42d1-b1f7-f4b9f371cfcd",
   "metadata": {
    "jupyter": {
     "source_hidden": true
    }
   },
   "outputs": [
    {
     "data": {
      "text/html": [
       "<div>\n",
       "<style scoped>\n",
       "    .dataframe tbody tr th:only-of-type {\n",
       "        vertical-align: middle;\n",
       "    }\n",
       "\n",
       "    .dataframe tbody tr th {\n",
       "        vertical-align: top;\n",
       "    }\n",
       "\n",
       "    .dataframe thead th {\n",
       "        text-align: right;\n",
       "    }\n",
       "</style>\n",
       "<table border=\"1\" class=\"dataframe\">\n",
       "  <thead>\n",
       "    <tr style=\"text-align: right;\">\n",
       "      <th></th>\n",
       "      <th>age_upon_intake</th>\n",
       "      <th>animal_id</th>\n",
       "      <th>animal_type</th>\n",
       "      <th>breed</th>\n",
       "      <th>color</th>\n",
       "      <th>datetime</th>\n",
       "      <th>datetime2</th>\n",
       "      <th>found_location</th>\n",
       "      <th>intake_condition</th>\n",
       "      <th>intake_type</th>\n",
       "      <th>name</th>\n",
       "      <th>sex_upon_intake</th>\n",
       "    </tr>\n",
       "  </thead>\n",
       "  <tbody>\n",
       "    <tr>\n",
       "      <th>0</th>\n",
       "      <td>8 years</td>\n",
       "      <td>A706918</td>\n",
       "      <td>Dog</td>\n",
       "      <td>English Springer Spaniel</td>\n",
       "      <td>White/Liver</td>\n",
       "      <td>2015-07-05T12:59:00.000</td>\n",
       "      <td>2015-07-05T12:59:00.000</td>\n",
       "      <td>9409 Bluegrass Dr in Austin (TX)</td>\n",
       "      <td>Normal</td>\n",
       "      <td>Stray</td>\n",
       "      <td>Belle</td>\n",
       "      <td>Spayed Female</td>\n",
       "    </tr>\n",
       "  </tbody>\n",
       "</table>\n",
       "</div>"
      ],
      "text/plain": [
       "  age_upon_intake animal_id animal_type                     breed  \\\n",
       "0         8 years   A706918         Dog  English Springer Spaniel   \n",
       "\n",
       "         color                 datetime                datetime2  \\\n",
       "0  White/Liver  2015-07-05T12:59:00.000  2015-07-05T12:59:00.000   \n",
       "\n",
       "                     found_location intake_condition intake_type   name  \\\n",
       "0  9409 Bluegrass Dr in Austin (TX)           Normal       Stray  Belle   \n",
       "\n",
       "  sex_upon_intake  \n",
       "0   Spayed Female  "
      ]
     },
     "execution_count": 4,
     "metadata": {},
     "output_type": "execute_result"
    }
   ],
   "source": [
    "intakes.head(1)"
   ]
  },
  {
   "cell_type": "code",
   "execution_count": 5,
   "id": "b3ce871e-d8cd-460a-b0f9-4c5ee2289f58",
   "metadata": {
    "jupyter": {
     "source_hidden": true
    }
   },
   "outputs": [
    {
     "data": {
      "text/html": [
       "<div>\n",
       "<style scoped>\n",
       "    .dataframe tbody tr th:only-of-type {\n",
       "        vertical-align: middle;\n",
       "    }\n",
       "\n",
       "    .dataframe tbody tr th {\n",
       "        vertical-align: top;\n",
       "    }\n",
       "\n",
       "    .dataframe thead th {\n",
       "        text-align: right;\n",
       "    }\n",
       "</style>\n",
       "<table border=\"1\" class=\"dataframe\">\n",
       "  <thead>\n",
       "    <tr style=\"text-align: right;\">\n",
       "      <th></th>\n",
       "      <th>age_upon_intake</th>\n",
       "      <th>animal_id</th>\n",
       "      <th>animal_type</th>\n",
       "      <th>breed</th>\n",
       "      <th>color</th>\n",
       "      <th>datetime</th>\n",
       "      <th>datetime2</th>\n",
       "      <th>found_location</th>\n",
       "      <th>intake_condition</th>\n",
       "      <th>intake_type</th>\n",
       "      <th>name</th>\n",
       "      <th>sex_upon_intake</th>\n",
       "    </tr>\n",
       "  </thead>\n",
       "  <tbody>\n",
       "    <tr>\n",
       "      <th>80182</th>\n",
       "      <td>10 years</td>\n",
       "      <td>A769067</td>\n",
       "      <td>Dog</td>\n",
       "      <td>Boxer Mix</td>\n",
       "      <td>Brown Brindle</td>\n",
       "      <td>2018-03-29T18:20:00.000</td>\n",
       "      <td>2018-03-29T18:20:00.000</td>\n",
       "      <td>11216 Jollyville Rd 216 in Austin (TX)</td>\n",
       "      <td>Aged</td>\n",
       "      <td>Stray</td>\n",
       "      <td>NaN</td>\n",
       "      <td>Spayed Female</td>\n",
       "    </tr>\n",
       "    <tr>\n",
       "      <th>80183</th>\n",
       "      <td>5 years</td>\n",
       "      <td>A768934</td>\n",
       "      <td>Dog</td>\n",
       "      <td>Dachshund Wirehair/Chihuahua Shorthair</td>\n",
       "      <td>Chocolate/White</td>\n",
       "      <td>2018-03-27T14:27:00.000</td>\n",
       "      <td>2018-03-27T14:27:00.000</td>\n",
       "      <td>603 West Johanna Street in Austin (TX)</td>\n",
       "      <td>Normal</td>\n",
       "      <td>Stray</td>\n",
       "      <td>NaN</td>\n",
       "      <td>Intact Male</td>\n",
       "    </tr>\n",
       "    <tr>\n",
       "      <th>80184</th>\n",
       "      <td>2 years</td>\n",
       "      <td>A769064</td>\n",
       "      <td>Other</td>\n",
       "      <td>Bat Mix</td>\n",
       "      <td>Brown</td>\n",
       "      <td>2018-03-29T17:13:00.000</td>\n",
       "      <td>2018-03-29T17:13:00.000</td>\n",
       "      <td>2519 Scarbrough Dr in Travis (TX)</td>\n",
       "      <td>Normal</td>\n",
       "      <td>Wildlife</td>\n",
       "      <td>NaN</td>\n",
       "      <td>Unknown</td>\n",
       "    </tr>\n",
       "    <tr>\n",
       "      <th>80185</th>\n",
       "      <td>3 years</td>\n",
       "      <td>A675680</td>\n",
       "      <td>Dog</td>\n",
       "      <td>German Shepherd/Black/Tan Hound</td>\n",
       "      <td>Black/Brown</td>\n",
       "      <td>2014-03-31T18:10:00.000</td>\n",
       "      <td>2014-03-31T18:10:00.000</td>\n",
       "      <td>Austin (TX)</td>\n",
       "      <td>Normal</td>\n",
       "      <td>Public Assist</td>\n",
       "      <td>Draco</td>\n",
       "      <td>Neutered Male</td>\n",
       "    </tr>\n",
       "    <tr>\n",
       "      <th>80186</th>\n",
       "      <td>1 year</td>\n",
       "      <td>A680949</td>\n",
       "      <td>Dog</td>\n",
       "      <td>Chihuahua Shorthair/Beagle</td>\n",
       "      <td>Tan</td>\n",
       "      <td>2014-06-10T11:53:00.000</td>\n",
       "      <td>2014-06-10T11:53:00.000</td>\n",
       "      <td>4605 Lyra Cir in Austin (TX)</td>\n",
       "      <td>Normal</td>\n",
       "      <td>Stray</td>\n",
       "      <td>Lolo</td>\n",
       "      <td>Intact Male</td>\n",
       "    </tr>\n",
       "  </tbody>\n",
       "</table>\n",
       "</div>"
      ],
      "text/plain": [
       "      age_upon_intake animal_id animal_type  \\\n",
       "80182        10 years   A769067         Dog   \n",
       "80183         5 years   A768934         Dog   \n",
       "80184         2 years   A769064       Other   \n",
       "80185         3 years   A675680         Dog   \n",
       "80186          1 year   A680949         Dog   \n",
       "\n",
       "                                        breed            color  \\\n",
       "80182                               Boxer Mix    Brown Brindle   \n",
       "80183  Dachshund Wirehair/Chihuahua Shorthair  Chocolate/White   \n",
       "80184                                 Bat Mix            Brown   \n",
       "80185         German Shepherd/Black/Tan Hound      Black/Brown   \n",
       "80186              Chihuahua Shorthair/Beagle              Tan   \n",
       "\n",
       "                      datetime                datetime2  \\\n",
       "80182  2018-03-29T18:20:00.000  2018-03-29T18:20:00.000   \n",
       "80183  2018-03-27T14:27:00.000  2018-03-27T14:27:00.000   \n",
       "80184  2018-03-29T17:13:00.000  2018-03-29T17:13:00.000   \n",
       "80185  2014-03-31T18:10:00.000  2014-03-31T18:10:00.000   \n",
       "80186  2014-06-10T11:53:00.000  2014-06-10T11:53:00.000   \n",
       "\n",
       "                               found_location intake_condition    intake_type  \\\n",
       "80182  11216 Jollyville Rd 216 in Austin (TX)             Aged          Stray   \n",
       "80183  603 West Johanna Street in Austin (TX)           Normal          Stray   \n",
       "80184       2519 Scarbrough Dr in Travis (TX)           Normal       Wildlife   \n",
       "80185                             Austin (TX)           Normal  Public Assist   \n",
       "80186            4605 Lyra Cir in Austin (TX)           Normal          Stray   \n",
       "\n",
       "        name sex_upon_intake  \n",
       "80182    NaN   Spayed Female  \n",
       "80183    NaN     Intact Male  \n",
       "80184    NaN         Unknown  \n",
       "80185  Draco   Neutered Male  \n",
       "80186   Lolo     Intact Male  "
      ]
     },
     "execution_count": 5,
     "metadata": {},
     "output_type": "execute_result"
    }
   ],
   "source": [
    "intakes.tail()"
   ]
  },
  {
   "cell_type": "code",
   "execution_count": 6,
   "id": "28bf4ef7-7f86-4f04-afdf-c75917fb89fe",
   "metadata": {
    "jupyter": {
     "source_hidden": true
    }
   },
   "outputs": [
    {
     "data": {
      "text/html": [
       "<div>\n",
       "<style scoped>\n",
       "    .dataframe tbody tr th:only-of-type {\n",
       "        vertical-align: middle;\n",
       "    }\n",
       "\n",
       "    .dataframe tbody tr th {\n",
       "        vertical-align: top;\n",
       "    }\n",
       "\n",
       "    .dataframe thead th {\n",
       "        text-align: right;\n",
       "    }\n",
       "</style>\n",
       "<table border=\"1\" class=\"dataframe\">\n",
       "  <thead>\n",
       "    <tr style=\"text-align: right;\">\n",
       "      <th></th>\n",
       "      <th>age_upon_intake</th>\n",
       "      <th>animal_id</th>\n",
       "      <th>animal_type</th>\n",
       "      <th>breed</th>\n",
       "      <th>color</th>\n",
       "      <th>datetime</th>\n",
       "      <th>datetime2</th>\n",
       "      <th>found_location</th>\n",
       "      <th>intake_condition</th>\n",
       "      <th>intake_type</th>\n",
       "      <th>name</th>\n",
       "      <th>sex_upon_intake</th>\n",
       "    </tr>\n",
       "  </thead>\n",
       "  <tbody>\n",
       "    <tr>\n",
       "      <th>80186</th>\n",
       "      <td>1 year</td>\n",
       "      <td>A680949</td>\n",
       "      <td>Dog</td>\n",
       "      <td>Chihuahua Shorthair/Beagle</td>\n",
       "      <td>Tan</td>\n",
       "      <td>2014-06-10T11:53:00.000</td>\n",
       "      <td>2014-06-10T11:53:00.000</td>\n",
       "      <td>4605 Lyra Cir in Austin (TX)</td>\n",
       "      <td>Normal</td>\n",
       "      <td>Stray</td>\n",
       "      <td>Lolo</td>\n",
       "      <td>Intact Male</td>\n",
       "    </tr>\n",
       "  </tbody>\n",
       "</table>\n",
       "</div>"
      ],
      "text/plain": [
       "      age_upon_intake animal_id animal_type                       breed color  \\\n",
       "80186          1 year   A680949         Dog  Chihuahua Shorthair/Beagle   Tan   \n",
       "\n",
       "                      datetime                datetime2  \\\n",
       "80186  2014-06-10T11:53:00.000  2014-06-10T11:53:00.000   \n",
       "\n",
       "                     found_location intake_condition intake_type  name  \\\n",
       "80186  4605 Lyra Cir in Austin (TX)           Normal       Stray  Lolo   \n",
       "\n",
       "      sex_upon_intake  \n",
       "80186     Intact Male  "
      ]
     },
     "execution_count": 6,
     "metadata": {},
     "output_type": "execute_result"
    }
   ],
   "source": [
    "intakes.tail(1)"
   ]
  },
  {
   "cell_type": "code",
   "execution_count": 7,
   "id": "9566c6c1-5897-4c81-83bf-4e1e3ff532ba",
   "metadata": {
    "jupyter": {
     "source_hidden": true
    }
   },
   "outputs": [
    {
     "data": {
      "text/plain": [
       "80187"
      ]
     },
     "execution_count": 7,
     "metadata": {},
     "output_type": "execute_result"
    }
   ],
   "source": [
    "len(intakes)"
   ]
  },
  {
   "cell_type": "code",
   "execution_count": 8,
   "id": "31d9c99f-7ce1-4130-949a-0d8f05116234",
   "metadata": {
    "jupyter": {
     "source_hidden": true
    }
   },
   "outputs": [
    {
     "data": {
      "text/plain": [
       "(80187, 12)"
      ]
     },
     "execution_count": 8,
     "metadata": {},
     "output_type": "execute_result"
    }
   ],
   "source": [
    "intakes.shape"
   ]
  },
  {
   "cell_type": "code",
   "execution_count": 9,
   "id": "1d299319-66e8-42c2-9c11-f2420a0673d6",
   "metadata": {
    "jupyter": {
     "source_hidden": true
    }
   },
   "outputs": [
    {
     "data": {
      "text/plain": [
       "age_upon_intake     object\n",
       "animal_id           object\n",
       "animal_type         object\n",
       "breed               object\n",
       "color               object\n",
       "datetime            object\n",
       "datetime2           object\n",
       "found_location      object\n",
       "intake_condition    object\n",
       "intake_type         object\n",
       "name                object\n",
       "sex_upon_intake     object\n",
       "dtype: object"
      ]
     },
     "execution_count": 9,
     "metadata": {},
     "output_type": "execute_result"
    }
   ],
   "source": [
    "intakes.dtypes"
   ]
  },
  {
   "cell_type": "code",
   "execution_count": 10,
   "id": "18e4e361-988f-4ddb-a23c-defeb8281fb2",
   "metadata": {
    "jupyter": {
     "source_hidden": true
    }
   },
   "outputs": [
    {
     "data": {
      "text/plain": [
       "(80160, 12)"
      ]
     },
     "execution_count": 10,
     "metadata": {},
     "output_type": "execute_result"
    }
   ],
   "source": [
    "#removing duplicates from the intakes dataframe\n",
    "intakes.sort_values('animal_id', inplace=True)\n",
    "intakes.drop_duplicates(('age_upon_intake','animal_id','datetime'), keep='last',inplace=True)\n",
    "intakes.shape"
   ]
  },
  {
   "cell_type": "markdown",
   "id": "da712aed-8498-431c-8ba5-f8f72787154f",
   "metadata": {},
   "source": [
    "### Taking a look at the intakes_outcomes dataframe"
   ]
  },
  {
   "cell_type": "code",
   "execution_count": 11,
   "id": "1633fe65-6d19-4993-bedc-2b22065a0803",
   "metadata": {
    "jupyter": {
     "source_hidden": true
    }
   },
   "outputs": [
    {
     "data": {
      "text/html": [
       "<div>\n",
       "<style scoped>\n",
       "    .dataframe tbody tr th:only-of-type {\n",
       "        vertical-align: middle;\n",
       "    }\n",
       "\n",
       "    .dataframe tbody tr th {\n",
       "        vertical-align: top;\n",
       "    }\n",
       "\n",
       "    .dataframe thead th {\n",
       "        text-align: right;\n",
       "    }\n",
       "</style>\n",
       "<table border=\"1\" class=\"dataframe\">\n",
       "  <thead>\n",
       "    <tr style=\"text-align: right;\">\n",
       "      <th></th>\n",
       "      <th>age_upon_outcome</th>\n",
       "      <th>animal_id_outcome</th>\n",
       "      <th>date_of_birth</th>\n",
       "      <th>outcome_subtype</th>\n",
       "      <th>outcome_type</th>\n",
       "      <th>sex_upon_outcome</th>\n",
       "      <th>age_upon_outcome_(days)</th>\n",
       "      <th>age_upon_outcome_(years)</th>\n",
       "      <th>age_upon_outcome_age_group</th>\n",
       "      <th>outcome_datetime</th>\n",
       "      <th>...</th>\n",
       "      <th>age_upon_intake_age_group</th>\n",
       "      <th>intake_datetime</th>\n",
       "      <th>intake_month</th>\n",
       "      <th>intake_year</th>\n",
       "      <th>intake_monthyear</th>\n",
       "      <th>intake_weekday</th>\n",
       "      <th>intake_hour</th>\n",
       "      <th>intake_number</th>\n",
       "      <th>time_in_shelter</th>\n",
       "      <th>time_in_shelter_days</th>\n",
       "    </tr>\n",
       "  </thead>\n",
       "  <tbody>\n",
       "    <tr>\n",
       "      <th>0</th>\n",
       "      <td>10 years</td>\n",
       "      <td>A006100</td>\n",
       "      <td>2007-07-09 00:00:00</td>\n",
       "      <td>NaN</td>\n",
       "      <td>Return to Owner</td>\n",
       "      <td>Neutered Male</td>\n",
       "      <td>3650</td>\n",
       "      <td>10.0</td>\n",
       "      <td>(7.5, 10.0]</td>\n",
       "      <td>2017-12-07 14:07:00</td>\n",
       "      <td>...</td>\n",
       "      <td>(7.5, 10.0]</td>\n",
       "      <td>2017-12-07 00:00:00</td>\n",
       "      <td>12</td>\n",
       "      <td>2017</td>\n",
       "      <td>2017-12</td>\n",
       "      <td>Thursday</td>\n",
       "      <td>14</td>\n",
       "      <td>1.0</td>\n",
       "      <td>0 days 14:07:00.000000000</td>\n",
       "      <td>0.588194</td>\n",
       "    </tr>\n",
       "  </tbody>\n",
       "</table>\n",
       "<p>1 rows × 41 columns</p>\n",
       "</div>"
      ],
      "text/plain": [
       "  age_upon_outcome animal_id_outcome        date_of_birth outcome_subtype  \\\n",
       "0         10 years           A006100  2007-07-09 00:00:00             NaN   \n",
       "\n",
       "      outcome_type sex_upon_outcome  age_upon_outcome_(days)  \\\n",
       "0  Return to Owner    Neutered Male                     3650   \n",
       "\n",
       "   age_upon_outcome_(years) age_upon_outcome_age_group     outcome_datetime  \\\n",
       "0                      10.0                (7.5, 10.0]  2017-12-07 14:07:00   \n",
       "\n",
       "   ...  age_upon_intake_age_group      intake_datetime intake_month  \\\n",
       "0  ...                (7.5, 10.0]  2017-12-07 00:00:00           12   \n",
       "\n",
       "  intake_year  intake_monthyear  intake_weekday  intake_hour  intake_number  \\\n",
       "0        2017           2017-12        Thursday           14            1.0   \n",
       "\n",
       "             time_in_shelter time_in_shelter_days  \n",
       "0  0 days 14:07:00.000000000             0.588194  \n",
       "\n",
       "[1 rows x 41 columns]"
      ]
     },
     "execution_count": 11,
     "metadata": {},
     "output_type": "execute_result"
    }
   ],
   "source": [
    "intakes_outcomes.head(1)"
   ]
  },
  {
   "cell_type": "code",
   "execution_count": 12,
   "id": "fe4bc919-657e-4d7b-ad37-85ad0b106f0e",
   "metadata": {
    "jupyter": {
     "source_hidden": true
    }
   },
   "outputs": [
    {
     "data": {
      "text/plain": [
       "age_upon_outcome              79672\n",
       "animal_id_outcome             79672\n",
       "date_of_birth                 79672\n",
       "outcome_subtype               36348\n",
       "outcome_type                  79662\n",
       "sex_upon_outcome              79671\n",
       "age_upon_outcome_(days)       79672\n",
       "age_upon_outcome_(years)      79672\n",
       "age_upon_outcome_age_group    79672\n",
       "outcome_datetime              79672\n",
       "outcome_month                 79672\n",
       "outcome_year                  79672\n",
       "outcome_monthyear             79672\n",
       "outcome_weekday               79672\n",
       "outcome_hour                  79672\n",
       "outcome_number                79672\n",
       "dob_year                      79672\n",
       "dob_month                     79672\n",
       "dob_monthyear                 79672\n",
       "age_upon_intake               79672\n",
       "animal_id_intake              79672\n",
       "animal_type                   79672\n",
       "breed                         79672\n",
       "color                         79672\n",
       "found_location                79672\n",
       "intake_condition              79672\n",
       "intake_type                   79672\n",
       "sex_upon_intake               79671\n",
       "count                         79672\n",
       "age_upon_intake_(days)        79672\n",
       "age_upon_intake_(years)       79672\n",
       "age_upon_intake_age_group     79672\n",
       "intake_datetime               79672\n",
       "intake_month                  79672\n",
       "intake_year                   79672\n",
       "intake_monthyear              79672\n",
       "intake_weekday                79672\n",
       "intake_hour                   79672\n",
       "intake_number                 79672\n",
       "time_in_shelter               79672\n",
       "time_in_shelter_days          79672\n",
       "dtype: int64"
      ]
     },
     "execution_count": 12,
     "metadata": {},
     "output_type": "execute_result"
    }
   ],
   "source": [
    "intakes_outcomes.count()"
   ]
  },
  {
   "cell_type": "code",
   "execution_count": 13,
   "id": "5a7ab8ef-8e67-4e39-a049-9fb63dbb45d3",
   "metadata": {
    "jupyter": {
     "source_hidden": true
    }
   },
   "outputs": [
    {
     "data": {
      "text/html": [
       "<div>\n",
       "<style scoped>\n",
       "    .dataframe tbody tr th:only-of-type {\n",
       "        vertical-align: middle;\n",
       "    }\n",
       "\n",
       "    .dataframe tbody tr th {\n",
       "        vertical-align: top;\n",
       "    }\n",
       "\n",
       "    .dataframe thead th {\n",
       "        text-align: right;\n",
       "    }\n",
       "</style>\n",
       "<table border=\"1\" class=\"dataframe\">\n",
       "  <thead>\n",
       "    <tr style=\"text-align: right;\">\n",
       "      <th></th>\n",
       "      <th>age_upon_outcome</th>\n",
       "      <th>animal_id_outcome</th>\n",
       "      <th>date_of_birth</th>\n",
       "      <th>outcome_subtype</th>\n",
       "      <th>outcome_type</th>\n",
       "      <th>sex_upon_outcome</th>\n",
       "      <th>age_upon_outcome_(days)</th>\n",
       "      <th>age_upon_outcome_(years)</th>\n",
       "      <th>age_upon_outcome_age_group</th>\n",
       "      <th>outcome_datetime</th>\n",
       "      <th>...</th>\n",
       "      <th>age_upon_intake_age_group</th>\n",
       "      <th>intake_datetime</th>\n",
       "      <th>intake_month</th>\n",
       "      <th>intake_year</th>\n",
       "      <th>intake_monthyear</th>\n",
       "      <th>intake_weekday</th>\n",
       "      <th>intake_hour</th>\n",
       "      <th>intake_number</th>\n",
       "      <th>time_in_shelter</th>\n",
       "      <th>time_in_shelter_days</th>\n",
       "    </tr>\n",
       "  </thead>\n",
       "  <tbody>\n",
       "    <tr>\n",
       "      <th>79671</th>\n",
       "      <td>10 years</td>\n",
       "      <td>A769067</td>\n",
       "      <td>2008-03-29 00:00:00</td>\n",
       "      <td>Suffering</td>\n",
       "      <td>Euthanasia</td>\n",
       "      <td>Spayed Female</td>\n",
       "      <td>3650</td>\n",
       "      <td>10.0</td>\n",
       "      <td>(7.5, 10.0]</td>\n",
       "      <td>2018-03-30 13:52:00</td>\n",
       "      <td>...</td>\n",
       "      <td>(7.5, 10.0]</td>\n",
       "      <td>2018-03-29 18:20:00</td>\n",
       "      <td>3</td>\n",
       "      <td>2018</td>\n",
       "      <td>2018-03</td>\n",
       "      <td>Thursday</td>\n",
       "      <td>18</td>\n",
       "      <td>1.0</td>\n",
       "      <td>0 days 19:32:00.000000000</td>\n",
       "      <td>0.813889</td>\n",
       "    </tr>\n",
       "  </tbody>\n",
       "</table>\n",
       "<p>1 rows × 41 columns</p>\n",
       "</div>"
      ],
      "text/plain": [
       "      age_upon_outcome animal_id_outcome        date_of_birth outcome_subtype  \\\n",
       "79671         10 years           A769067  2008-03-29 00:00:00       Suffering   \n",
       "\n",
       "      outcome_type sex_upon_outcome  age_upon_outcome_(days)  \\\n",
       "79671   Euthanasia    Spayed Female                     3650   \n",
       "\n",
       "       age_upon_outcome_(years) age_upon_outcome_age_group  \\\n",
       "79671                      10.0                (7.5, 10.0]   \n",
       "\n",
       "          outcome_datetime  ...  age_upon_intake_age_group  \\\n",
       "79671  2018-03-30 13:52:00  ...                (7.5, 10.0]   \n",
       "\n",
       "           intake_datetime intake_month intake_year  intake_monthyear  \\\n",
       "79671  2018-03-29 18:20:00            3        2018           2018-03   \n",
       "\n",
       "       intake_weekday  intake_hour  intake_number            time_in_shelter  \\\n",
       "79671        Thursday           18            1.0  0 days 19:32:00.000000000   \n",
       "\n",
       "      time_in_shelter_days  \n",
       "79671             0.813889  \n",
       "\n",
       "[1 rows x 41 columns]"
      ]
     },
     "execution_count": 13,
     "metadata": {},
     "output_type": "execute_result"
    }
   ],
   "source": [
    "intakes_outcomes.tail(1)"
   ]
  },
  {
   "cell_type": "code",
   "execution_count": 14,
   "id": "0ac94d99-9e99-42bb-8cc6-d3a7f0aabbe0",
   "metadata": {
    "jupyter": {
     "source_hidden": true
    }
   },
   "outputs": [
    {
     "data": {
      "text/plain": [
       "79672"
      ]
     },
     "execution_count": 14,
     "metadata": {},
     "output_type": "execute_result"
    }
   ],
   "source": [
    "len(intakes_outcomes)"
   ]
  },
  {
   "cell_type": "code",
   "execution_count": 15,
   "id": "b73e36b4-09f7-4ae3-8ccf-e8de0e6968db",
   "metadata": {
    "jupyter": {
     "source_hidden": true
    }
   },
   "outputs": [
    {
     "data": {
      "text/plain": [
       "'intakes_outcomes dataframe has 79672 rows and  41 columns'"
      ]
     },
     "execution_count": 15,
     "metadata": {},
     "output_type": "execute_result"
    }
   ],
   "source": [
    "rows, columns=intakes_outcomes.shape\n",
    "f'intakes_outcomes dataframe has {rows } rows and  {columns} columns'\n"
   ]
  },
  {
   "cell_type": "code",
   "execution_count": 16,
   "id": "8c0bd96d-d2cc-4476-ae12-323e9b3c8982",
   "metadata": {
    "jupyter": {
     "source_hidden": true
    }
   },
   "outputs": [
    {
     "data": {
      "text/plain": [
       "age_upon_outcome               object\n",
       "animal_id_outcome              object\n",
       "date_of_birth                  object\n",
       "outcome_subtype                object\n",
       "outcome_type                   object\n",
       "sex_upon_outcome               object\n",
       "age_upon_outcome_(days)         int64\n",
       "age_upon_outcome_(years)      float64\n",
       "age_upon_outcome_age_group     object\n",
       "outcome_datetime               object\n",
       "outcome_month                   int64\n",
       "outcome_year                    int64\n",
       "outcome_monthyear              object\n",
       "outcome_weekday                object\n",
       "outcome_hour                    int64\n",
       "outcome_number                float64\n",
       "dob_year                        int64\n",
       "dob_month                       int64\n",
       "dob_monthyear                  object\n",
       "age_upon_intake                object\n",
       "animal_id_intake               object\n",
       "animal_type                    object\n",
       "breed                          object\n",
       "color                          object\n",
       "found_location                 object\n",
       "intake_condition               object\n",
       "intake_type                    object\n",
       "sex_upon_intake                object\n",
       "count                           int64\n",
       "age_upon_intake_(days)          int64\n",
       "age_upon_intake_(years)       float64\n",
       "age_upon_intake_age_group      object\n",
       "intake_datetime                object\n",
       "intake_month                    int64\n",
       "intake_year                     int64\n",
       "intake_monthyear               object\n",
       "intake_weekday                 object\n",
       "intake_hour                     int64\n",
       "intake_number                 float64\n",
       "time_in_shelter                object\n",
       "time_in_shelter_days          float64\n",
       "dtype: object"
      ]
     },
     "execution_count": 16,
     "metadata": {},
     "output_type": "execute_result"
    }
   ],
   "source": [
    "intakes_outcomes.dtypes"
   ]
  },
  {
   "cell_type": "code",
   "execution_count": 17,
   "id": "78df2100-5285-4b4d-9e0e-108e77116b28",
   "metadata": {
    "jupyter": {
     "source_hidden": true
    }
   },
   "outputs": [
    {
     "data": {
      "text/plain": [
       "(79636, 41)"
      ]
     },
     "execution_count": 17,
     "metadata": {},
     "output_type": "execute_result"
    }
   ],
   "source": [
    "# remove duplicates from the intakes_outcomes dataframe\n",
    "\n",
    "intakes_outcomes.sort_values('animal_id_intake', inplace=True)\n",
    "\n",
    "intakes_outcomes.drop_duplicates(('age_upon_outcome','animal_id_intake','animal_id_outcome','date_of_birth','intake_datetime','outcome_datetime'), keep='last',inplace=True)\n",
    "intakes_outcomes.shape\n",
    "#intakes_outcomes[['animal_id_intake','animal_id_outcome']]\n",
    "#intakes_outcomes\n"
   ]
  },
  {
   "cell_type": "code",
   "execution_count": 18,
   "id": "26b80fdd-e79b-4844-ba1d-55884085b445",
   "metadata": {
    "jupyter": {
     "source_hidden": true
    }
   },
   "outputs": [
    {
     "data": {
      "text/plain": [
       "((80160, 12), (80681, 12), (79636, 41))"
      ]
     },
     "execution_count": 18,
     "metadata": {},
     "output_type": "execute_result"
    }
   ],
   "source": [
    "intakes.shape,outcomes.shape, intakes_outcomes.shape"
   ]
  },
  {
   "cell_type": "markdown",
   "id": "273f7d91-b28f-43aa-abe1-48134d4ebab9",
   "metadata": {},
   "source": [
    "### Taking a look at the outcomes dataframe"
   ]
  },
  {
   "cell_type": "code",
   "execution_count": 19,
   "id": "ee647ab1-d26d-4aa8-97c4-e5d728b77dbd",
   "metadata": {},
   "outputs": [
    {
     "data": {
      "text/html": [
       "<div>\n",
       "<style scoped>\n",
       "    .dataframe tbody tr th:only-of-type {\n",
       "        vertical-align: middle;\n",
       "    }\n",
       "\n",
       "    .dataframe tbody tr th {\n",
       "        vertical-align: top;\n",
       "    }\n",
       "\n",
       "    .dataframe thead th {\n",
       "        text-align: right;\n",
       "    }\n",
       "</style>\n",
       "<table border=\"1\" class=\"dataframe\">\n",
       "  <thead>\n",
       "    <tr style=\"text-align: right;\">\n",
       "      <th></th>\n",
       "      <th>age_upon_outcome</th>\n",
       "      <th>animal_id</th>\n",
       "      <th>animal_type</th>\n",
       "      <th>breed</th>\n",
       "      <th>color</th>\n",
       "      <th>date_of_birth</th>\n",
       "      <th>datetime</th>\n",
       "      <th>monthyear</th>\n",
       "      <th>name</th>\n",
       "      <th>outcome_subtype</th>\n",
       "      <th>outcome_type</th>\n",
       "      <th>sex_upon_outcome</th>\n",
       "    </tr>\n",
       "  </thead>\n",
       "  <tbody>\n",
       "    <tr>\n",
       "      <th>0</th>\n",
       "      <td>2 weeks</td>\n",
       "      <td>A684346</td>\n",
       "      <td>Cat</td>\n",
       "      <td>Domestic Shorthair Mix</td>\n",
       "      <td>Orange Tabby</td>\n",
       "      <td>2014-07-07T00:00:00</td>\n",
       "      <td>2014-07-22T16:04:00</td>\n",
       "      <td>2014-07-22T16:04:00</td>\n",
       "      <td>NaN</td>\n",
       "      <td>Partner</td>\n",
       "      <td>Transfer</td>\n",
       "      <td>Intact Male</td>\n",
       "    </tr>\n",
       "  </tbody>\n",
       "</table>\n",
       "</div>"
      ],
      "text/plain": [
       "  age_upon_outcome animal_id animal_type                   breed  \\\n",
       "0          2 weeks   A684346         Cat  Domestic Shorthair Mix   \n",
       "\n",
       "          color        date_of_birth             datetime  \\\n",
       "0  Orange Tabby  2014-07-07T00:00:00  2014-07-22T16:04:00   \n",
       "\n",
       "             monthyear name outcome_subtype outcome_type sex_upon_outcome  \n",
       "0  2014-07-22T16:04:00  NaN         Partner     Transfer      Intact Male  "
      ]
     },
     "execution_count": 19,
     "metadata": {},
     "output_type": "execute_result"
    }
   ],
   "source": [
    "outcomes.head(1) "
   ]
  },
  {
   "cell_type": "code",
   "execution_count": 20,
   "id": "4e4af79b-8ba2-4ec4-ab45-6e7709e558e9",
   "metadata": {},
   "outputs": [
    {
     "data": {
      "text/html": [
       "<div>\n",
       "<style scoped>\n",
       "    .dataframe tbody tr th:only-of-type {\n",
       "        vertical-align: middle;\n",
       "    }\n",
       "\n",
       "    .dataframe tbody tr th {\n",
       "        vertical-align: top;\n",
       "    }\n",
       "\n",
       "    .dataframe thead th {\n",
       "        text-align: right;\n",
       "    }\n",
       "</style>\n",
       "<table border=\"1\" class=\"dataframe\">\n",
       "  <thead>\n",
       "    <tr style=\"text-align: right;\">\n",
       "      <th></th>\n",
       "      <th>age_upon_outcome</th>\n",
       "      <th>animal_id</th>\n",
       "      <th>animal_type</th>\n",
       "      <th>breed</th>\n",
       "      <th>color</th>\n",
       "      <th>date_of_birth</th>\n",
       "      <th>datetime</th>\n",
       "      <th>monthyear</th>\n",
       "      <th>name</th>\n",
       "      <th>outcome_subtype</th>\n",
       "      <th>outcome_type</th>\n",
       "      <th>sex_upon_outcome</th>\n",
       "    </tr>\n",
       "  </thead>\n",
       "  <tbody>\n",
       "    <tr>\n",
       "      <th>80680</th>\n",
       "      <td>1 year</td>\n",
       "      <td>A768726</td>\n",
       "      <td>Dog</td>\n",
       "      <td>Siberian Husky Mix</td>\n",
       "      <td>Brown/White</td>\n",
       "      <td>2017-03-24T00:00:00</td>\n",
       "      <td>2018-04-03T18:36:00</td>\n",
       "      <td>2018-04-03T18:36:00</td>\n",
       "      <td>Sky</td>\n",
       "      <td>NaN</td>\n",
       "      <td>Return to Owner</td>\n",
       "      <td>Intact Female</td>\n",
       "    </tr>\n",
       "  </tbody>\n",
       "</table>\n",
       "</div>"
      ],
      "text/plain": [
       "      age_upon_outcome animal_id animal_type               breed        color  \\\n",
       "80680           1 year   A768726         Dog  Siberian Husky Mix  Brown/White   \n",
       "\n",
       "             date_of_birth             datetime            monthyear name  \\\n",
       "80680  2017-03-24T00:00:00  2018-04-03T18:36:00  2018-04-03T18:36:00  Sky   \n",
       "\n",
       "      outcome_subtype     outcome_type sex_upon_outcome  \n",
       "80680             NaN  Return to Owner    Intact Female  "
      ]
     },
     "execution_count": 20,
     "metadata": {},
     "output_type": "execute_result"
    }
   ],
   "source": [
    "outcomes.tail(1)\n"
   ]
  },
  {
   "cell_type": "code",
   "execution_count": 21,
   "id": "7aa80bdd-3c01-4645-b3d9-06ea6d70b41e",
   "metadata": {},
   "outputs": [
    {
     "data": {
      "text/plain": [
       "(age_upon_outcome    80673\n",
       " animal_id           80681\n",
       " animal_type         80681\n",
       " breed               80681\n",
       " color               80681\n",
       " date_of_birth       80681\n",
       " datetime            80681\n",
       " monthyear           80681\n",
       " name                56116\n",
       " outcome_subtype     36893\n",
       " outcome_type        80667\n",
       " sex_upon_outcome    80679\n",
       " dtype: int64,\n",
       " age_upon_intake     80160\n",
       " animal_id           80160\n",
       " animal_type         80160\n",
       " breed               80160\n",
       " color               80160\n",
       " datetime            80160\n",
       " datetime2           80160\n",
       " found_location      80160\n",
       " intake_condition    80160\n",
       " intake_type         80160\n",
       " name                55585\n",
       " sex_upon_intake     80159\n",
       " dtype: int64,\n",
       " age_upon_outcome              79636\n",
       " animal_id_outcome             79636\n",
       " date_of_birth                 79636\n",
       " outcome_subtype               36332\n",
       " outcome_type                  79626\n",
       " sex_upon_outcome              79635\n",
       " age_upon_outcome_(days)       79636\n",
       " age_upon_outcome_(years)      79636\n",
       " age_upon_outcome_age_group    79636\n",
       " outcome_datetime              79636\n",
       " outcome_month                 79636\n",
       " outcome_year                  79636\n",
       " outcome_monthyear             79636\n",
       " outcome_weekday               79636\n",
       " outcome_hour                  79636\n",
       " outcome_number                79636\n",
       " dob_year                      79636\n",
       " dob_month                     79636\n",
       " dob_monthyear                 79636\n",
       " age_upon_intake               79636\n",
       " animal_id_intake              79636\n",
       " animal_type                   79636\n",
       " breed                         79636\n",
       " color                         79636\n",
       " found_location                79636\n",
       " intake_condition              79636\n",
       " intake_type                   79636\n",
       " sex_upon_intake               79635\n",
       " count                         79636\n",
       " age_upon_intake_(days)        79636\n",
       " age_upon_intake_(years)       79636\n",
       " age_upon_intake_age_group     79636\n",
       " intake_datetime               79636\n",
       " intake_month                  79636\n",
       " intake_year                   79636\n",
       " intake_monthyear              79636\n",
       " intake_weekday                79636\n",
       " intake_hour                   79636\n",
       " intake_number                 79636\n",
       " time_in_shelter               79636\n",
       " time_in_shelter_days          79636\n",
       " dtype: int64)"
      ]
     },
     "execution_count": 21,
     "metadata": {},
     "output_type": "execute_result"
    }
   ],
   "source": [
    "outcomes.count(),intakes.count(), intakes_outcomes.count()"
   ]
  },
  {
   "cell_type": "code",
   "execution_count": 22,
   "id": "d5c2968c-1e54-4fc1-a0d9-12077f243947",
   "metadata": {
    "jupyter": {
     "source_hidden": true
    }
   },
   "outputs": [
    {
     "data": {
      "text/plain": [
       "80681"
      ]
     },
     "execution_count": 22,
     "metadata": {},
     "output_type": "execute_result"
    }
   ],
   "source": [
    "len(outcomes)"
   ]
  },
  {
   "cell_type": "code",
   "execution_count": 23,
   "id": "7a74ea4c-1ecc-4b54-a0b3-44655de8afe7",
   "metadata": {
    "jupyter": {
     "source_hidden": true
    }
   },
   "outputs": [
    {
     "data": {
      "text/plain": [
       "(80681, 12)"
      ]
     },
     "execution_count": 23,
     "metadata": {},
     "output_type": "execute_result"
    }
   ],
   "source": [
    "outcomes.shape"
   ]
  },
  {
   "cell_type": "code",
   "execution_count": null,
   "id": "b55ef506-709e-4ed2-823e-0f0ae196edcd",
   "metadata": {
    "collapsed": true,
    "jupyter": {
     "outputs_hidden": true,
     "source_hidden": true
    }
   },
   "outputs": [],
   "source": []
  },
  {
   "cell_type": "code",
   "execution_count": 24,
   "id": "1cf39f3e-0260-459a-8f2d-b4f87e12061c",
   "metadata": {
    "jupyter": {
     "source_hidden": true
    }
   },
   "outputs": [
    {
     "data": {
      "text/plain": [
       "age_upon_outcome    object\n",
       "animal_id           object\n",
       "animal_type         object\n",
       "breed               object\n",
       "color               object\n",
       "date_of_birth       object\n",
       "datetime            object\n",
       "monthyear           object\n",
       "name                object\n",
       "outcome_subtype     object\n",
       "outcome_type        object\n",
       "sex_upon_outcome    object\n",
       "dtype: object"
      ]
     },
     "execution_count": 24,
     "metadata": {},
     "output_type": "execute_result"
    }
   ],
   "source": [
    "outcomes.dtypes"
   ]
  },
  {
   "cell_type": "code",
   "execution_count": 25,
   "id": "58da7869-91d2-40d5-a733-ef9dfe83cca3",
   "metadata": {
    "jupyter": {
     "source_hidden": true
    }
   },
   "outputs": [
    {
     "data": {
      "text/plain": [
       "((80160, 12), (79636, 41), (80671, 12))"
      ]
     },
     "execution_count": 25,
     "metadata": {},
     "output_type": "execute_result"
    }
   ],
   "source": [
    "#removing the duplicates from the outcomes dataframe\n",
    "outcomes.sort_values('animal_id', inplace=True)\n",
    "outcomes.drop_duplicates(('animal_id','age_upon_outcome','date_of_birth','datetime'), keep='last',inplace=True)\n",
    "\n",
    "intakes.shape, intakes_outcomes.shape, outcomes.shape"
   ]
  },
  {
   "cell_type": "code",
   "execution_count": null,
   "id": "1ed96a88-dcfc-40d9-bdf1-c1d936280c7d",
   "metadata": {
    "collapsed": true,
    "jupyter": {
     "outputs_hidden": true,
     "source_hidden": true
    }
   },
   "outputs": [],
   "source": [
    "\n",
    "\n"
   ]
  },
  {
   "cell_type": "code",
   "execution_count": 26,
   "id": "c577fda5-ba46-4e84-bf36-1554d1c4e760",
   "metadata": {
    "scrolled": true
   },
   "outputs": [
    {
     "data": {
      "text/plain": [
       "100094"
      ]
     },
     "execution_count": 26,
     "metadata": {},
     "output_type": "execute_result"
    }
   ],
   "source": [
    "#merging the intakes and the outcomes dataframes\n",
    "\n",
    "merge_1=intakes.merge(\n",
    "    outcomes,\n",
    "\n",
    "    left_on=[\n",
    "        'animal_id',\n",
    "        'animal_type',\n",
    "        \n",
    "        'breed',\n",
    "        'color',\n",
    "        'name'\n",
    "      \n",
    "       \n",
    "       \n",
    "        \n",
    "    ],\n",
    "    right_on=[\n",
    "        'animal_id',\n",
    "        'animal_type',\n",
    "        \n",
    "        'breed',\n",
    "        'color',\n",
    "        \n",
    "        'name'\n",
    "        \n",
    "       \n",
    "        \n",
    "    ]\n",
    "        \n",
    ")\n",
    "\n",
    "len(merge_1.animal_type=='Livestock')"
   ]
  },
  {
   "cell_type": "code",
   "execution_count": 27,
   "id": "c3a0ca4e-3aed-4e09-946e-57b63e18da0f",
   "metadata": {},
   "outputs": [
    {
     "data": {
      "text/plain": [
       "106345"
      ]
     },
     "execution_count": 27,
     "metadata": {},
     "output_type": "execute_result"
    }
   ],
   "source": [
    "complete_merge=merge_1.merge(\n",
    "    intakes_outcomes,\n",
    "    left_on=[\n",
    "        'animal_id',\n",
    "        'animal_type',\n",
    "        \n",
    "        'breed',\n",
    "        'color',\n",
    "        'found_location'\n",
    "    ]\n",
    "    ,\n",
    "    right_on=[\n",
    "        'animal_id_intake',\n",
    "        'animal_type',\n",
    "        'breed',\n",
    "        'color',\n",
    "        'found_location'  \n",
    "    ]\n",
    "\n",
    ")\n",
    "\n",
    "len(complete_merge.animal_type=='Livetock')"
   ]
  },
  {
   "cell_type": "code",
   "execution_count": null,
   "id": "82c6b2b1-ec7e-4f0f-ab57-96ee891ee660",
   "metadata": {
    "collapsed": true,
    "jupyter": {
     "outputs_hidden": true
    }
   },
   "outputs": [],
   "source": []
  },
  {
   "cell_type": "code",
   "execution_count": 28,
   "id": "a10cb268-2183-45d9-81e4-80559577faf4",
   "metadata": {},
   "outputs": [
    {
     "data": {
      "text/plain": [
       "(79600, 56)"
      ]
     },
     "execution_count": 28,
     "metadata": {},
     "output_type": "execute_result"
    }
   ],
   "source": [
    "\n",
    "complete_merge.sort_values('animal_id', inplace=True)\n",
    "complete_merge.drop_duplicates(('age_upon_intake_x','animal_id','datetime_x'), keep='last',inplace=True)\n",
    "#intakes_outcomes.shape\n",
    "#intakes_outcomes[['animal_id_intake','animal_id_outcome']]\n",
    "complete_merge.shape\n",
    "\n"
   ]
  },
  {
   "cell_type": "markdown",
   "id": "c116e9c8-36bd-42eb-840d-dbae86e3e1cc",
   "metadata": {},
   "source": [
    "## Meets Expections"
   ]
  },
  {
   "cell_type": "markdown",
   "id": "ddfa37ce-48d8-4c1b-8f89-27d3f723a3d4",
   "metadata": {},
   "source": [
    "### 1. Question 1:Is there an area where more pets are found?\n",
    "\n",
    "\n",
    "Find the *top 5 places* _where animals are found_  \n",
    "so the shelter can coordinate with local volunteers and animal control \n",
    "to monitor these areas.\n",
    "\n",
    "**Hint**: Try to __group__ the found locations together.\n"
   ]
  },
  {
   "cell_type": "code",
   "execution_count": 29,
   "id": "fa99aa53-3a39-4f42-bf83-c644a140a9e2",
   "metadata": {},
   "outputs": [
    {
     "name": "stdout",
     "output_type": "stream",
     "text": [
      "The five top locations in Austin are:\n",
      "\n",
      "7201 Levander Loop in Austin (TX) with  514\n",
      "\n",
      "4434 Frontier Trl in Austin (TX) with  162\n",
      "\n",
      "124 W Anderson Ln in Austin (TX) with  152\n",
      "\n",
      "1156 W Cesar Chavez in Austin (TX) with  98\n",
      "\n",
      "12034 Research Blvd in Austin (TX) with  98\n",
      "📗\n"
     ]
    },
    {
     "name": "stderr",
     "output_type": "stream",
     "text": [
      "/tmp/ipykernel_9398/4270975001.py:31: UserWarning: No artists with labels found to put in legend.  Note that artists whose label start with an underscore are ignored when legend() is called with no argument.\n",
      "  plt.legend(loc='upper left')\n"
     ]
    },
    {
     "data": {
      "image/png": "[encoded data removed]",
      "text/plain": [
       "<Figure size 640x480 with 1 Axes>"
      ]
     },
     "metadata": {},
     "output_type": "display_data"
    }
   ],
   "source": [
    "found_locations=complete_merge.groupby('found_location')\n",
    "found_locations_size=found_locations.size()\n",
    "austin_locations=found_locations_size.sort_values(ascending=False)\n",
    "location_list=[]\n",
    "for location in austin_locations.items():\n",
    "    location=location\n",
    "    if 'Austin' in location[0]:\n",
    "        austin_location=location\n",
    "        location_list.append(austin_location)\n",
    "        \n",
    "list_of_locations=[]\n",
    "list_of_totals=[]\n",
    "five_locations=location_list[1:6]\n",
    "print('The five top locations in Austin are:')\n",
    "for location, total in five_locations:\n",
    "    print()\n",
    "    print(f'{location} with  {total}')\n",
    "    list_of_locations.append(location)\n",
    "    list_of_totals.append(total)\n",
    "    \n",
    "    \n",
    "\n",
    "\n",
    "print('\\N{green book}')\n",
    "\n",
    "#graph\n",
    "\n",
    "plt.title('Top 5 places where animals are found in Austin')\n",
    "plt.xlabel('Locations')\n",
    "plt.ylabel('Quantity of animals found')\n",
    "plt.legend(loc='upper left')\n",
    "plt.xticks(rotation=80)\n",
    "\n",
    "plt.bar(list_of_locations, list_of_totals, color=['red', 'orange', 'yellow','royalblue','green'])\n",
    "\n",
    "\n",
    "plt.show()\n",
    "\n",
    "\n",
    "\n"
   ]
  },
  {
   "cell_type": "markdown",
   "id": "a7a09af5-f33e-4e1b-a2bc-3936742e7230",
   "metadata": {
    "jp-MarkdownHeadingCollapsed": true
   },
   "source": [
    "#### Explanation\n",
    "In order to get the 5 top destinations in Austin, I followed the steps below:\n",
    "* Grouped all the elements of the complete_group by the found_location column and stored it in the variable found_locations\n",
    "* Next, I applied the size method to the above mentioned variable so that it provides the series of the total number of rows for all destinations-i.e, how many rows contain the same destination\n",
    "* The values previously  obtained were sorted in descending order\n",
    "* An empty list was created in order to hold the places in Austin that would be extracted in a forecoming  step.\n",
    "* The key and value pairs from the pandas series of the sorted values was looped over and the location temporary variable reassigned to a more permanent variable\n",
    "* inside the loop, I verified if the word 'Austin' was in the first index of the tuple created by looping over the panda series on the previous step, the first index(0) is the one containing the name of the location.\n",
    "* the resulting locations were added to the list created on a previous step\n",
    "* the locations in Ausin where sliced from 1 to 6 as to skip the inital Austin location containing all of Austin, and selecting the 5 actual locations"
   ]
  },
  {
   "cell_type": "markdown",
   "id": "f700f7cf-ba9d-49d1-9fa0-617aa939df62",
   "metadata": {},
   "source": [
    "###  2. Question 2: What is the average number of pets found in a month in the year 2015? Are there months where there is a higher number of animals found?\n",
    "\n",
    "Knowing the number of pets the shelter might see in a month can help them gather enough resources and donations to care for the animals they receive."
   ]
  },
  {
   "cell_type": "code",
   "execution_count": 30,
   "id": "d9f963ce-e7e5-4d19-8ba6-9a49c8216859",
   "metadata": {},
   "outputs": [
    {
     "name": "stdout",
     "output_type": "stream",
     "text": [
      "📗\n",
      "The average number of pets found in a month in 2015 is 1557\n",
      "The months where there are a higher number of animals found are: \n",
      "\n",
      "May 2089\n",
      "\n",
      "June 2192\n",
      "\n",
      "July 1631\n",
      "\n",
      "August 1708\n",
      "\n",
      "September 1594\n",
      "\n",
      "October 1739\n"
     ]
    },
    {
     "name": "stderr",
     "output_type": "stream",
     "text": [
      "/tmp/ipykernel_9398/3984271529.py:69: UserWarning: No artists with labels found to put in legend.  Note that artists whose label start with an underscore are ignored when legend() is called with no argument.\n",
      "  plt.legend(loc='upper right')\n"
     ]
    },
    {
     "data": {
      "image/png": "[encoded data removed]",
      "text/plain": [
       "<Figure size 640x480 with 1 Axes>"
      ]
     },
     "metadata": {},
     "output_type": "display_data"
    }
   ],
   "source": [
    "#select all the records from 2015\n",
    "pets_in_2015=complete_merge[(complete_merge.intake_year==2015)]\n",
    "\n",
    "#group them by month\n",
    "grouped_by_month=pets_in_2015.groupby('intake_month')\n",
    "#find the size for each month\n",
    "count_groups_size=grouped_by_month.size()\n",
    "\n",
    "count_groups_size\n",
    "#  use the sum aggregate to find out the total  of pets in 2015\n",
    "sum_groups_size=count_groups_size.sum()\n",
    "\n",
    "#find the mean\n",
    "average_count_groups=count_groups_size.mean()\n",
    "#find the higher months\n",
    "#higher_mounts=count_groups_size.loc[(count_groups_size.size>average_count_groups)]\n",
    "\n",
    "list_of_months=[]\n",
    "list_of_totals=[]\n",
    "\n",
    "print('\\N{green book}')\n",
    "higher_months=count_groups_size[count_groups_size>average_count_groups]\n",
    "for  month, total  in higher_months.items():\n",
    "    list_of_months.append(month)\n",
    "    list_of_totals.append(total)\n",
    "\n",
    "\n",
    "\n",
    "\n",
    "print(f'The average number of pets found in a month in 2015 is {average_count_groups:.0f}')\n",
    "\n",
    "\n",
    "months={\n",
    "    1:'January',\n",
    "    2:'February',\n",
    "    3:'March',\n",
    "    4:'April',\n",
    "    5:'May',\n",
    "    6:'June',\n",
    "    7:'July',\n",
    "    8:'August',\n",
    "    9:'September',\n",
    "    10:'October',\n",
    "    11:'November',\n",
    "    12:'December'\n",
    "    \n",
    "}\n",
    "print('The months where there are a higher number of animals found are: ')\n",
    "for month, value in higher_months.items():\n",
    "    print()\n",
    "    print(months[month],value) \n",
    "\n",
    "\n",
    "\n",
    "\n",
    "\n",
    "\n",
    "    \n",
    " \n",
    "\n",
    "\n",
    "\n",
    "plt.title('Months with the highest number of animals found')\n",
    "plt.xlabel('Months')\n",
    "plt.ylabel('Number of animals found')\n",
    "\n",
    "plt.xticks([1,2,3,4,5,6,7,8,9,10,11,12],['January', 'February', 'March', 'April', 'May','June', 'July', 'August', 'September','October','November','December' ])\n",
    "plt.plot(list_of_months, list_of_totals,marker='o')\n",
    "plt.legend(loc='upper right')\n",
    "plt.show()\n",
    "  \n",
    "\n"
   ]
  },
  {
   "cell_type": "markdown",
   "id": "61f35b23-0786-4e74-9c15-9efd1535a5a1",
   "metadata": {
    "jp-MarkdownHeadingCollapsed": true
   },
   "source": [
    "####  Explanation\n",
    "\n",
    "* Initially, merged all the dataframes into one called **complete_merge**, from the resulting  dataframe, the __duplicate were  removed__.\n",
    "\n",
    "* After the duplicates were removed, then the  records pertaining only to 2015 were selected form the dataframe into a variable called **pets_in_2015**.\n",
    "\n",
    "\n",
    "* A new variable called **grouped_by_month** was created which held the same dataframe as **pets_in_2015**. only that the ```pd.groupby```\n",
    "method was applied to the dataframe with the argument of intake_month, so that when run, it displays the same data from the **pets_in_2015 dataframe**, only that it will be grouped by months in which the pets were found or as the dataframe calls them intaken.\n",
    "\n",
    "\n",
    "* To the **group_by_month values**, the ```size()``` method was appplied, so that it provided the size for each  of the months and stored in  the **count_groups_size**.\n",
    "\n",
    "\n",
    "* The ```mean()``` method was applied to  the ***count_groups_size*** variable  the so that the average for all months was produced.\n",
    "\n",
    "\n",
    "* __To get the higher month__, I took a look at count_groups_size variable, which holds a ```pandas.core.series.Series```, reviewed which were the highest values and accessed them by their corresponding indexes, that is 5 and 6.\n",
    "* As an additional step, the sum total for all the months,i.e.,how many pets were found in 2015\n",
    "\n"
   ]
  },
  {
   "cell_type": "markdown",
   "id": "82f4017c-b7f2-467d-b515-ea91b1dcc3e2",
   "metadata": {},
   "source": [
    "### 3. Question 3: What is the ratio of incoming pets vs. adopted pets?\n",
    "\n",
    "This key metric helps the shelter know how they are doing\n"
   ]
  },
  {
   "cell_type": "code",
   "execution_count": 31,
   "id": "c8bbaf62-58a1-44c1-b8ed-3bd76862b346",
   "metadata": {},
   "outputs": [
    {
     "name": "stdout",
     "output_type": "stream",
     "text": [
      "The ratio of incoming pets vs. adopted pets is 2.3883\n"
     ]
    }
   ],
   "source": [
    "#target is 2.3\n",
    "\n",
    "## define the incoming pets\n",
    "incoming_pets= complete_merge.count().sum()\n",
    "adopted_pets=complete_merge.loc[(complete_merge.outcome_type_x=='Adoption')].count().sum()\n",
    "ratio=incoming_pets/adopted_pets\n",
    "print(f'The ratio of incoming pets vs. adopted pets is {ratio:.4f}')"
   ]
  },
  {
   "cell_type": "markdown",
   "id": "cfc86033-47da-4702-b636-31e1e4a1e672",
   "metadata": {},
   "source": [
    "#### Explanation\n",
    "\n",
    "In order to find the ratio of incoming pets vs adopted pets the following logic was followed:\n",
    "\n",
    "* A ratio for incoming pets vs adopted pets is to divide the incoming pets by the number of adopted pets \n",
    "* the incoming pets variable selects the entire dataset, counts it and sums it up.\n",
    "* the adopted_pets variable selects all records from the complete_merge dataset that have an outcome type of Adoption, which defines the records for adopted pets, also counts the records and provides the total sum of those records.\n",
    "* the incoming_pets variable is dividing by the adopted_pets variable, providing the result of 2.38 "
   ]
  },
  {
   "cell_type": "markdown",
   "id": "bc9acbdc-87f2-49dc-98d4-865902ebc283",
   "metadata": {},
   "source": [
    "###  4. Question 4: What is the distribution of the types of animals in the shelter?\n",
    "\n",
    "Find the count of each type of animal in the shelter.\n",
    "\n"
   ]
  },
  {
   "cell_type": "code",
   "execution_count": 32,
   "id": "7cb1d30f-d7f0-439e-a7bc-d2aa059ede22",
   "metadata": {},
   "outputs": [
    {
     "name": "stdout",
     "output_type": "stream",
     "text": [
      "the distribution of the type of animales in the shelter is\n",
      "\n",
      "Dog   45728\n",
      "Cat   29651\n",
      "Other   4429\n",
      "Bird   342\n",
      "Livestock   9\n"
     ]
    }
   ],
   "source": [
    "grouped_by_animal_type=intakes.groupby('animal_type')\n",
    "animals_count=grouped_by_animal_type.count()\n",
    "\n",
    "for animal_count in animals_count.items():\n",
    "    animal=animal_count[1]\n",
    " \n",
    "  \n",
    "print('the distribution of the type of animales in the shelter is' )\n",
    "print()\n",
    "   \n",
    "animal=animal.sort_values(ascending=False)\n",
    "\n",
    "for animal_type, dist in animal.items():\n",
    "    print(animal_type,' ', dist)\n",
    "\n",
    "\n",
    "\n"
   ]
  },
  {
   "cell_type": "markdown",
   "id": "c85449d4-1b07-4507-84de-4df5be25c037",
   "metadata": {
    "jp-MarkdownHeadingCollapsed": true
   },
   "source": [
    "#### Explanation\n",
    "\n",
    "For this question, I followed the steps described below\n",
    "\n",
    "\n",
    "1. Grouped the intakes dataframe by animal type and stored it  in grouped_by_animal_type variable\n",
    "2. Applied  the ```count``` method to the result grouped_by_anima_type varibale in order to get the count of the animals by animal type\n",
    "3. looped through the results in order to get the individual animal type count on the index 1 to get values and stored it in the variable animal\n",
    "4. outside of the loop, reassigned the value to a variable where the values were sorted"
   ]
  },
  {
   "cell_type": "markdown",
   "id": "520b9034-6b3b-4eee-a177-8a5efb3ea1d2",
   "metadata": {},
   "source": [
    "### 5. Question 5: What are the adoption rates for specific breeds?\n",
    "\n",
    "Find the top 5 dog breeds in the shelter (based on count) and then find the adoption percentage of each breed.\n"
   ]
  },
  {
   "cell_type": "code",
   "execution_count": 33,
   "id": "f5f69517-7de5-423f-b858-596d8d11a15e",
   "metadata": {},
   "outputs": [
    {
     "name": "stdout",
     "output_type": "stream",
     "text": [
      "****************************************************************************************************\n",
      "\n",
      "* Out of 45,321.00 in the shelter,\n",
      "  20,576.00 dogs  are adopted\n",
      "  this represents a ratio of 0.4540 and \n",
      "  45.40%\n",
      "\n",
      "****************************************************************************************************\n",
      "from all the adopted dogs, these are the top 5 breeds with the highest adoption rates :\n",
      "\n",
      "\n",
      "    * The Labrador Retriever Mix with 2,368.00 adopted dogs which represents\n",
      "     a ratio of 0.11509,\n",
      "     that is a 11.51% out of a 100% of total adopted dogs\n",
      "    \n",
      "\n",
      "    * The Pit Bull Mix with 2,333.00 adopted dogs which represents\n",
      "     a ratio of 0.11338,\n",
      "     that is a 11.34% out of a 100% of total adopted dogs\n",
      "    \n",
      "\n",
      "    * The Chihuahua Shorthair Mix with 2,272.00 adopted dogs which represents\n",
      "     a ratio of 0.11042,\n",
      "     that is a 11.04% out of a 100% of total adopted dogs\n",
      "    \n",
      "\n",
      "    * The German Shepherd Mix with 915.00 adopted dogs which represents\n",
      "     a ratio of 0.04447,\n",
      "     that is a 4.45% out of a 100% of total adopted dogs\n",
      "    \n",
      "\n",
      "    * The Australian Cattle Dog Mix with 610.00 adopted dogs which represents\n",
      "     a ratio of 0.02965,\n",
      "     that is a 2.96% out of a 100% of total adopted dogs\n",
      "    \n",
      "****************************************************************************************************\n",
      "\n",
      "      * From the total of dogs in the shelter , these are the top 5 breeds and their adoption rates: \n",
      "\n",
      "        * The breed Pit Bull Mix which has a total value in 6,253 intakes  has 2,333 dogs adopted\n",
      "          which represents a ratio of 0.3731 and that is a  37.31%\n",
      "          from the total number of intakes for breed Pit Bull Mix\n",
      "        \n",
      "\n",
      "        * The breed Chihuahua Shorthair Mix which has a total value in 4,835 intakes  has 2,272 dogs adopted\n",
      "          which represents a ratio of 0.4699 and that is a  46.99%\n",
      "          from the total number of intakes for breed Chihuahua Shorthair Mix\n",
      "        \n",
      "\n",
      "        * The breed Labrador Retriever Mix which has a total value in 4,780 intakes  has 2,368 dogs adopted\n",
      "          which represents a ratio of 0.4954 and that is a  49.54%\n",
      "          from the total number of intakes for breed Labrador Retriever Mix\n",
      "        \n",
      "\n",
      "        * The breed German Shepherd Mix which has a total value in 1,950 intakes  has 915 dogs adopted\n",
      "          which represents a ratio of 0.4692 and that is a  46.92%\n",
      "          from the total number of intakes for breed German Shepherd Mix\n",
      "        \n",
      "\n",
      "        * The breed Australian Cattle Dog Mix which has a total value in 1,100 intakes  has 610 dogs adopted\n",
      "          which represents a ratio of 0.5545 and that is a  55.45%\n",
      "          from the total number of intakes for breed Australian Cattle Dog Mix\n",
      "        \n",
      "****************************************************************************************************\n"
     ]
    }
   ],
   "source": [
    "# Select the data corresponding to  the animal type dog\n",
    "dogs=complete_merge.loc[(complete_merge.animal_type=='Dog')]\n",
    "\n",
    "#find the total number of dogs\n",
    "total_dogs=len(dogs)\n",
    "#group the dogs by breed \n",
    "grouped_by_breeds=dogs.groupby('breed')\n",
    "\n",
    "\n",
    "#find the count of breeds\n",
    "count_of_breeds=grouped_by_breeds.size()\n",
    "\n",
    "\n",
    "sorted_breeds=count_of_breeds.sort_values(ascending=False)\n",
    "all_breeds_head=sorted_breeds.head(5)\n",
    "\n",
    "\n",
    "#find the adopted ones\n",
    "adopted_dogs=dogs.loc[(dogs.outcome_type_x=='Adoption')]\n",
    "#get the total len of adopted pets\n",
    "total_adopted_dogs=len(adopted_dogs)\n",
    "adopted_grouped_by_breeds=adopted_dogs.groupby('breed')\n",
    "counts_of_adopted=adopted_grouped_by_breeds.size()\n",
    "sorted_adopted=counts_of_adopted.sort_values(ascending=False)\n",
    "adopted_head= sorted_adopted.head(5)\n",
    "\n",
    "\n",
    "print(100*'*')\n",
    "print(f'''\n",
    "* Out of {total_dogs:,.2f} in the shelter,\n",
    "  {total_adopted_dogs:,.2f} dogs  are adopted\n",
    "  this represents a ratio of {total_adopted_dogs/total_dogs:.4f} and \n",
    "  {total_adopted_dogs/total_dogs:.2%}\n",
    "'''\n",
    "     )\n",
    "\n",
    "print(100*'*')\n",
    "\n",
    "\n",
    "print('''from all the adopted dogs, these are the top 5 breeds with the highest adoption rates :''' )\n",
    "print()\n",
    "for breed, value in adopted_head.items():\n",
    "  \n",
    "    most_adopted_ratio=value/total_adopted_dogs\n",
    "    adopted_breed_percentage=most_adopted_ratio*100\n",
    "    print(f'''\n",
    "    * The {breed} with {value:,.2f} adopted dogs which represents\n",
    "     a ratio of {most_adopted_ratio:.5f},\n",
    "     that is a {adopted_breed_percentage:.2f}% out of a 100% of total adopted dogs\n",
    "    ''')\n",
    "\n",
    "\n",
    "print(100*'*')\n",
    "\n",
    "print('''\n",
    "      * From the total of dogs in the shelter , these are the top 5 breeds and their adoption rates: ''')\n",
    "\n",
    "for breed,value in all_breeds_head.items():\n",
    "    value=value\n",
    "    \n",
    "    if breed  in sorted_adopted:\n",
    "       \n",
    "        adopted_value=sorted_adopted[breed]\n",
    "       \n",
    "        specific_breed_ratio=adopted_value/value\n",
    "      \n",
    "        print(f'''\n",
    "        * The breed {breed} which has a total value in {value:,} intakes  has {adopted_value:,} dogs adopted\n",
    "          which represents a ratio of {specific_breed_ratio:.4f} and that is a  {specific_breed_ratio*100:.2f}%\n",
    "          from the total number of intakes for breed {breed}\n",
    "        ''')\n",
    "        \n",
    "print(100*'*')      \n",
    "\n",
    "\n",
    "\n"
   ]
  },
  {
   "cell_type": "markdown",
   "id": "856b8517-8a42-4b62-a5ac-d3318d21c826",
   "metadata": {
    "jp-MarkdownHeadingCollapsed": true
   },
   "source": [
    "### Explanation\n",
    "For question 5 It was decided to present  the adoption rates for each breed in comparison to both the total number of intakes as well as the total number of adopted dogs\n",
    "\n",
    "* As a initial stage the following variables were calculated\n",
    " ```python\n",
    "  dogs=complete_merge.loc[(complete_merge.animal_type=='Dog')]\n",
    "  #find the total number of dogs\n",
    "  total_dogs=len(dogs)\n",
    "  #group the dogs by breed \n",
    "  grouped_by_breeds=dogs.groupby('breed')\n",
    "\n",
    "\n",
    "  #find the count of breeds\n",
    "  count_of_breeds=grouped_by_breeds.size()\n",
    "  sorted_breeds=count_of_breeds.sort_values(ascending=False)\n",
    "  all_breeds_head=sorted_breeds.head(5)\n",
    "  \n",
    "```\n",
    "  Which represent the complete set of animals with an animal type of dog, the total number of records on that     particular selection of data, the grouping of such selection into  the separate  breeds and the size of such    previous grouping, the sorting of such values and finally the 5 top breeds, respectively\n",
    "\n",
    " \n",
    "*Next the data for the adopted dogs is selected by using the following code which selects all the records for adopted dogs, then finds the total number of adopted dogs, groups the adopted dogs records, provides the size of them , sortes them in descending order and finally provides the top 5 from the adopted dogs\n",
    "```python\n",
    "\n",
    "#find the adopted ones\n",
    "adopted_dogs=dogs.loc[(dogs.outcome_type_x=='Adoption')]\n",
    "#get the total len of adopted pets\n",
    "total_adopted_dogs=len(adopted)\n",
    "adopted_grouped_by_breeds=adopted_dogs.groupby('breed')\n",
    "counts_of_adopted=adopted_grouped_by_breeds.size()\n",
    "sorted_adopted=counts_of_adopted.sort_values(ascending=False)\n",
    "adopted_head= sorted_adopted.head(5)\n",
    "```\n",
    "\n",
    "* For the results part, the results were divided in 2 loops, the one below shows the looping through the\n",
    " head of the top adopted dog breeds out of all adopted dogs breed, providing the ratio and the percentage of each breed in relation to all the adopted records\n",
    "\n",
    "```python\n",
    "print('''from all the adopted dogs, these are the top 5 breeds with the highest adoption rates :''' )\n",
    "print()\n",
    "for breed, value in adopted_head.items():\n",
    "  \n",
    "    most_adopted_ratio=value/total_adopted_dogs\n",
    "    adopted_breed_percentage=most_adopted_ratio*100\n",
    "    print(f'''\n",
    "    * The {breed} with {value:,.2f} adopted dogs which represents\n",
    "     a ratio of {most_adopted_ratio:.5f},\n",
    "     that is a {adopted_breed_percentage:.2f}% out of a 100% of total adopted dogs\n",
    "    ''')\n",
    "```\n",
    "\n",
    "Finally,  the code provide below loops through the top 5 results of dog breeds in size,assigns the value to a variable, then checks for a condition which is whether or not a breed from the top five on all dog breeds is  within the adopted dogs data as well and when the condition is met, a new variable is created which holds the value for that particular breed and process it to get the ratio and the corresponding percentage\n",
    "\n",
    "```python\n",
    "    \n",
    "for breed,value in all_breeds_head.items():\n",
    "    value=value\n",
    "    \n",
    "    if breed  in sorted_adopted:\n",
    "       \n",
    "        adopted_value=sorted_adopted[breed]\n",
    "       \n",
    "        specific_breed_ratio=adopted_value/value\n",
    "      \n",
    "        print(f'''\n",
    "        * The breed {breed} which has a total value in {value:,} intakes  has {adopted_value:,} dogs adopted\n",
    "          which represents a ratio of {specific_breed_ratio:.4f} and that is a  {specific_breed_ratio*100:.2f}%\n",
    "          from the total number of intakes for breed {breed}\n",
    "        ''')\n",
    "        \n",
    "print(100*'*')  \n",
    "\n",
    "```\n",
    "\n",
    "\n"
   ]
  },
  {
   "cell_type": "markdown",
   "id": "a01e41e4-dd73-47f1-b2b8-a17bd1170b8f",
   "metadata": {},
   "source": [
    "### 6. Question 6: What are the adoption rates for different colorings?\n",
    "\n",
    "Find the top 5 colorings in the shelter (based on count) and then find the adoption percentage of each color.\n"
   ]
  },
  {
   "cell_type": "code",
   "execution_count": 34,
   "id": "24ec962b-7428-457c-9ab2-5bc1309b8642",
   "metadata": {},
   "outputs": [
    {
     "name": "stdout",
     "output_type": "stream",
     "text": [
      "\n",
      "         * The coloring Black/White which has a total value in 8,261 intakes  has 3,712 animals adopted\n",
      "           which represents a ratio of 0.4493 and that is a  44.93%\n",
      "           from the total number of intakes for coloring Black/White\n",
      "        \n",
      "\n",
      "         * The coloring Black which has a total value in 6,669 intakes  has 2,685 animals adopted\n",
      "           which represents a ratio of 0.4026 and that is a  40.26%\n",
      "           from the total number of intakes for coloring Black\n",
      "        \n",
      "\n",
      "         * The coloring Brown Tabby which has a total value in 4,470 intakes  has 1,863 animals adopted\n",
      "           which represents a ratio of 0.4168 and that is a  41.68%\n",
      "           from the total number of intakes for coloring Brown Tabby\n",
      "        \n",
      "\n",
      "         * The coloring Brown which has a total value in 3,589 intakes  has 788 animals adopted\n",
      "           which represents a ratio of 0.2196 and that is a  21.96%\n",
      "           from the total number of intakes for coloring Brown\n",
      "        \n",
      "\n",
      "         * The coloring White which has a total value in 2,831 intakes  has 1,073 animals adopted\n",
      "           which represents a ratio of 0.3790 and that is a  37.90%\n",
      "           from the total number of intakes for coloring White\n",
      "        \n"
     ]
    }
   ],
   "source": [
    "# Finding the top 5 colorings for all animals\n",
    "## grouping them by color\n",
    "colors=complete_merge.groupby('color')\n",
    "## finding the size-the count of i\n",
    "size_of_colors=colors.size()\n",
    "sorted_colors=size_of_colors.sort_values(ascending=False)\n",
    "sorted_colors_head=sorted_colors.head(5)\n",
    "\n",
    "# Selecting the adopted ones\n",
    "adopted_colors=complete_merge.loc[(complete_merge.outcome_type_x=='Adoption')]\n",
    "adopted_grouped_by_colors=adopted_colors.groupby('color')\n",
    "counts_of_adopted_colors=adopted_grouped_by_colors.size()\n",
    "sorted_adopted_colors=counts_of_adopted_colors.sort_values(ascending=False)\n",
    "\n",
    "## looping  through all animal colors's head \n",
    "for coloring, value in sorted_colors_head.items():\n",
    "    ### saving the value(the count) in a variable\n",
    "    regular_coloring_value=value\n",
    "    ### check if  the record is in the colors for the adopted pets\n",
    "    if coloring in sorted_adopted_colors:\n",
    "        #then, the coloring value is assigned to a variable\n",
    "         adopted_colors_value=sorted_adopted_colors[coloring]\n",
    "         #identified the corresponding ratio\n",
    "         specific_coloring_ratio=adopted_colors_value/value\n",
    "         print(f'''\n",
    "         * The coloring {coloring} which has a total value in {value:,} intakes  has {adopted_colors_value:,} animals adopted\n",
    "           which represents a ratio of {specific_coloring_ratio:.4f} and that is a  {specific_coloring_ratio*100:.2f}%\n",
    "           from the total number of intakes for coloring {coloring}\n",
    "        ''')\n",
    "\n",
    "\n",
    "\n",
    "\n",
    "        \n",
    "    \n",
    "\n"
   ]
  },
  {
   "cell_type": "markdown",
   "id": "8673c395-c5db-452f-bd56-66e72ae87ef4",
   "metadata": {
    "jp-MarkdownHeadingCollapsed": true
   },
   "source": [
    "### Explanation\n",
    "\n",
    "* Selected the top 5 coloring in the entire dataset and grouped them by color\n",
    "* found the size for the series\n",
    "* sorted the coloring in descending colors\n",
    "* selected the 5 top elements\n",
    "* Below is the code for this part of the process\n",
    "\n",
    "  ```python\n",
    "  colors=complete_merge.groupby('color')\n",
    "  ## finding the size-the count of i\n",
    "  size_of_colors=colors.size()\n",
    "  sorted_colors=size_of_colors.sort_values(ascending=False)\n",
    "  sorted_colors_head=sorted_colors.head()\n",
    "  ```\n",
    "\n",
    "*Selected the data contaiing the outocome type of adoption, which in the complete_merge dataframe is represented by the colum 'outcome_type_x' and the value __adoption__\n",
    "*Grouped the adopted pets data  by color.\n",
    "* Found the size of the of the colorings\n",
    "* sorted the values in descending order\n",
    "* The corresponding code may be seen below\n",
    "  \n",
    "\n",
    "  ```python\n",
    "  # Selecting the adopted ones\n",
    "  adopted_colors=complete_merge.loc[(complete_merge.outcome_type_x=='Adoption')]\n",
    "  adopted_grouped_by_colors=adopted_colors.groupby('color')\n",
    "  counts_of_adopted_colors=adopted_grouped_by_colors.size()\n",
    "  sorted_adopted_colors=counts_of_adopted_colors.sort_values(ascending=False)\n",
    "  ```\n",
    "\n",
    "* Looping through the anima color's head.\n",
    "* saving the value (the size) of each element in a  variable\n",
    "* Checking if the color name is in the colors inside the adopted pets data\n",
    "* If so, assigning the data coloring to a new value\n",
    "* Identifying the ratio\n",
    "\n",
    "  ```python\n",
    "\n",
    "   for coloring, value in sorted_colors_head.items():\n",
    "    ### saving the value(the count) in a variable\n",
    "    regular_coloring_value=value\n",
    "    ### check if  the record is in the colors for the adopted pets\n",
    "    if coloring in sorted_adopted_colors:\n",
    "        #then, the coloring value is assigned to a variable\n",
    "         adopted_colors_value=sorted_adopted_colors[coloring]\n",
    "         #identified the corresponding ratio\n",
    "         specific_coloring_ratio=adopted_colors_value/value\n",
    "         print(f'''\n",
    "         * The coloring {coloring} which has a total value in {value:,} intakes  has {adopted_colors_value:,} animals adopted\n",
    "           which represents a ratio of {specific_coloring_ratio:.4f} and that is a  {specific_coloring_ratio*100:.2f}%\n",
    "           from the total number of intakes for coloring {coloring}\n",
    "        ''')\n",
    "\n",
    "\n",
    "   \n",
    "\n",
    "  ```\n",
    "  \n",
    "\n",
    " "
   ]
  },
  {
   "cell_type": "markdown",
   "id": "b119f975-bc3f-4169-867a-ab263b8f4806",
   "metadata": {},
   "source": [
    "### 7. Questions 7: About how many animals are spayed/neutered each month?\n",
    "\n",
    "This will help the shelter allocate resources and staff. Assume that all intact males and females will be spayed/neutered.\n"
   ]
  },
  {
   "cell_type": "code",
   "execution_count": 35,
   "id": "ec5d3f9f-4726-4348-a715-be81f29abcb1",
   "metadata": {},
   "outputs": [
    {
     "name": "stdout",
     "output_type": "stream",
     "text": [
      "an average of 906.96 animals are spayed/neutered each month and the breakdown per month is\n"
     ]
    }
   ],
   "source": [
    "# get all of the sex_upon_intake and intakein one variable\n",
    "all_intakes=complete_merge[['sex_upon_intake_x','intake_monthyear']]\n",
    "# filter all that were still intact, using the str.contains which removes\n",
    "intact = all_intakes[all_intakes['sex_upon_intake_x'].str.contains('Intact', na=False)]\n",
    "intact_groups=intact.groupby('intake_monthyear')\n",
    "intact_groups_size=intact_groups.size()\n",
    "intact_groups_size_mean=intact_groups_size.mean()\n",
    "\n",
    "months={\n",
    "    1:'January',\n",
    "    2:'February',\n",
    "    3:'March',\n",
    "    4:'April',\n",
    "    5:'May',\n",
    "    6:'June',\n",
    "    7:'July',\n",
    "    8:'August',\n",
    "    9:'September',\n",
    "    10:'October',\n",
    "    11:'November',\n",
    "    12:'December'\n",
    "    \n",
    "}\n",
    "\n",
    "\n",
    "print(f'an average of {intact_groups_size_mean:.2f} animals are spayed/neutered each month')\n",
    "\n",
    "\n",
    "#complete_merge\n",
    "  "
   ]
  },
  {
   "cell_type": "markdown",
   "id": "25eb4520-df1d-44bb-ba16-358f74ce3cc0",
   "metadata": {},
   "source": [
    "### Explanation\n",
    "\n",
    "* got all the intakes by using sex_upon_intake_x  and the intake_month columns from the complete merge dataframe  \n",
    "* filtered all that were still intact, using the str.contains which removes na as I was running into a na error when trying to slice the intact records on the dataframe\n",
    "*Grouped the results together using groupby by the intake_month column\n",
    "*Found out the count size of the group\n",
    "*Calculated the mean for the results\n",
    "intact_groups_size_mean=intact_groups_size.mean()\n",
    "\n"
   ]
  },
  {
   "cell_type": "code",
   "execution_count": null,
   "id": "573bef55-dd9b-457c-83eb-9892594d170b",
   "metadata": {},
   "outputs": [],
   "source": []
  },
  {
   "cell_type": "markdown",
   "id": "f6e0cd98-dfb0-4495-ae0c-70fe4c90f7dd",
   "metadata": {
    "jp-MarkdownHeadingCollapsed": true
   },
   "source": [
    "### 8. Questions 8: Describe your findings and methods for each of the above questions. Use markdown cells in JupyterLab to detail.\n",
    "#### Findings\n",
    "1. The five top locations in Austin are:\n",
    "\n",
    "* 7201 Levander Loop in Austin (TX) with  514\n",
    "\n",
    "* 4434 Frontier Trl in Austin (TX) with  162\n",
    "\n",
    "* 124 W Anderson Ln in Austin (TX) with  152\n",
    "\n",
    "* 1156 W Cesar Chavez in Austin (TX) with  98\n",
    "\n",
    "* 12034 Research Blvd in Austin (TX) with  98\n",
    "\n",
    "2. The average number of pets found in a month in 2015 is 1557\n",
    "The months where there are a higher number of animals found are:\n",
    "  * May 2089\n",
    "\n",
    "  * June 2192\n",
    "\n",
    "  * July 1631\n",
    "\n",
    "  * August 1708\n",
    "\n",
    "  * September 1594\n",
    "\n",
    "  * October 1739\n",
    "\n",
    "3. The ratio of incoming pets vs. adopted pets is 2.3883.\n",
    "   \n",
    "4. The distribution of the type of animales in the shelter is\n",
    "* Dog   45728\n",
    "* Cat   29651\n",
    "* Other   4429\n",
    "* Bird   342\n",
    "* Livestock   9\n",
    "5. The adoption rates for specific breeds findings are as follows:\n",
    "\n",
    " \n",
    "\n",
    "* Out of 45,321.00 in the shelter,\n",
    "  20,576.00 dogs  are adopted\n",
    "  this represents a ratio of 0.4540 and \n",
    "  45.40%\n",
    "\n",
    "****************************************************************************************************\n",
    "from all the adopted dogs, these are the top 5 breeds with the highest adoption rates :\n",
    "\n",
    "\n",
    "    * The Labrador Retriever Mix with 2,368.00 adopted dogs which represents\n",
    "     a ratio of 0.11509,\n",
    "     that is a 11.51% out of a 100% of total adopted dogs\n",
    "    \n",
    "\n",
    "    * The Pit Bull Mix with 2,333.00 adopted dogs which represents\n",
    "     a ratio of 0.11338,\n",
    "     that is a 11.34% out of a 100% of total adopted dogs\n",
    "    \n",
    "\n",
    "    * The Chihuahua Shorthair Mix with 2,272.00 adopted dogs which represents\n",
    "     a ratio of 0.11042,\n",
    "     that is a 11.04% out of a 100% of total adopted dogs\n",
    "    \n",
    "\n",
    "    * The German Shepherd Mix with 915.00 adopted dogs which represents\n",
    "     a ratio of 0.04447,\n",
    "     that is a 4.45% out of a 100% of total adopted dogs\n",
    "    \n",
    "\n",
    "    * The Australian Cattle Dog Mix with 610.00 adopted dogs which represents\n",
    "     a ratio of 0.02965,\n",
    "     that is a 2.96% out of a 100% of total adopted dogs\n",
    "    \n",
    "***\n",
    "\n",
    "      * From the total of dogs in the shelter , these are the top 5 breeds and their adoption rates: \n",
    "\n",
    "        * The breed Pit Bull Mix which has a total value in 6,253 intakes  has 2,333 dogs adopted\n",
    "          which represents a ratio of 0.3731 and that is a  37.31%\n",
    "          from the total number of intakes for breed Pit Bull Mix\n",
    "        \n",
    "\n",
    "        * The breed Chihuahua Shorthair Mix which has a total value in 4,835 intakes  has 2,272 dogs adopted\n",
    "          which represents a ratio of 0.4699 and that is a  46.99%\n",
    "          from the total number of intakes for breed Chihuahua Shorthair Mix\n",
    "        \n",
    "\n",
    "        * The breed Labrador Retriever Mix which has a total value in 4,780 intakes  has 2,368 dogs adopted\n",
    "          which represents a ratio of 0.4954 and that is a  49.54%\n",
    "          from the total number of intakes for breed Labrador Retriever Mix\n",
    "        \n",
    "\n",
    "        * The breed German Shepherd Mix which has a total value in 1,950 intakes  has 915 dogs adopted which represents a ratio of 0.4692 and that is a  46.92% from the total number of intakes for breed German Shepherd Mix\n",
    "        \n",
    "\n",
    "        * The breed Australian Cattle Dog Mix which has a total value in 1,100 intakes  has 610 dogs adopted which represents a ratio of 0.5545 and that is a  55.45% from the total number of intakes for breed Australian Cattle Dog Mix\n",
    "\n",
    "6. adoption rates for different colorings:The adoption rates for different colorings are :\n",
    "   * The coloring Black/White which has a total value in 8,261 intakes  has 3,712 animals adopted\n",
    "           which represents a ratio of 0.4493 and that is a  44.93%\n",
    "           from the total number of intakes for coloring Black/White\n",
    "   * The coloring Black which has a total value in 6,669 intakes  has 2,685 animals adopted\n",
    "           which represents a ratio of 0.4026 and that is a  40.26%\n",
    "           from the total number of intakes for coloring Black\n",
    "    * The coloring Brown Tabby which has a total value in 4,470 intakes  has 1,863 animals adopted\n",
    "           which represents a ratio of 0.4168 and that is a  41.68%\n",
    "           from the total number of intakes for coloring Brown Tabby\n",
    "    * The coloring Brown which has a total value in 3,589 intakes  has 788 animals adopted\n",
    "           which represents a ratio of 0.2196 and that is a  21.96%\n",
    "           from the total number of intakes for coloring Brown\n",
    "    * The coloring White which has a total value in 2,831 intakes  has 1,073 animals adopted\n",
    "           which represents a ratio of 0.3790 and that is a  37.90%\n",
    "           from the total number of intakes for coloring White\n",
    "7. An average of 906.96 animals are spayed/neutered each month\n",
    "\n",
    "        \n",
    "  \n",
    "\n",
    "\n",
    "#### Methods \n",
    "1. Top 5 places where animals are found in Austin\n",
    "* Grouped all the elements of the complete_group by the found_location column and stored it in the variable found_locations\n",
    "* Next, I applied the size method to the above mentioned variable so that it provides the series of the total number of rows for all destinations-i.e, how many rows contain the same destination\n",
    "* The values previously  obtained were sorted in descending order\n",
    "* An empty list was created in order to hold the places in Austin that would be extracted in a forecoming  step.\n",
    "* The key and value pairs from the pandas series of the sorted values was looped over and the location temporary variable reassigned to a more permanent variable\n",
    "* inside the loop, I verified if the word 'Austin' was in the first index of the tuple created by looping over the panda series on the previous step, the first index(0) is the one containing the name of the location.\n",
    "* the resulting locations were added to the list created on a previous step\n",
    "* the locations in Ausin where sliced from 1 to 6 as to skip the inital Austin location containing all of Austin, and selecting the 5 actual locations\n",
    "\n",
    "2. * Initially, merged all the dataframes into one called **complete_merge**, from the resulting  dataframe, the __duplicate were  removed__.\n",
    "\n",
    "* After the duplicates were removed, then the  records pertaining only to 2015 were selected form the dataframe into a variable called **pets_in_2015**.\n",
    "\n",
    "\n",
    "* A new variable called **grouped_by_month** was created which held the same dataframe as **pets_in_2015**. only that the ```pd.groupby```\n",
    "method was applied to the dataframe with the argument of intake_month, so that when run, it displays the same data from the **pets_in_2015 dataframe**, only that it will be grouped by months in which the pets were found or as the dataframe calls them intaken.\n",
    "\n",
    "\n",
    "* To the **group_by_month values**, the ```size()``` method was appplied, so that it provided the size for each  of the months and stored in  the **count_groups_size**.\n",
    "\n",
    "\n",
    "* The ```mean()``` method was applied to  the ***count_groups_size*** variable  the so that the average for all months was produced.\n",
    "\n",
    "\n",
    "* __To get the higher month__, I took a look at count_groups_size variable, which holds a ```pandas.core.series.Series```, reviewed which were the highest values and accessed them by their corresponding indexes, that is 5 and 6.\n",
    "* As an additional step, the sum total for all the months,i.e.,how many pets were found in 2015\n",
    "\n",
    "3. In order to find the ratio of incoming pets vs adopted pets the following logic was followed:\n",
    "   * A ratio for incoming pets vs adopted pets is to divide the incoming pets by the number of adopted pets\n",
    "   * The incoming pets variable selects the entire dataset, counts it and sums it up.\n",
    "   * The adopted_pets variable selects all records from the complete_merge dataset that have an outcome type of Adoption, which defines the records for adopted pets, also counts the records and provides the total sum of those records.\n",
    "   * the incoming_pets variable is dividing by the adopted_pets variable, providing the result of 2.38  \n",
    "      \n",
    "4. Distribution of the types of animals in the shelter.\n",
    "* Grouped the intakes dataframe by animal type and stored it  in grouped_by_animal_type variable\n",
    "* Applied  the ```count``` method to the result grouped_by_anima_type varibale in order to get the count of the animals by animal type\n",
    "*. looped through the results in order to get the individual animal type count on the index 1 to get values and stored it in the variable animal\n",
    "*. outside of the loop, reassigned the value to a variable where the values were sorted\n",
    "\n",
    "5. For question 5 It was decided to present  the adoption rates for each breed in comparison to both the total number of intakes as well as the total number of adopted dogs\n",
    "\n",
    "* As a initial stage the following variables were calculated\n",
    " ```python\n",
    "  dogs=complete_merge.loc[(complete_merge.animal_type=='Dog')]\n",
    "  #find the total number of dogs\n",
    "  total_dogs=len(dogs)\n",
    "  #group the dogs by breed \n",
    "  grouped_by_breeds=dogs.groupby('breed')\n",
    "\n",
    "\n",
    "  #find the count of breeds\n",
    "  count_of_breeds=grouped_by_breeds.size()\n",
    "  sorted_breeds=count_of_breeds.sort_values(ascending=False)\n",
    "  all_breeds_head=sorted_breeds.head(5)\n",
    "  \n",
    "```\n",
    "  Which represent the complete set of animals with an animal type of dog, the total number of records on that     particular selection of data, the grouping of such selection into  the separate  breeds and the size of such    previous grouping, the sorting of such values and finally the 5 top breeds, respectively\n",
    "\n",
    " \n",
    "*Next the data for the adopted dogs is selected by using the following code which selects all the records for adopted dogs, then finds the total number of adopted dogs, groups the adopted dogs records, provides the size of them , sortes them in descending order and finally provides the top 5 from the adopted dogs\n",
    "```python\n",
    "\n",
    "#find the adopted ones\n",
    "adopted_dogs=dogs.loc[(dogs.outcome_type_x=='Adoption')]\n",
    "#get the total len of adopted pets\n",
    "total_adopted_dogs=len(adopted)\n",
    "adopted_grouped_by_breeds=adopted_dogs.groupby('breed')\n",
    "counts_of_adopted=adopted_grouped_by_breeds.size()\n",
    "sorted_adopted=counts_of_adopted.sort_values(ascending=False)\n",
    "adopted_head= sorted_adopted.head(5)\n",
    "```\n",
    "\n",
    "* For the results part, the results were divided in 2 loops, the one below shows the looping through the\n",
    " head of the top adopted dog breeds out of all adopted dogs breed, providing the ratio and the percentage of each breed in relation to all the adopted records\n",
    "\n",
    "```python\n",
    "print('''from all the adopted dogs, these are the top 5 breeds with the highest adoption rates :''' )\n",
    "print()\n",
    "for breed, value in adopted_head.items():\n",
    "  \n",
    "    most_adopted_ratio=value/total_adopted_dogs\n",
    "    adopted_breed_percentage=most_adopted_ratio*100\n",
    "    print(f'''\n",
    "    * The {breed} with {value:,.2f} adopted dogs which represents\n",
    "     a ratio of {most_adopted_ratio:.5f},\n",
    "     that is a {adopted_breed_percentage:.2f}% out of a 100% of total adopted dogs\n",
    "    ''')\n",
    "```\n",
    "\n",
    "Finally,  the code provide below loops through the top 5 results of dog breeds in size,assigns the value to a variable, then checks for a condition which is whether or not a breed from the top five on all dog breeds is  within the adopted dogs data as well and when the condition is met, a new variable is created which holds the value for that particular breed and process it to get the ratio and the corresponding percentage\n",
    "\n",
    "```python\n",
    "    \n",
    "for breed,value in all_breeds_head.items():\n",
    "    value=value\n",
    "    \n",
    "    if breed  in sorted_adopted:\n",
    "       \n",
    "        adopted_value=sorted_adopted[breed]\n",
    "       \n",
    "        specific_breed_ratio=adopted_value/value\n",
    "      \n",
    "        print(f'''\n",
    "        * The breed {breed} which has a total value in {value:,} intakes  has {adopted_value:,} dogs adopted\n",
    "          which represents a ratio of {specific_breed_ratio:.4f} and that is a  {specific_breed_ratio*100:.2f}%\n",
    "          from the total number of intakes for breed {breed}\n",
    "        ''')\n",
    "        \n",
    "print(100*'*')  \n",
    "\n",
    "```\n",
    "\n",
    "6. Adoption rates for some colorings\n",
    "* Selected the top 5 coloring in the entire dataset and grouped them by color\n",
    "* found the size for the series\n",
    "* sorted the coloring in descending colors\n",
    "* selected the 5 top elements\n",
    "* Below is the code for this part of the process\n",
    "\n",
    "  ```python\n",
    "  colors=complete_merge.groupby('color')\n",
    "  ## finding the size-the count of i\n",
    "  size_of_colors=colors.size()\n",
    "  sorted_colors=size_of_colors.sort_values(ascending=False)\n",
    "  sorted_colors_head=sorted_colors.head()\n",
    "  ```\n",
    "\n",
    "*Selected the data contaiing the outocome type of adoption, which in the complete_merge dataframe is represented by the colum 'outcome_type_x' and the value __adoption__\n",
    "*Grouped the adopted pets data  by color.\n",
    "* Found the size of the of the colorings\n",
    "* sorted the values in descending order\n",
    "* The corresponding code may be seen below\n",
    "  \n",
    "\n",
    "  ```python\n",
    "  # Selecting the adopted ones\n",
    "  adopted_colors=complete_merge.loc[(complete_merge.outcome_type_x=='Adoption')]\n",
    "  adopted_grouped_by_colors=adopted_colors.groupby('color')\n",
    "  counts_of_adopted_colors=adopted_grouped_by_colors.size()\n",
    "  sorted_adopted_colors=counts_of_adopted_colors.sort_values(ascending=False)\n",
    "  ```\n",
    "\n",
    "* Looping through the anima color's head.\n",
    "* saving the value (the size) of each element in a  variable\n",
    "* Checking if the color name is in the colors inside the adopted pets data\n",
    "* If so, assigning the data coloring to a new value\n",
    "* Identifying the ratio\n",
    "\n",
    "  ```python\n",
    "\n",
    "   for coloring, value in sorted_colors_head.items():\n",
    "    ### saving the value(the count) in a variable\n",
    "    regular_coloring_value=value\n",
    "    ### check if  the record is in the colors for the adopted pets\n",
    "    if coloring in sorted_adopted_colors:\n",
    "        #then, the coloring value is assigned to a variable\n",
    "         adopted_colors_value=sorted_adopted_colors[coloring]\n",
    "         #identified the corresponding ratio\n",
    "         specific_coloring_ratio=adopted_colors_value/value\n",
    "         print(f'''\n",
    "         * The coloring {coloring} which has a total value in {value:,} intakes  has {adopted_colors_value:,} animals adopted\n",
    "           which represents a ratio of {specific_coloring_ratio:.4f} and that is a  {specific_coloring_ratio*100:.2f}%\n",
    "           from the total number of intakes for coloring {coloring}\n",
    "        ''')\n",
    "7. How many animals are spayed/neutered each month?\n",
    "* got all the intakes by using sex_upon_intake_x  and the intake_monthyear columns from the complete merge dataframe  \n",
    "* filtered all that were still intact, using the str.contains which removes na as I was running into a na error when trying to slice the intact records on the dataframe\n",
    "*Grouped the results together using groupby by the intake_monthyear column\n",
    "*Found out the count size of the group\n",
    "*Calculated the mean for the results\n",
    "intact_groups_size_mean=intact_groups_size.mean."
   ]
  },
  {
   "cell_type": "markdown",
   "id": "24be81ee-992c-40be-9f2a-1ab8038d08e7",
   "metadata": {},
   "source": [
    "# Extra Credit"
   ]
  },
  {
   "cell_type": "code",
   "execution_count": null,
   "id": "f294d773-51b1-470a-b9e7-9385626fa2af",
   "metadata": {
    "collapsed": true,
    "jupyter": {
     "outputs_hidden": true,
     "source_hidden": true
    }
   },
   "outputs": [],
   "source": []
  },
  {
   "cell_type": "markdown",
   "id": "8f22dece-624a-4ace-ab76-b71fe9457bf2",
   "metadata": {},
   "source": [
    "\n",
    "###  1. Question 9 How many animals in the shelter are repeats? Which animal was returned to the shelter the most?\n",
    "\n",
    "This means the animal has been brought in more than once.\n"
   ]
  },
  {
   "cell_type": "markdown",
   "id": "957a8935-109b-427b-a0f2-02a97e41e6be",
   "metadata": {},
   "source": [
    "\n",
    "### 2. Question 10: What are the adoption rates for the following age groups?\n",
    "\n",
    "    baby: 4 months and less\n",
    "    young: 5 months - 2 years\n",
    "    adult: 3 years - 10 years\n",
    "    senior: 11+\n",
    "\n"
   ]
  },
  {
   "cell_type": "markdown",
   "id": "e46c7c6c-8c07-42ea-9c86-6c3ff2425dab",
   "metadata": {},
   "source": [
    "### 3. Question 11.If spay/neuter for a dog costs $100 and a spay/neuter for a cat costs $50, how much did the shelter spend in 2015 on these procedures?"
   ]
  },
  {
   "cell_type": "markdown",
   "id": "9b1f06a2-9c64-4940-87b1-942778079881",
   "metadata": {},
   "source": [
    "\n",
    "### 4. Questions 12.Describe your findings and methods for each of the above questions. Use markdown cells in JupyterLab to detail.\n",
    "\n",
    "    -- How did you get your answer?\n",
    "    -- What was your final answer?\n",
    "\n"
   ]
  },
  {
   "cell_type": "code",
   "execution_count": null,
   "id": "05de5bdb-fa76-4e70-92fa-52765ebc73bf",
   "metadata": {
    "collapsed": true,
    "jupyter": {
     "outputs_hidden": true
    }
   },
   "outputs": [],
   "source": []
  },
  {
   "cell_type": "markdown",
   "id": "4a8ef993-5dd1-4298-b0b6-353cf6950ff1",
   "metadata": {},
   "source": [
    "# Bibliograpy\n",
    "![images]\n",
    "\n",
    "[Analyzing Books with Pandas](https://teamtreehouse.com/library/analyzing-books-with-pandas \"link to the course\")"
   ]
  },
  {
   "cell_type": "code",
   "execution_count": null,
   "id": "1525b96c-aa6e-4b88-90c8-7751d81b025c",
   "metadata": {
    "collapsed": true,
    "jupyter": {
     "outputs_hidden": true,
     "source_hidden": true
    }
   },
   "outputs": [],
   "source": []
  },
  {
   "cell_type": "code",
   "execution_count": null,
   "id": "f54c40fb-1acb-47d3-914e-363f73e2690c",
   "metadata": {
    "collapsed": true,
    "jupyter": {
     "outputs_hidden": true,
     "source_hidden": true
    }
   },
   "outputs": [],
   "source": []
  },
  {
   "cell_type": "code",
   "execution_count": null,
   "id": "118da6c4-2649-4e99-971a-b38bb3265f62",
   "metadata": {
    "collapsed": true,
    "jupyter": {
     "outputs_hidden": true
    }
   },
   "outputs": [],
   "source": []
  },
  {
   "cell_type": "code",
   "execution_count": null,
   "id": "d77391c7-5082-4dd8-a261-adc89b4167f2",
   "metadata": {
    "collapsed": true,
    "jupyter": {
     "outputs_hidden": true,
     "source_hidden": true
    }
   },
   "outputs": [],
   "source": []
  },
  {
   "cell_type": "code",
   "execution_count": null,
   "id": "6e12dd50-a260-4094-aab5-701cc91db6b7",
   "metadata": {
    "collapsed": true,
    "jupyter": {
     "outputs_hidden": true,
     "source_hidden": true
    }
   },
   "outputs": [],
   "source": []
  },
  {
   "cell_type": "code",
   "execution_count": null,
   "id": "8706a014-57f6-490b-83c5-1937486a6299",
   "metadata": {},
   "outputs": [],
   "source": []
  },
  {
   "cell_type": "code",
   "execution_count": null,
   "id": "c2c25679-ee62-44c3-8b0d-5eb70fbb03ac",
   "metadata": {},
   "outputs": [],
   "source": []
  },
  {
   "cell_type": "code",
   "execution_count": null,
   "id": "2771613f-a2dc-4103-84de-24629901efc0",
   "metadata": {},
   "outputs": [],
   "source": []
  },
  {
   "cell_type": "code",
   "execution_count": null,
   "id": "9dba6136-1bdf-495f-8c9b-0c95af6785b1",
   "metadata": {},
   "outputs": [],
   "source": []
  },
  {
   "cell_type": "code",
   "execution_count": null,
   "id": "cfc4a2b4-72ad-472f-944c-1067113c8006",
   "metadata": {},
   "outputs": [],
   "source": []
  }
 ],
 "metadata": {
  "kernelspec": {
   "display_name": "Python 3 (ipykernel)",
   "language": "python",
   "name": "python3"
  },
  "language_info": {
   "codemirror_mode": {
    "name": "ipython",
    "version": 3
   },
   "file_extension": ".py",
   "mimetype": "text/x-python",
   "name": "python",
   "nbconvert_exporter": "python",
   "pygments_lexer": "ipython3",
   "version": "3.12.7"
  }
 },
 "nbformat": 4,
 "nbformat_minor": 5
}
