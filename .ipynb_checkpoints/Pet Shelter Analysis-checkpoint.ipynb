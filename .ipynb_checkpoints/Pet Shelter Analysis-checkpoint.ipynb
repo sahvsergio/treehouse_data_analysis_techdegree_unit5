{
 "cells": [
  {
   "cell_type": "markdown",
   "id": "c00611c2-f515-4961-9614-ee6130453119",
   "metadata": {},
   "source": [
    "# Data Analysis Tech Degree Unit 5: Pet Shelter Analysis\n",
    "\n",
    "  ___\n",
    "\n",
    ">Use Python’s Pandas library  to analyze pet shelter data\n",
    ">\n",
    ">to answer important questions for stakeholders. "
   ]
  },
  {
   "cell_type": "markdown",
   "id": "bcb86534-a921-4a92-80f8-f78b7573da9f",
   "metadata": {},
   "source": [
    "## Setting everyything up\n",
    "---\n",
    "\n",
    "In order to start working with the files, we need to import pandas as pd and reading the files\n",
    "\n",
    "``` python\n",
    "#import libraries\n",
    "import pandas as pd \n",
    "#reading the files \n",
    "intakes=pd.read_csv('aac_intakes.csv')\n",
    "intakes_outcomes=pd.read_csv('aac_intakes_outcomes.csv')\n",
    "outcomes=pd.read_csv('aac_outcomes.csv')\n",
    "```\n",
    "so let's do that next \n"
   ]
  },
  {
   "cell_type": "code",
   "execution_count": 2,
   "id": "6630def6-190d-4715-8796-2291b5d433db",
   "metadata": {},
   "outputs": [],
   "source": [
    "#import libraries\n",
    "import pandas as pd "
   ]
  },
  {
   "cell_type": "code",
   "execution_count": 3,
   "id": "80e3399e-6bf4-42b4-91d7-9869b00540fd",
   "metadata": {},
   "outputs": [],
   "source": [
    "#import data\n",
    "intakes=pd.read_csv('aac_intakes.csv')\n",
    "intakes_outcomes=pd.read_csv('aac_intakes_outcomes.csv')\n",
    "outcomes=pd.read_csv('aac_outcomes.csv')"
   ]
  },
  {
   "cell_type": "markdown",
   "id": "ba6fdbbc-b0fd-4570-8837-a0cf6c84d51c",
   "metadata": {},
   "source": [
    "## taking an initial look at the data from the csvs\n",
    "\n",
    "Let's apply the following methods to look at each dataframe for info\n",
    "* `head()`\n",
    "* `tail()`\n",
    "* `len()`\n",
    "* `shape`\n",
    "* `dtypes`"
   ]
  },
  {
   "cell_type": "markdown",
   "id": "40eaccf2-9843-4dc7-ace7-93163ce47fcf",
   "metadata": {},
   "source": [
    "### Taking a look at the intakes dataframe"
   ]
  },
  {
   "cell_type": "code",
   "execution_count": 7,
   "id": "b3ce871e-d8cd-460a-b0f9-4c5ee2289f58",
   "metadata": {},
   "outputs": [
    {
     "data": {
      "text/html": [
       "<div>\n",
       "<style scoped>\n",
       "    .dataframe tbody tr th:only-of-type {\n",
       "        vertical-align: middle;\n",
       "    }\n",
       "\n",
       "    .dataframe tbody tr th {\n",
       "        vertical-align: top;\n",
       "    }\n",
       "\n",
       "    .dataframe thead th {\n",
       "        text-align: right;\n",
       "    }\n",
       "</style>\n",
       "<table border=\"1\" class=\"dataframe\">\n",
       "  <thead>\n",
       "    <tr style=\"text-align: right;\">\n",
       "      <th></th>\n",
       "      <th>age_upon_intake</th>\n",
       "      <th>animal_id</th>\n",
       "      <th>animal_type</th>\n",
       "      <th>breed</th>\n",
       "      <th>color</th>\n",
       "      <th>datetime</th>\n",
       "      <th>datetime2</th>\n",
       "      <th>found_location</th>\n",
       "      <th>intake_condition</th>\n",
       "      <th>intake_type</th>\n",
       "      <th>name</th>\n",
       "      <th>sex_upon_intake</th>\n",
       "    </tr>\n",
       "  </thead>\n",
       "  <tbody>\n",
       "    <tr>\n",
       "      <th>0</th>\n",
       "      <td>8 years</td>\n",
       "      <td>A706918</td>\n",
       "      <td>Dog</td>\n",
       "      <td>English Springer Spaniel</td>\n",
       "      <td>White/Liver</td>\n",
       "      <td>2015-07-05T12:59:00.000</td>\n",
       "      <td>2015-07-05T12:59:00.000</td>\n",
       "      <td>9409 Bluegrass Dr in Austin (TX)</td>\n",
       "      <td>Normal</td>\n",
       "      <td>Stray</td>\n",
       "      <td>Belle</td>\n",
       "      <td>Spayed Female</td>\n",
       "    </tr>\n",
       "  </tbody>\n",
       "</table>\n",
       "</div>"
      ],
      "text/plain": [
       "  age_upon_intake animal_id animal_type                     breed  \\\n",
       "0         8 years   A706918         Dog  English Springer Spaniel   \n",
       "\n",
       "         color                 datetime                datetime2  \\\n",
       "0  White/Liver  2015-07-05T12:59:00.000  2015-07-05T12:59:00.000   \n",
       "\n",
       "                     found_location intake_condition intake_type   name  \\\n",
       "0  9409 Bluegrass Dr in Austin (TX)           Normal       Stray  Belle   \n",
       "\n",
       "  sex_upon_intake  \n",
       "0   Spayed Female  "
      ]
     },
     "execution_count": 7,
     "metadata": {},
     "output_type": "execute_result"
    }
   ],
   "source": [
    "intakes.head(1)"
   ]
  },
  {
   "cell_type": "code",
   "execution_count": 11,
   "id": "28bf4ef7-7f86-4f04-afdf-c75917fb89fe",
   "metadata": {},
   "outputs": [
    {
     "data": {
      "text/html": [
       "<div>\n",
       "<style scoped>\n",
       "    .dataframe tbody tr th:only-of-type {\n",
       "        vertical-align: middle;\n",
       "    }\n",
       "\n",
       "    .dataframe tbody tr th {\n",
       "        vertical-align: top;\n",
       "    }\n",
       "\n",
       "    .dataframe thead th {\n",
       "        text-align: right;\n",
       "    }\n",
       "</style>\n",
       "<table border=\"1\" class=\"dataframe\">\n",
       "  <thead>\n",
       "    <tr style=\"text-align: right;\">\n",
       "      <th></th>\n",
       "      <th>age_upon_intake</th>\n",
       "      <th>animal_id</th>\n",
       "      <th>animal_type</th>\n",
       "      <th>breed</th>\n",
       "      <th>color</th>\n",
       "      <th>datetime</th>\n",
       "      <th>datetime2</th>\n",
       "      <th>found_location</th>\n",
       "      <th>intake_condition</th>\n",
       "      <th>intake_type</th>\n",
       "      <th>name</th>\n",
       "      <th>sex_upon_intake</th>\n",
       "    </tr>\n",
       "  </thead>\n",
       "  <tbody>\n",
       "    <tr>\n",
       "      <th>80186</th>\n",
       "      <td>1 year</td>\n",
       "      <td>A680949</td>\n",
       "      <td>Dog</td>\n",
       "      <td>Chihuahua Shorthair/Beagle</td>\n",
       "      <td>Tan</td>\n",
       "      <td>2014-06-10T11:53:00.000</td>\n",
       "      <td>2014-06-10T11:53:00.000</td>\n",
       "      <td>4605 Lyra Cir in Austin (TX)</td>\n",
       "      <td>Normal</td>\n",
       "      <td>Stray</td>\n",
       "      <td>Lolo</td>\n",
       "      <td>Intact Male</td>\n",
       "    </tr>\n",
       "  </tbody>\n",
       "</table>\n",
       "</div>"
      ],
      "text/plain": [
       "      age_upon_intake animal_id animal_type                       breed color  \\\n",
       "80186          1 year   A680949         Dog  Chihuahua Shorthair/Beagle   Tan   \n",
       "\n",
       "                      datetime                datetime2  \\\n",
       "80186  2014-06-10T11:53:00.000  2014-06-10T11:53:00.000   \n",
       "\n",
       "                     found_location intake_condition intake_type  name  \\\n",
       "80186  4605 Lyra Cir in Austin (TX)           Normal       Stray  Lolo   \n",
       "\n",
       "      sex_upon_intake  \n",
       "80186     Intact Male  "
      ]
     },
     "execution_count": 11,
     "metadata": {},
     "output_type": "execute_result"
    }
   ],
   "source": [
    "intakes.tail(1)"
   ]
  },
  {
   "cell_type": "code",
   "execution_count": 13,
   "id": "9566c6c1-5897-4c81-83bf-4e1e3ff532ba",
   "metadata": {},
   "outputs": [
    {
     "data": {
      "text/plain": [
       "80187"
      ]
     },
     "execution_count": 13,
     "metadata": {},
     "output_type": "execute_result"
    }
   ],
   "source": [
    "len(intakes)"
   ]
  },
  {
   "cell_type": "code",
   "execution_count": 17,
   "id": "31d9c99f-7ce1-4130-949a-0d8f05116234",
   "metadata": {},
   "outputs": [
    {
     "data": {
      "text/plain": [
       "'intakes has 80187 rows and 12 columns'"
      ]
     },
     "execution_count": 17,
     "metadata": {},
     "output_type": "execute_result"
    }
   ],
   "source": [
    "rows, columns=intakes.shape\n",
    "f'intakes has {rows} rows and {columns} columns'\n"
   ]
  },
  {
   "cell_type": "markdown",
   "id": "da712aed-8498-431c-8ba5-f8f72787154f",
   "metadata": {},
   "source": [
    "### Taking a look at the intakes_outcomes dataframe"
   ]
  },
  {
   "cell_type": "code",
   "execution_count": null,
   "id": "1633fe65-6d19-4993-bedc-2b22065a0803",
   "metadata": {},
   "outputs": [],
   "source": [
    "intakes_outcomes."
   ]
  },
  {
   "cell_type": "markdown",
   "id": "c116e9c8-36bd-42eb-840d-dbae86e3e1cc",
   "metadata": {},
   "source": [
    "## Meets Expections"
   ]
  },
  {
   "cell_type": "markdown",
   "id": "ddfa37ce-48d8-4c1b-8f89-27d3f723a3d4",
   "metadata": {
    "jp-MarkdownHeadingCollapsed": true
   },
   "source": [
    "## Question 1:Is there an area where more pets are found?\n",
    "\n",
    "\n",
    "Find the *top 5 places* _where animals are found_  \n",
    "so the shelter can coordinate with local volunteers and animal control \n",
    "to monitor these areas.\n",
    "\n",
    "**Hint**: Try to __group__ the found locations together.\n"
   ]
  },
  {
   "cell_type": "markdown",
   "id": "f700f7cf-ba9d-49d1-9fa0-617aa939df62",
   "metadata": {},
   "source": [
    "##  Question 2: What is the average number of pets found in a month in the year 2015? Are there months where there is a higher number of animals found?\n",
    "\n",
    "Knowing the number of pets the shelter might see in a month can help them gather enough resources and donations to care for the animals they receive."
   ]
  },
  {
   "cell_type": "markdown",
   "id": "82f4017c-b7f2-467d-b515-ea91b1dcc3e2",
   "metadata": {},
   "source": [
    "\n",
    "## Question 3: What is the ratio of incoming pets vs. adopted pets?\n",
    "\n",
    "This key metric helps the shelter know how they are doing.\n"
   ]
  },
  {
   "cell_type": "markdown",
   "id": "bc9acbdc-87f2-49dc-98d4-865902ebc283",
   "metadata": {},
   "source": [
    "##  Question 4: What is the distribution of the types of animals in the shelter?\n",
    "\n",
    "Find the count of each type of animal in the shelter.\n"
   ]
  },
  {
   "cell_type": "markdown",
   "id": "520b9034-6b3b-4eee-a177-8a5efb3ea1d2",
   "metadata": {},
   "source": [
    "\n",
    "## Question 5: What are the adoption rates for specific breeds?\n",
    "\n",
    "Find the top 5 dog breeds in the shelter (based on count) and then find the adoption percentage of each breed.\n"
   ]
  },
  {
   "cell_type": "markdown",
   "id": "a01e41e4-dd73-47f1-b2b8-a17bd1170b8f",
   "metadata": {},
   "source": [
    "\n",
    "## Question 6: What are the adoption rates for different colorings?\n",
    "\n",
    "Find the top 5 colorings in the shelter (based on count) and then find the adoption percentage of each color.\n"
   ]
  },
  {
   "cell_type": "markdown",
   "id": "b119f975-bc3f-4169-867a-ab263b8f4806",
   "metadata": {},
   "source": [
    "\n",
    "## Questions 7: About how many animals are spayed/neutered each month?\n",
    "\n",
    "This will help the shelter allocate resources and staff. Assume that all intact males and females will be spayed/neutered.\n"
   ]
  },
  {
   "cell_type": "markdown",
   "id": "f6e0cd98-dfb0-4495-ae0c-70fe4c90f7dd",
   "metadata": {},
   "source": [
    "## Questions 8: Describe your findings and methods for each of the above questions. Use markdown cells in JupyterLab to detail.\n",
    "### Findings\n",
    "1. Hello\n",
    "### Methods \n",
    "\n",
    "```python\n",
    "def hello()\n",
    "```"
   ]
  },
  {
   "cell_type": "markdown",
   "id": "24be81ee-992c-40be-9f2a-1ab8038d08e7",
   "metadata": {},
   "source": [
    "# Extra Credit"
   ]
  },
  {
   "cell_type": "code",
   "execution_count": null,
   "id": "f294d773-51b1-470a-b9e7-9385626fa2af",
   "metadata": {},
   "outputs": [],
   "source": []
  },
  {
   "cell_type": "markdown",
   "id": "8f22dece-624a-4ace-ab76-b71fe9457bf2",
   "metadata": {},
   "source": [
    "\n",
    "##  Question 9 How many animals in the shelter are repeats? Which animal was returned to the shelter the most?\n",
    "\n",
    "This means the animal has been brought in more than once.\n"
   ]
  },
  {
   "cell_type": "markdown",
   "id": "957a8935-109b-427b-a0f2-02a97e41e6be",
   "metadata": {},
   "source": [
    "\n",
    "## Question 10: What are the adoption rates for the following age groups?\n",
    "\n",
    "    baby: 4 months and less\n",
    "    young: 5 months - 2 years\n",
    "    adult: 3 years - 10 years\n",
    "    senior: 11+\n",
    "\n"
   ]
  },
  {
   "cell_type": "markdown",
   "id": "e46c7c6c-8c07-42ea-9c86-6c3ff2425dab",
   "metadata": {},
   "source": [
    "## Question 11.If spay/neuter for a dog costs $100 and a spay/neuter for a cat costs $50, how much did the shelter spend in 2015 on these procedures?"
   ]
  },
  {
   "cell_type": "markdown",
   "id": "9b1f06a2-9c64-4940-87b1-942778079881",
   "metadata": {},
   "source": [
    "\n",
    "## Questions 12.Describe your findings and methods for each of the above questions. Use markdown cells in JupyterLab to detail.\n",
    "\n",
    "    How did you get your answer?\n",
    "    What was your final answer?\n",
    "\n"
   ]
  },
  {
   "cell_type": "code",
   "execution_count": null,
   "id": "05de5bdb-fa76-4e70-92fa-52765ebc73bf",
   "metadata": {},
   "outputs": [],
   "source": []
  },
  {
   "cell_type": "markdown",
   "id": "4a8ef993-5dd1-4298-b0b6-353cf6950ff1",
   "metadata": {},
   "source": [
    "# Bibliograpy\n",
    "![images]\n",
    "\n",
    "[Analyzing Books with Pandas](https://teamtreehouse.com/library/analyzing-books-with-pandas \"link to the course\")"
   ]
  },
  {
   "cell_type": "code",
   "execution_count": null,
   "id": "1525b96c-aa6e-4b88-90c8-7751d81b025c",
   "metadata": {},
   "outputs": [],
   "source": []
  },
  {
   "cell_type": "code",
   "execution_count": null,
   "id": "f54c40fb-1acb-47d3-914e-363f73e2690c",
   "metadata": {},
   "outputs": [],
   "source": []
  }
 ],
 "metadata": {
  "kernelspec": {
   "display_name": "Python 3 (ipykernel)",
   "language": "python",
   "name": "python3"
  },
  "language_info": {
   "codemirror_mode": {
    "name": "ipython",
    "version": 3
   },
   "file_extension": ".py",
   "mimetype": "text/x-python",
   "name": "python",
   "nbconvert_exporter": "python",
   "pygments_lexer": "ipython3",
   "version": "3.12.7"
  }
 },
 "nbformat": 4,
 "nbformat_minor": 5
}
