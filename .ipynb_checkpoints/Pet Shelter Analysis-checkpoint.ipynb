{
 "cells": [
  {
   "cell_type": "markdown",
   "id": "c116e9c8-36bd-42eb-840d-dbae86e3e1cc",
   "metadata": {},
   "source": [
    "# Meets Expections"
   ]
  },
  {
   "cell_type": "markdown",
   "id": "ddfa37ce-48d8-4c1b-8f89-27d3f723a3d4",
   "metadata": {},
   "source": [
    "## Question 1:Is there an area where more pets are found?\n",
    "\n",
    "Find the top 5 places where animals are found so the shelter can coordinate with local volunteers and animal control to monitor these areas.\n",
    "\n",
    "Hint: Try to group the found locations together.\n"
   ]
  },
  {
   "cell_type": "markdown",
   "id": "f700f7cf-ba9d-49d1-9fa0-617aa939df62",
   "metadata": {},
   "source": [
    "##  Question 2: What is the average number of pets found in a month in the year 2015? Are there months where there is a higher number of animals found?\n",
    "\n",
    "Knowing the number of pets the shelter might see in a month can help them gather enough resources and donations to care for the animals they receive."
   ]
  },
  {
   "cell_type": "markdown",
   "id": "82f4017c-b7f2-467d-b515-ea91b1dcc3e2",
   "metadata": {},
   "source": [
    "\n",
    "## Question 3: What is the ratio of incoming pets vs. adopted pets?\n",
    "\n",
    "This key metric helps the shelter know how they are doing.\n"
   ]
  },
  {
   "cell_type": "markdown",
   "id": "bc9acbdc-87f2-49dc-98d4-865902ebc283",
   "metadata": {},
   "source": [
    "##  Question 4: What is the distribution of the types of animals in the shelter?\n",
    "\n",
    "Find the count of each type of animal in the shelter.\n"
   ]
  },
  {
   "cell_type": "markdown",
   "id": "520b9034-6b3b-4eee-a177-8a5efb3ea1d2",
   "metadata": {},
   "source": [
    "\n",
    "## Question 5: What are the adoption rates for specific breeds?\n",
    "\n",
    "Find the top 5 dog breeds in the shelter (based on count) and then find the adoption percentage of each breed.\n"
   ]
  },
  {
   "cell_type": "markdown",
   "id": "a01e41e4-dd73-47f1-b2b8-a17bd1170b8f",
   "metadata": {},
   "source": [
    "\n",
    "## Question 6: What are the adoption rates for different colorings?\n",
    "\n",
    "Find the top 5 colorings in the shelter (based on count) and then find the adoption percentage of each color.\n"
   ]
  },
  {
   "cell_type": "markdown",
   "id": "b119f975-bc3f-4169-867a-ab263b8f4806",
   "metadata": {},
   "source": [
    "\n",
    "## Questions 7: About how many animals are spayed/neutered each month?\n",
    "\n",
    "This will help the shelter allocate resources and staff. Assume that all intact males and females will be spayed/neutered.\n"
   ]
  },
  {
   "cell_type": "markdown",
   "id": "f6e0cd98-dfb0-4495-ae0c-70fe4c90f7dd",
   "metadata": {},
   "source": [
    "## Questions 8 Describe your findings and methods for each of the above questions. Use markdown cells in JupyterLab to detail."
   ]
  },
  {
   "cell_type": "code",
   "execution_count": null,
   "id": "a55cbf8f-bb0d-4e39-8174-5af9ef1e28fd",
   "metadata": {},
   "outputs": [],
   "source": []
  }
 ],
 "metadata": {
  "kernelspec": {
   "display_name": "Python 3 (ipykernel)",
   "language": "python",
   "name": "python3"
  },
  "language_info": {
   "codemirror_mode": {
    "name": "ipython",
    "version": 3
   },
   "file_extension": ".py",
   "mimetype": "text/x-python",
   "name": "python",
   "nbconvert_exporter": "python",
   "pygments_lexer": "ipython3",
   "version": "3.12.7"
  }
 },
 "nbformat": 4,
 "nbformat_minor": 5
}
